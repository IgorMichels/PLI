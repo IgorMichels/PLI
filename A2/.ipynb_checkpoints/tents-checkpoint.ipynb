{
 "cells": [
  {
   "cell_type": "markdown",
   "id": "fc10313b",
   "metadata": {},
   "source": [
    "Vou resolver o jogo Tents, o qual pode ser visto [aqui](https://www.puzzle-tents.com). Nele começamos com um tabuleiro com algumas árvores e algumas restrições sobre a quantidade de barracas que devem ser alocadas em cada linha e em cada coluna. Além disso, devemos satisfazer duas restrições:\n",
    " - as barracas devem ser alocadas ao redor das árvores (em cima, embaixo, à esquerda ou à direita), de modo que haja uma relação de 1 para 1 (cada árvore tenha uma barraca e cada barraca tenha uma árvore) e;\n",
    " - duas barracas não podem ser vizinhas, nem mesmo diagonalmente.\n",
    "\n",
    "Para a resolução vou utilizar o JuMP e o solver GLPK."
   ]
  },
  {
   "cell_type": "code",
   "execution_count": 1,
   "id": "dd4eef6f",
   "metadata": {},
   "outputs": [
    {
     "name": "stderr",
     "output_type": "stream",
     "text": [
      "┌ Info: Precompiling JuMP [4076af6c-e467-56ae-b986-b466b2749572]\n",
      "└ @ Base loading.jl:1317\n"
     ]
    }
   ],
   "source": [
    "using JuMP;\n",
    "using GLPK;"
   ]
  },
  {
   "cell_type": "markdown",
   "id": "e079c0c2",
   "metadata": {},
   "source": [
    "Vou definir uma função para printar o resultado."
   ]
  },
  {
   "cell_type": "code",
   "execution_count": 2,
   "id": "9e6fea7a",
   "metadata": {},
   "outputs": [],
   "source": [
    "function print_solution(solution)\n",
    "    n_row, n_col = size(solution);\n",
    "    for i in 1:n_row\n",
    "        line = \"\";\n",
    "        for j in 1:n_col\n",
    "            if solution[i, j, 2] == 1\n",
    "                line *= ['🌲', '🌳', '🌴'][rand(1:3)];\n",
    "            elseif solution[i, j, 1] == 1\n",
    "                line *= '⛺';\n",
    "            else\n",
    "                line *= '⬜';\n",
    "            end\n",
    "        end\n",
    "        println(line);\n",
    "    end\n",
    "end;"
   ]
  },
  {
   "cell_type": "markdown",
   "id": "edb63c5e",
   "metadata": {},
   "source": [
    "E definir uma função para resolver o jogo."
   ]
  },
  {
   "cell_type": "code",
   "execution_count": 3,
   "id": "fb870835",
   "metadata": {
    "scrolled": true
   },
   "outputs": [],
   "source": [
    "function solve_tents(T, R, C)\n",
    "    n_row = size(R)[1];\n",
    "    n_col = size(C)[1];\n",
    "    game = Model(GLPK.Optimizer);\n",
    "    @variable(game, board[1:n_row, 1:n_col, 1:2], Bin);\n",
    "    \n",
    "    # posicionando as árvores\n",
    "    for i  in 1:n_row\n",
    "        for j in 1:n_row\n",
    "            # impedindo que uma barraca esteja na mesma posição de uma árvore\n",
    "            @constraint(game, board[i, j, 1] + board[i, j, 2] <= 1)\n",
    "            \n",
    "            if [i, j] in T\n",
    "                @constraint(game, board[i, j, 2] == 1)\n",
    "            else\n",
    "                @constraint(game, board[i, j, 2] == 0)\n",
    "            end\n",
    "        end\n",
    "    end\n",
    "    \n",
    "    for i in 1:n_row\n",
    "        # restringindo a quantidade de barracas numa linha\n",
    "        @constraint(game, sum(board[i, j, 1] for j in 1:n_col) == R[i]);\n",
    "    end\n",
    "\n",
    "    for j in 1:n_col\n",
    "        # restringindo a quantidade de barracas numa coluna\n",
    "        @constraint(game, sum(board[i, j, 1] for i in 1:n_row) == C[j]);\n",
    "    end\n",
    "    \n",
    "    for i in 1:n_row\n",
    "        for j in 1:n_col\n",
    "            # duas barracas não podem ser vizinhas\n",
    "            @constraint(game, sum(if k == 0 && l == 0 4 * board[i, j, 1]\n",
    "                                  else board[i + k, j + l, 1] end\n",
    "                                      for k in [-1, 0, 1],\n",
    "                                          l in [-1, 0, 1]\n",
    "                                          if i + k in 1:n_row &&\n",
    "                                             j + l in 1:n_col) <= 4);\n",
    "            \n",
    "            # ao redor de cada barraca deve ter pelo menos uma árvore\n",
    "            @constraint(game, sum(board[i + k, j + l, 2]\n",
    "                                  for k in [-1, 0, 1],\n",
    "                                      l in [-1, 0, 1]\n",
    "                                      if abs(k) + abs(l) == 1 &&\n",
    "                                         i + k in 1:n_row &&\n",
    "                                         j + l in 1:n_col) >= board[i, j, 1]);\n",
    "            \n",
    "            # ao redor de cada árvore deve ter pelo menos uma barraca\n",
    "            @constraint(game, sum(board[i + k, j + l, 1]\n",
    "                                  for k in [-1, 0, 1],\n",
    "                                      l in [-1, 0, 1]\n",
    "                                      if abs(k) + abs(l) == 1 &&\n",
    "                                         i + k in 1:n_row &&\n",
    "                                         j + l in 1:n_col) >= board[i, j, 2]);\n",
    "        end\n",
    "    end\n",
    "    \n",
    "    optimize!(game);\n",
    "    return JuMP.value.(board);\n",
    "end;"
   ]
  },
  {
   "cell_type": "markdown",
   "id": "3b3b5d26",
   "metadata": {},
   "source": [
    "Agora, vamos colocar a função para rodar:"
   ]
  },
  {
   "cell_type": "code",
   "execution_count": 4,
   "id": "45fe739e",
   "metadata": {},
   "outputs": [
    {
     "name": "stdout",
     "output_type": "stream",
     "text": [
      "⬜⬜⬜⬜⛺⬜\n",
      "⛺⬜⬜⬜🌲⬜\n",
      "🌳⬜⬜⬜🌲⬜\n",
      "⬜⬜⛺🌴⛺⬜\n",
      "⬜⬜🌲⬜⬜⬜\n",
      "⛺🌴⛺⬜🌳⛺\n"
     ]
    }
   ],
   "source": [
    "T = [[2, 5], [3, 1], [3, 5], [4, 4],\n",
    "     [5, 3], [6, 2], [6, 5]]; # árvores\n",
    "\n",
    "R = [1, 1, 0, 2, 0, 3]; # linhas\n",
    "C = [2, 0, 2, 0, 2, 1]; # colunas\n",
    "print_solution(solve_tents(T, R, C));"
   ]
  },
  {
   "cell_type": "code",
   "execution_count": 5,
   "id": "6dee5b08",
   "metadata": {},
   "outputs": [
    {
     "name": "stdout",
     "output_type": "stream",
     "text": [
      "⛺⬜🌴⛺⬜⬜⛺🌴\n",
      "🌲⬜⬜🌴⬜⬜⬜⬜\n",
      "⬜🌳⬜⛺🌴⛺⬜⬜\n",
      "⬜⛺⬜⬜⬜⬜⬜⛺\n",
      "⬜🌲⬜🌲⛺⬜⬜🌴\n",
      "⬜⛺⬜🌴⬜⬜⬜⬜\n",
      "⬜⬜⬜⛺⬜🌴⛺⬜\n",
      "⛺🌴⬜⬜⬜⬜⬜⬜\n"
     ]
    }
   ],
   "source": [
    "T = [[1, 3], [1, 8], [2, 1], [2, 4], [3, 2], [3, 5],\n",
    "     [5, 2], [5, 4], [5, 8], [6, 4], [7, 6], [8, 2]]; # árvores\n",
    "\n",
    "R = [3, 0, 2, 2, 1, 1, 2, 1]; # linhas\n",
    "C = [2, 2, 0, 3, 1, 1, 2, 1]; # colunas\n",
    "print_solution(solve_tents(T, R, C));"
   ]
  },
  {
   "cell_type": "code",
   "execution_count": 6,
   "id": "25a6e7d1",
   "metadata": {},
   "outputs": [
    {
     "name": "stdout",
     "output_type": "stream",
     "text": [
      "⛺🌳⛺⬜⬜⬜⬜⛺⬜🌴⬜⛺🌲⛺⬜\n",
      "🌴⬜⬜⬜⬜⛺🌴🌲⬜⛺⬜🌲🌳⬜⬜\n",
      "⬜⬜⬜⬜🌳⬜⬜⬜⬜⬜🌴⬜⛺⬜⬜\n",
      "⛺🌴⛺⬜⛺🌴⛺⬜⬜⬜⛺⬜⬜⬜⬜\n",
      "🌴⬜🌲⬜⬜⬜⬜⬜⛺⬜⬜🌲⬜⬜⛺\n",
      "⬜⬜⛺⬜⛺⬜⛺⬜🌴⬜⬜⛺⬜⬜🌲\n",
      "⛺🌴⬜⬜🌴⬜🌳🌴⬜⬜⬜⬜🌲⛺⬜\n",
      "⬜⬜⬜⛺🌳⛺🌴⛺🌲⛺⬜⬜⬜⬜🌲\n",
      "⬜⬜⬜🌲⬜⬜⬜⬜⬜⬜⬜⛺🌳⬜⛺\n",
      "⬜⛺🌲⛺⬜⬜⬜⬜⛺⬜⬜⬜⬜⬜⬜\n",
      "⬜⬜🌲⬜⬜⬜⛺⬜🌲⬜🌳⛺⬜⬜🌳\n",
      "🌲⬜⛺⬜⬜⬜🌴⬜🌴⛺⬜⬜⬜⬜⛺\n",
      "⛺⬜⬜⬜⛺⬜⬜⬜⬜⬜⬜⬜⛺⬜⬜\n",
      "🌴⬜⬜⬜🌲⬜⛺⬜⬜⬜⬜⬜🌳⬜⬜\n",
      "⛺🌴⛺⬜⛺🌴🌴⬜⬜⛺🌴⛺🌳🌲⛺\n"
     ]
    }
   ],
   "source": [
    "T = [[ 1,  2], [ 1, 10], [ 1, 13], [ 2,  1], [ 2,  7], [ 2,  8], [ 2, 12], [ 2, 13], [ 3,  5],\n",
    "     [ 3, 11], [ 4,  2], [ 4,  6], [ 5,  1], [ 5,  3], [ 5, 12], [ 6,  9], [ 6, 15], [ 7,  2],\n",
    "     [ 7,  5], [ 7,  7], [ 7,  8], [ 7, 13], [ 8,  5], [ 8,  7], [ 8,  9], [ 8, 15], [ 9,  4],\n",
    "     [ 9, 13], [10,  3], [11,  3], [11,  9], [11, 11], [11, 15], [12,  1], [12,  7], [12,  9],\n",
    "     [14,  1], [14,  5], [14, 13], [15,  2], [15,  6], [15,  7], [15, 11], [15, 13], [15, 14]]; # árvores\n",
    "\n",
    "R = [5, 2, 1, 5, 2, 4, 2, 4, 2, 3, 2, 3, 3, 1, 6]; # linhas\n",
    "C = [5, 1, 5, 2, 4, 2, 4, 2, 2, 4, 1, 5, 2, 2, 4]; # colunas\n",
    "print_solution(solve_tents(T, R, C));"
   ]
  },
  {
   "cell_type": "code",
   "execution_count": 7,
   "id": "53a31e50",
   "metadata": {},
   "outputs": [
    {
     "name": "stdout",
     "output_type": "stream",
     "text": [
      "⛺🌳⛺⬜⬜⬜⬜⛺⬜🌲⬜⛺🌴⛺⬜\n",
      "🌴⬜⬜⬜⬜⛺🌴🌲⬜⛺⬜🌲🌴⬜⬜\n",
      "⬜⬜⬜⬜🌳⬜⬜⬜⬜⬜🌴⬜⛺⬜⬜\n",
      "⛺🌳⛺⬜⛺🌲⛺⬜⬜⬜⛺⬜⬜⬜⬜\n",
      "🌳⬜🌴⬜⬜⬜⬜⬜⛺⬜⬜🌴⬜⬜⛺\n",
      "⬜⬜⛺⬜⛺⬜⛺⬜🌳⬜⬜⛺⬜⬜🌴\n",
      "⛺🌲⬜⬜🌳⬜🌳🌲⬜⬜⬜⬜🌴⛺⬜\n",
      "⬜⬜⬜⛺🌳⛺🌳⛺🌴⛺⬜⬜⬜⬜🌲\n",
      "⬜⬜⬜🌴⬜⬜⬜⬜⬜⬜⬜⛺🌴⬜⛺\n",
      "⬜⛺🌴⛺⬜⬜⬜⬜⛺⬜⬜⬜⬜⬜⬜\n",
      "⬜⬜🌴⬜⬜⬜⛺⬜🌲⬜🌳⛺⬜⬜🌳\n",
      "🌲⬜⛺⬜⬜⬜🌲⬜🌴⛺⬜⬜⬜⬜⛺\n",
      "⛺⬜⬜⬜⛺⬜⬜⬜⬜⬜⬜⬜⛺⬜⬜\n",
      "🌳⬜⬜⬜🌴⬜⛺⬜⬜⬜⬜⬜🌲⬜⬜\n",
      "⛺🌴⛺⬜⛺🌲🌲⬜⬜⛺🌴⛺🌴🌲⛺\n",
      "  0.169448 seconds (51.37 k allocations: 3.671 MiB)\n"
     ]
    }
   ],
   "source": [
    "@time print_solution(solve_tents(T, R, C));"
   ]
  }
 ],
 "metadata": {
  "kernelspec": {
   "display_name": "Julia 1.6.0",
   "language": "julia",
   "name": "julia-1.6"
  },
  "language_info": {
   "file_extension": ".jl",
   "mimetype": "application/julia",
   "name": "julia",
   "version": "1.6.0"
  }
 },
 "nbformat": 4,
 "nbformat_minor": 5
}
