{
 "cells": [
  {
   "cell_type": "code",
   "execution_count": 1,
   "id": "d84d4726",
   "metadata": {},
   "outputs": [],
   "source": [
    "import spotipy\n",
    "from spotipy.oauth2 import SpotifyClientCredentials"
   ]
  },
  {
   "cell_type": "code",
   "execution_count": 2,
   "id": "0d483138",
   "metadata": {},
   "outputs": [],
   "source": [
    "cid = '7c5bb32973b6425db153f01348ef6ea1'\n",
    "secret = '3d731a28d6cb40548945c046bdf249f0'\n",
    "client_credentials_manager = SpotifyClientCredentials(client_id = cid, client_secret = secret)\n",
    "sp = spotipy.Spotify(client_credentials_manager = client_credentials_manager)"
   ]
  },
  {
   "cell_type": "code",
   "execution_count": 3,
   "id": "feafab2a",
   "metadata": {},
   "outputs": [],
   "source": [
    "playlist_link = 'https://open.spotify.com/playlist/6cMAcNdI3VuHmV3NQAEAhc'\n",
    "playlist_URI = playlist_link.split('/')[-1].split('?')[0]\n",
    "track_uris = [x['track']['uri'] for x in sp.playlist_tracks(playlist_URI)['items']]"
   ]
  },
  {
   "cell_type": "code",
   "execution_count": 4,
   "id": "14981e52",
   "metadata": {},
   "outputs": [
    {
     "data": {
      "text/plain": [
       "[['Sereníssima', 'Legião Urbana', 0.376, 0.768, 0.355, 241733],\n",
       " ['Metal Contra As Nuvens', 'Legião Urbana', 0.288, 0.433, 0.112, 689933],\n",
       " ['Infinita Highway', 'Engenheiros Do Hawaii', 0.654, 0.798, 0.136, 372093],\n",
       " ['Pra Ser Sincero', 'Engenheiros Do Hawaii', 0.482, 0.334, 0.231, 191867],\n",
       " ['Era um Garoto, Que Como Eu, Amava os Beatles e os Rolling Stones',\n",
       "  'Engenheiros Do Hawaii',\n",
       "  0.568,\n",
       "  0.7,\n",
       "  0.0838,\n",
       "  265040],\n",
       " ['Até O Fim - Ao Vivo', 'Engenheiros Do Hawaii', 0.635, 0.808, 0.983, 218933],\n",
       " ['Vinte E Nove', 'Legião Urbana', 0.42, 0.542, 0.185, 223933],\n",
       " ['Natasha - Ao Vivo', 'Capital Inicial', 0.374, 0.935, 0.984, 197933],\n",
       " ['Primeiros Erros (Chove) - Ao Vivo',\n",
       "  'Capital Inicial',\n",
       "  0.246,\n",
       "  0.705,\n",
       "  0.965,\n",
       "  332307],\n",
       " ['O Astronauta de Mármore (Starman)',\n",
       "  'Nenhum De Nós',\n",
       "  0.644,\n",
       "  0.637,\n",
       "  0.181,\n",
       "  195533],\n",
       " ['Você Vai Lembrar De Mim', 'Nenhum De Nós', 0.384, 0.732, 0.173, 289667],\n",
       " ['Camila, Camila', 'Nenhum De Nós', 0.482, 0.844, 0.335, 312133],\n",
       " ['Lanterna Dos Afogados',\n",
       "  'Os Paralamas Do Sucesso',\n",
       "  0.716,\n",
       "  0.596,\n",
       "  0.0966,\n",
       "  189533],\n",
       " ['Vital E Sua Moto', 'Os Paralamas Do Sucesso', 0.459, 0.878, 0.127, 191216]]"
      ]
     },
     "execution_count": 4,
     "metadata": {},
     "output_type": "execute_result"
    }
   ],
   "source": [
    "data = []\n",
    "for track in sp.playlist_tracks(playlist_URI)['items']:\n",
    "    #URI\n",
    "    track_uri = track['track']['uri']\n",
    "    \n",
    "    #Track name\n",
    "    track_name = track['track']['name']\n",
    "    \n",
    "    #Main Artist\n",
    "    artist_uri = track['track']['artists'][0]['uri']\n",
    "    artist_info = sp.artist(artist_uri)\n",
    "    \n",
    "    #Name, popularity, genre\n",
    "    artist_name = track['track']['artists'][0]['name']\n",
    "    artist_pop = artist_info['popularity']\n",
    "    artist_genres = artist_info['genres']\n",
    "    \n",
    "    #Album\n",
    "    album = track['track']['album']['name']\n",
    "    \n",
    "    #Popularity of the track\n",
    "    track_pop = track['track']['popularity']\n",
    "    \n",
    "    # collecting\n",
    "    track_data = []\n",
    "    name = track['track']['name']\n",
    "    track_data.append(name)\n",
    "    track_data.append(artist_name)\n",
    "    metrics = sp.audio_features(track_uri)[0]\n",
    "    track_data.append(metrics['danceability'])\n",
    "    track_data.append(metrics['energy'])\n",
    "    track_data.append(metrics['liveness'])\n",
    "    track_data.append(metrics['duration_ms'])\n",
    "    \n",
    "    data.append(track_data)\n",
    "    \n",
    "data"
   ]
  },
  {
   "cell_type": "code",
   "execution_count": 5,
   "id": "e545684e",
   "metadata": {},
   "outputs": [],
   "source": [
    "playlist_link = 'https://open.spotify.com/playlist/1NWTZeaSJAcSiS9pro69uC?si=35QDDVURSWOxIXUKuiBjpQ&utm_source=whatsapp&nd=1'\n",
    "playlist_URI = playlist_link.split('/')[-1].split('?')[0]\n",
    "track_uris = [x['track']['uri'] for x in sp.playlist_tracks(playlist_URI)['items']]"
   ]
  },
  {
   "cell_type": "code",
   "execution_count": 6,
   "id": "67014c82",
   "metadata": {},
   "outputs": [
    {
     "data": {
      "text/plain": [
       "[['Too Good At Goodbyes', 'Sam Smith', 0.681, 0.372, 0.169, 201000],\n",
       " ['Happier', 'Ed Sheeran', 0.522, 0.385, 0.135, 207520],\n",
       " ['Dive', 'Ed Sheeran', 0.761, 0.386, 0.0953, 238440],\n",
       " ['In My Blood', 'Shawn Mendes', 0.622, 0.712, 0.13, 211360],\n",
       " ['Scared to Be Lonely - Acoustic Version',\n",
       "  'Martin Garrix',\n",
       "  0.365,\n",
       "  0.2,\n",
       "  0.0804,\n",
       "  257357],\n",
       " ['Million Reasons', 'Lady Gaga', 0.666, 0.423, 0.106, 205280],\n",
       " ['All of Me', 'John Legend', 0.422, 0.264, 0.132, 269560],\n",
       " ['Easy On Me', 'Adele', 0.604, 0.366, 0.133, 224695],\n",
       " [\"It'll Be Okay\", 'Shawn Mendes', 0.398, 0.286, 0.0912, 222800],\n",
       " ['Visiting Hours', 'Ed Sheeran', 0.471, 0.396, 0.0729, 215507],\n",
       " ['Naked', 'James Arthur', 0.527, 0.61, 0.0572, 233400],\n",
       " ['Too Much To Ask', 'Niall Horan', 0.443, 0.533, 0.128, 223044],\n",
       " [\"Say You Won't Let Go\", 'James Arthur', 0.358, 0.557, 0.0902, 211467],\n",
       " ['If I Were a Boy', 'Beyoncé', 0.632, 0.518, 0.354, 249147],\n",
       " ['No One', 'Alicia Keys', 0.644, 0.549, 0.134, 253813],\n",
       " ['The Climb', 'Miley Cyrus', 0.336, 0.602, 0.141, 234520]]"
      ]
     },
     "execution_count": 6,
     "metadata": {},
     "output_type": "execute_result"
    }
   ],
   "source": [
    "data = []\n",
    "for track in sp.playlist_tracks(playlist_URI)['items']:\n",
    "    #URI\n",
    "    track_uri = track['track']['uri']\n",
    "    \n",
    "    #Track name\n",
    "    track_name = track['track']['name']\n",
    "    \n",
    "    #Main Artist\n",
    "    artist_uri = track['track']['artists'][0]['uri']\n",
    "    artist_info = sp.artist(artist_uri)\n",
    "    \n",
    "    #Name, popularity, genre\n",
    "    artist_name = track['track']['artists'][0]['name']\n",
    "    artist_pop = artist_info['popularity']\n",
    "    artist_genres = artist_info['genres']\n",
    "    \n",
    "    #Album\n",
    "    album = track['track']['album']['name']\n",
    "    \n",
    "    #Popularity of the track\n",
    "    track_pop = track['track']['popularity']\n",
    "    \n",
    "    # collecting\n",
    "    track_data = []\n",
    "    name = track['track']['name']\n",
    "    track_data.append(name)\n",
    "    track_data.append(artist_name)\n",
    "    metrics = sp.audio_features(track_uri)[0]\n",
    "    track_data.append(metrics['danceability'])\n",
    "    track_data.append(metrics['energy'])\n",
    "    track_data.append(metrics['liveness'])\n",
    "    track_data.append(metrics['duration_ms'])\n",
    "    \n",
    "    data.append(track_data)\n",
    "    \n",
    "data"
   ]
  }
 ],
 "metadata": {
  "kernelspec": {
   "display_name": "Python 3 (ipykernel)",
   "language": "python",
   "name": "python3"
  },
  "language_info": {
   "codemirror_mode": {
    "name": "ipython",
    "version": 3
   },
   "file_extension": ".py",
   "mimetype": "text/x-python",
   "name": "python",
   "nbconvert_exporter": "python",
   "pygments_lexer": "ipython3",
   "version": "3.8.10"
  }
 },
 "nbformat": 4,
 "nbformat_minor": 5
}
