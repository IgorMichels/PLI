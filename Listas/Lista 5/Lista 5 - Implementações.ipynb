{
 "cells": [
  {
   "cell_type": "markdown",
   "id": "5bcf5538",
   "metadata": {},
   "source": [
    "# Implementações\n",
    "\n",
    "Fernanda Gomes e Igor Michels"
   ]
  },
  {
   "cell_type": "code",
   "execution_count": 1,
   "id": "20aeb669",
   "metadata": {},
   "outputs": [],
   "source": [
    "using LinearAlgebra;"
   ]
  },
  {
   "cell_type": "markdown",
   "id": "a8a18181",
   "metadata": {},
   "source": [
    "## Forma Padrão"
   ]
  },
  {
   "cell_type": "code",
   "execution_count": 2,
   "id": "997afca2",
   "metadata": {},
   "outputs": [],
   "source": [
    "function SEF(obj, c, A, sig, b, x_cons)\n",
    "    \"\"\"\n",
    "    obj    : string (Min or Max)\n",
    "    c      : vector of costs\n",
    "    A      : matrix of coeff\n",
    "    sig    : constraints' signal (vector of strings)\n",
    "    b      : constraints (vector)\n",
    "    x_cons : vector of constraints for x vector (\"<=\", \">=\" or \"\" in relation to 0)\n",
    "    \"\"\"\n",
    "    \n",
    "    if obj == \"Min\"\n",
    "        obj = \"Max\";\n",
    "        c = -c;\n",
    "    end\n",
    "    \n",
    "    for i in 1:length(x_cons)\n",
    "        if x_cons[i] == \"<=\"\n",
    "            A[:, i] = -A[:, i];\n",
    "            c[i] = -c[i];\n",
    "        elseif x_cons[i] == \"\"\n",
    "            A = hcat(A, -A[:, i]);\n",
    "            append!(c, -c[i])\n",
    "            x_cons[i] = \">=\";\n",
    "            append!(x_cons, [\">=\"]);\n",
    "        end\n",
    "    end\n",
    "    \n",
    "    for i in 1:length(sig)\n",
    "        if sig[i] == \">=\"\n",
    "            n_lin, n_col = size(A);\n",
    "            A = hcat(A, zeros(n_lin, 1));\n",
    "            A[i, n_col + 1] = -1;\n",
    "            sig[i] = \"=\";\n",
    "            append!(x_cons, [\">=\"]);\n",
    "            append!(c, [0]);\n",
    "        elseif sig[i] == \"<=\"\n",
    "            n_lin, n_col = size(A);\n",
    "            A = hcat(A, zeros(n_lin, 1));\n",
    "            A[i, n_col + 1] = 1;\n",
    "            sig[i] = \"=\";\n",
    "            append!(x_cons, [\">=\"]);\n",
    "            append!(c, [0]);\n",
    "        end\n",
    "    end\n",
    "    return obj, c, A, sig, b, x_cons\n",
    "end;"
   ]
  },
  {
   "cell_type": "markdown",
   "id": "d815bd24",
   "metadata": {},
   "source": [
    "### Teste"
   ]
  },
  {
   "cell_type": "code",
   "execution_count": 3,
   "id": "4c26da7a",
   "metadata": {},
   "outputs": [
    {
     "data": {
      "text/plain": [
       "(\"Max\", [1, -2, 4, -4, 0, 0], [1.0 5.0 … -1.0 0.0; 2.0 -1.0 … 0.0 1.0; 1.0 2.0 … 0.0 0.0], [\"=\", \"=\", \"=\"], [5, 4, 2], [\">=\", \">=\", \">=\", \">=\", \">=\", \">=\"])"
      ]
     },
     "execution_count": 3,
     "metadata": {},
     "output_type": "execute_result"
    }
   ],
   "source": [
    "obj = \"Min\";\n",
    "c = [-1, 2, -4];\n",
    "A = [ 1  5  3\n",
    "      2 -1  2\n",
    "      1  2 -1];\n",
    "sig = [\">=\", \"<=\", \"=\"];\n",
    "b = [5, 4, 2];\n",
    "x_cons = [\">=\", \">=\", \"\"];\n",
    "\n",
    "obj, c, A, sig, b, x_cons = SEF(obj, c, A, sig, b, x_cons)"
   ]
  },
  {
   "cell_type": "markdown",
   "id": "c38ce6c3",
   "metadata": {},
   "source": [
    "## Iteração Simplex"
   ]
  },
  {
   "cell_type": "code",
   "execution_count": 4,
   "id": "fa6467dd",
   "metadata": {},
   "outputs": [],
   "source": [
    "function iteracao_simplex(c, A, b, B, N)\n",
    "    x = zeros(1, size(A, 2));\n",
    "    x[B] = b;\n",
    "    i = findfirst(c .> 0);\n",
    "    if isnothing(i)\n",
    "        return B, N, x\n",
    "    end\n",
    "    \n",
    "    coeff = A[:, i];\n",
    "    t = b ./ coeff;\n",
    "    if t[t .> 0] == []\n",
    "        return \"Ilimitado\";\n",
    "    end\n",
    "    \n",
    "    tₒ = minimum(t[t .> 0]);\n",
    "    j = findfirst(t .== tₒ)\n",
    "    x[i] = tₒ;\n",
    "    for k in 1:length(B)\n",
    "        x[B[k]] -= coeff[k] * tₒ;\n",
    "    end\n",
    "    \n",
    "    B[j] = i;\n",
    "    N = Array(1:size(A, 2));\n",
    "    N = N[N .∉ Ref(B)];\n",
    "    sort!(B);\n",
    "    sort!(N);\n",
    "    \n",
    "    return B, N, x\n",
    "end;"
   ]
  },
  {
   "cell_type": "markdown",
   "id": "b64d8b01",
   "metadata": {},
   "source": [
    "## Forma Canônica"
   ]
  },
  {
   "cell_type": "code",
   "execution_count": 5,
   "id": "9db7152a",
   "metadata": {},
   "outputs": [],
   "source": [
    "function CF(c, A, b, B = nothing, N = nothing, z = 0)\n",
    "    if isnothing(B)\n",
    "        n_lin, n_col = size(A);\n",
    "        corte = n_col - n_lin + 1;\n",
    "        B = Array(corte:n_col);\n",
    "        N = Array(1:(corte - 1));\n",
    "    end\n",
    "    \n",
    "    A_B = A[:, B];\n",
    "    A_B⁻¹ = inv(A_B);\n",
    "    y = transpose(A_B⁻¹) * c[B];\n",
    "    z = z + transpose(y) * b;\n",
    "    c = c - transpose(A) * y;\n",
    "    A = A_B⁻¹ * A;\n",
    "    b = A_B⁻¹ * b;\n",
    "    return c, A, b, B, N, z\n",
    "end;"
   ]
  },
  {
   "cell_type": "markdown",
   "id": "2fac4a55",
   "metadata": {},
   "source": [
    "### Teste"
   ]
  },
  {
   "cell_type": "code",
   "execution_count": 6,
   "id": "3b6b5661",
   "metadata": {},
   "outputs": [
    {
     "data": {
      "text/plain": [
       "([0.0, 0.0, 0.0], [1.0 0.0 0.0; 0.0 1.0 0.0; 0.0 0.0 1.0], [1.0, -1.0, -1.0], [1, 2, 3], Int64[], -7.0)"
      ]
     },
     "execution_count": 6,
     "metadata": {},
     "output_type": "execute_result"
    }
   ],
   "source": [
    "obj = \"Max\";\n",
    "c = [3, 4, 6];\n",
    "A = [ 3  5 -6\n",
    "      1  3 -4\n",
    "     -1  1 -1];\n",
    "sig = [\"=\", \"=\", \"=\"];\n",
    "b = [4, 2, -1];\n",
    "x_cons = [\">=\", \">=\", \">=\"];\n",
    "\n",
    "obj, c, A, sig, b, x_cons = SEF(obj, c, A, sig, b, x_cons);\n",
    "CF(c, A, b)"
   ]
  },
  {
   "cell_type": "markdown",
   "id": "b13b2d3f",
   "metadata": {},
   "source": [
    "## Teste de Infactibilidade"
   ]
  },
  {
   "cell_type": "code",
   "execution_count": 7,
   "id": "67ed59f3",
   "metadata": {},
   "outputs": [],
   "source": [
    "function infeasibility(A, b)\n",
    "    n, m = size(A);\n",
    "    A_aux = hcat(A, Matrix(I, n, n));\n",
    "    c = - vcat(zeros(m), ones(n));\n",
    "    sig = [\"=\" for i in 1:n];\n",
    "    x_cons = [\">=\" for i in 1:(m + n)];\n",
    "    x, z = simplex(\"Max\", c, A_aux, sig, b, x_cons, false, false);\n",
    "    if z == 0\n",
    "        return true;\n",
    "    else\n",
    "        return false;\n",
    "    end\n",
    "end;"
   ]
  },
  {
   "cell_type": "markdown",
   "id": "c76c757e",
   "metadata": {},
   "source": [
    "## Implementação do Simplex"
   ]
  },
  {
   "cell_type": "code",
   "execution_count": 8,
   "id": "901b4159",
   "metadata": {},
   "outputs": [],
   "source": [
    "function simplex(obj, c, A, sig, b, x_cons, verify = true, printing = true)\n",
    "    obj, c, A, sig, b, x_cons = SEF(obj, c, A, sig, b, x_cons);\n",
    "    B = nothing;\n",
    "    N = nothing;\n",
    "    z = 0;\n",
    "    \n",
    "    feasible = true;\n",
    "    if verify\n",
    "        feasible = infeasibility(A, b);\n",
    "    end\n",
    "    \n",
    "    if ~feasible\n",
    "        println(\"Problema infactível\");\n",
    "        return \"Infactível\"\n",
    "    end\n",
    "    \n",
    "    while true\n",
    "        c, A, b, B, N, z = CF(c, A, b, B, N, z);\n",
    "        sol = iteracao_simplex(c, A, b, B, N)\n",
    "        if sol == \"Ilimitado\"\n",
    "            println(\"Problema ilimitado\");\n",
    "            return \"Ilimitado\";\n",
    "        else\n",
    "            B, N, x = sol;\n",
    "        end\n",
    "        \n",
    "        if c[c .> 0] == []\n",
    "            if printing\n",
    "                println(\"Ótimo em $x, com valor z = $z\");\n",
    "            end\n",
    "            return x, z;\n",
    "        end\n",
    "    end\n",
    "end;"
   ]
  },
  {
   "cell_type": "markdown",
   "id": "adb31c08",
   "metadata": {},
   "source": [
    "### Teste"
   ]
  },
  {
   "cell_type": "code",
   "execution_count": 9,
   "id": "1eefb4cc",
   "metadata": {},
   "outputs": [
    {
     "name": "stdout",
     "output_type": "stream",
     "text": [
      "Ótimo em [1.0 5.0 0.0 3.0 0.0], com valor z = 17.0\n"
     ]
    }
   ],
   "source": [
    "obj = \"Max\";\n",
    "c = [ 2,  3,  0,  0,  0];\n",
    "A = [ 1  1  1  0  0\n",
    "      2  1  0  1  0\n",
    "     -1  1  0  0  1];\n",
    "sig = [\"=\", \"=\", \"=\"];\n",
    "b = [6, 10, 4];\n",
    "x_cons = [\">=\", \">=\", \">=\", \">=\", \">=\"];\n",
    "B = nothing;\n",
    "N = nothing;\n",
    "z = 0;\n",
    "solution = simplex(obj, c, A, sig, b, x_cons);"
   ]
  }
 ],
 "metadata": {
  "kernelspec": {
   "display_name": "Julia 1.7.2",
   "language": "julia",
   "name": "julia-1.7"
  },
  "language_info": {
   "file_extension": ".jl",
   "mimetype": "application/julia",
   "name": "julia",
   "version": "1.7.2"
  }
 },
 "nbformat": 4,
 "nbformat_minor": 5
}
