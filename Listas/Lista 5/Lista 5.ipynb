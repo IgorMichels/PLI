{
 "cells": [
  {
   "cell_type": "markdown",
   "id": "5bcf5538",
   "metadata": {},
   "source": [
    "# Implementações\n",
    "\n",
    "Fernanda Gomes e Igor Michels"
   ]
  },
  {
   "cell_type": "code",
   "execution_count": 1,
   "id": "20aeb669",
   "metadata": {},
   "outputs": [],
   "source": [
    "using LinearAlgebra;"
   ]
  },
  {
   "cell_type": "markdown",
   "id": "a8a18181",
   "metadata": {},
   "source": [
    "## Forma Padrão"
   ]
  },
  {
   "cell_type": "code",
   "execution_count": 2,
   "id": "997afca2",
   "metadata": {},
   "outputs": [],
   "source": [
    "function SEF(obj, c, A, sig, b, x_cons)\n",
    "    \"\"\"\n",
    "    obj    : string (Min or Max)\n",
    "    c      : vector of costs\n",
    "    A      : matrix of coeff\n",
    "    sig    : constraints' signal (vector of strings)\n",
    "    b      : constraints (vector)\n",
    "    x_cons : vector of constraints for x vector (\"<=\", \">=\" or \"\" in relation to 0)\n",
    "    \"\"\"\n",
    "    \n",
    "    if obj == \"Min\"\n",
    "        obj = \"Max\";\n",
    "        c = -c;\n",
    "    end\n",
    "    \n",
    "    for i in 1:length(x_cons)\n",
    "        if x_cons[i] == \"<=\"\n",
    "            A[:, i] = -A[:, i];\n",
    "            c[i] = -c[i];\n",
    "        elseif x_cons[i] == \"\"\n",
    "            A = hcat(A, -A[:, i]);\n",
    "            append!(c, -c[i])\n",
    "            x_cons[i] = \">=\";\n",
    "            append!(x_cons, [\">=\"]);\n",
    "        end\n",
    "    end\n",
    "    \n",
    "    for i in 1:length(sig)\n",
    "        if sig[i] == \">=\"\n",
    "            n_lin, n_col = size(A);\n",
    "            A = hcat(A, zeros(n_lin, 1));\n",
    "            A[i, n_col + 1] = -1;\n",
    "            sig[i] = \"=\";\n",
    "            append!(x_cons, [\">=\"]);\n",
    "            append!(c, [0]);\n",
    "        elseif sig[i] == \"<=\"\n",
    "            n_lin, n_col = size(A);\n",
    "            A = hcat(A, zeros(n_lin, 1));\n",
    "            A[i, n_col + 1] = 1;\n",
    "            sig[i] = \"=\";\n",
    "            append!(x_cons, [\">=\"]);\n",
    "            append!(c, [0]);\n",
    "        end\n",
    "    end\n",
    "    return obj, c, A, sig, b, x_cons\n",
    "end;"
   ]
  },
  {
   "cell_type": "markdown",
   "id": "d815bd24",
   "metadata": {},
   "source": [
    "### Teste"
   ]
  },
  {
   "cell_type": "code",
   "execution_count": 3,
   "id": "4c26da7a",
   "metadata": {},
   "outputs": [
    {
     "data": {
      "text/plain": [
       "(\"Max\", [1, -2, 4, -4, 0, 0], [1.0 5.0 … -1.0 0.0; 2.0 -1.0 … 0.0 1.0; 1.0 2.0 … 0.0 0.0], [\"=\", \"=\", \"=\"], [5, 4, 2], [\">=\", \">=\", \">=\", \">=\", \">=\", \">=\"])"
      ]
     },
     "execution_count": 3,
     "metadata": {},
     "output_type": "execute_result"
    }
   ],
   "source": [
    "obj = \"Min\";\n",
    "c = [-1, 2, -4];\n",
    "A = [ 1  5  3\n",
    "      2 -1  2\n",
    "      1  2 -1];\n",
    "sig = [\">=\", \"<=\", \"=\"];\n",
    "b = [5, 4, 2];\n",
    "x_cons = [\">=\", \">=\", \"\"];\n",
    "\n",
    "obj, c, A, sig, b, x_cons = SEF(obj, c, A, sig, b, x_cons)"
   ]
  },
  {
   "cell_type": "markdown",
   "id": "c38ce6c3",
   "metadata": {},
   "source": [
    "## Iteração Simplex"
   ]
  },
  {
   "cell_type": "code",
   "execution_count": 4,
   "id": "fa6467dd",
   "metadata": {},
   "outputs": [],
   "source": [
    "function iteracao_simplex(c, A, b, B, N)\n",
    "    x = zeros(1, size(A, 2));\n",
    "    x[B] = b;\n",
    "    i = findfirst(c .> 0);\n",
    "    if isnothing(i)\n",
    "        return B, N, x\n",
    "    end\n",
    "    \n",
    "    coeff = A[:, i];\n",
    "    t = b ./ coeff;\n",
    "    if t[t .> 0] == []\n",
    "        return \"Ilimitado\";\n",
    "    end\n",
    "    \n",
    "    tₒ = minimum(t[t .> 0]);\n",
    "    j = findfirst(t .== tₒ)\n",
    "    x[i] = tₒ;\n",
    "    for k in 1:length(B)\n",
    "        x[B[k]] -= coeff[k] * tₒ;\n",
    "    end\n",
    "    \n",
    "    B[j] = i;\n",
    "    N = Array(1:size(A, 2));\n",
    "    N = N[N .∉ Ref(B)];\n",
    "    sort!(B);\n",
    "    sort!(N);\n",
    "    \n",
    "    return B, N, x\n",
    "end;"
   ]
  },
  {
   "cell_type": "markdown",
   "id": "b64d8b01",
   "metadata": {},
   "source": [
    "## Forma Canônica"
   ]
  },
  {
   "cell_type": "code",
   "execution_count": 5,
   "id": "9db7152a",
   "metadata": {},
   "outputs": [],
   "source": [
    "function CF(c, A, b, B = nothing, N = nothing, z = 0)\n",
    "    if isnothing(B)\n",
    "        n_lin, n_col = size(A);\n",
    "        corte = n_col - n_lin + 1;\n",
    "        B = Array(corte:n_col);\n",
    "        N = Array(1:(corte - 1));\n",
    "    end\n",
    "    \n",
    "    A_B = A[:, B];\n",
    "    A_B⁻¹ = inv(A_B);\n",
    "    y = transpose(A_B⁻¹) * c[B];\n",
    "    z = z + transpose(y) * b;\n",
    "    c = c - transpose(A) * y;\n",
    "    A = A_B⁻¹ * A;\n",
    "    b = A_B⁻¹ * b;\n",
    "    return c, A, b, B, N, z\n",
    "end;"
   ]
  },
  {
   "cell_type": "markdown",
   "id": "2fac4a55",
   "metadata": {},
   "source": [
    "### Teste"
   ]
  },
  {
   "cell_type": "code",
   "execution_count": 6,
   "id": "3b6b5661",
   "metadata": {},
   "outputs": [
    {
     "data": {
      "text/plain": [
       "([0.0, 0.0, 0.0], [1.0 0.0 0.0; 0.0 1.0 0.0; 0.0 0.0 1.0], [1.0, -1.0, -1.0], [1, 2, 3], Int64[], -7.0)"
      ]
     },
     "execution_count": 6,
     "metadata": {},
     "output_type": "execute_result"
    }
   ],
   "source": [
    "obj = \"Max\";\n",
    "c = [3, 4, 6];\n",
    "A = [ 3  5 -6\n",
    "      1  3 -4\n",
    "     -1  1 -1];\n",
    "sig = [\"=\", \"=\", \"=\"];\n",
    "b = [4, 2, -1];\n",
    "x_cons = [\">=\", \">=\", \">=\"];\n",
    "\n",
    "obj, c, A, sig, b, x_cons = SEF(obj, c, A, sig, b, x_cons);\n",
    "CF(c, A, b)"
   ]
  },
  {
   "cell_type": "markdown",
   "id": "b13b2d3f",
   "metadata": {},
   "source": [
    "## Teste de Infactibilidade"
   ]
  },
  {
   "cell_type": "code",
   "execution_count": 7,
   "id": "67ed59f3",
   "metadata": {},
   "outputs": [],
   "source": [
    "function infeasibility(A, b)\n",
    "    n, m = size(A);\n",
    "    A_aux = hcat(A, Matrix(I, n, n));\n",
    "    c = - vcat(zeros(m), ones(n));\n",
    "    sig = [\"=\" for i in 1:n];\n",
    "    x_cons = [\">=\" for i in 1:(m + n)];\n",
    "    x, z = simplex(\"Max\", c, A_aux, sig, b, x_cons, false, false);\n",
    "    if z == 0\n",
    "        return true;\n",
    "    else\n",
    "        return false;\n",
    "    end\n",
    "end;"
   ]
  },
  {
   "cell_type": "markdown",
   "id": "c76c757e",
   "metadata": {},
   "source": [
    "## Implementação do Simplex"
   ]
  },
  {
   "cell_type": "code",
   "execution_count": 8,
   "id": "901b4159",
   "metadata": {},
   "outputs": [],
   "source": [
    "function simplex(obj, c, A, sig, b, x_cons, verify = true, printing = true)\n",
    "    obj, c, A, sig, b, x_cons = SEF(obj, c, A, sig, b, x_cons);\n",
    "    B = nothing;\n",
    "    N = nothing;\n",
    "    z = 0;\n",
    "    \n",
    "    feasible = true;\n",
    "    if verify\n",
    "        feasible = infeasibility(A, b);\n",
    "    end\n",
    "    \n",
    "    if ~feasible\n",
    "        println(\"Problema infactível\");\n",
    "        return \"Infactível\"\n",
    "    end\n",
    "    \n",
    "    while true\n",
    "        c, A, b, B, N, z = CF(c, A, b, B, N, z);\n",
    "        sol = iteracao_simplex(c, A, b, B, N)\n",
    "        if sol == \"Ilimitado\"\n",
    "            println(\"Problema ilimitado\");\n",
    "            return \"Ilimitado\";\n",
    "        else\n",
    "            B, N, x = sol;\n",
    "        end\n",
    "        \n",
    "        if c[c .> 0] == []\n",
    "            if printing\n",
    "                println(\"Ótimo em $x, com valor z = $z\");\n",
    "            end\n",
    "            return x, z;\n",
    "        end\n",
    "    end\n",
    "end;"
   ]
  },
  {
   "cell_type": "markdown",
   "id": "adb31c08",
   "metadata": {},
   "source": [
    "### Teste"
   ]
  },
  {
   "cell_type": "code",
   "execution_count": 9,
   "id": "1eefb4cc",
   "metadata": {},
   "outputs": [
    {
     "name": "stdout",
     "output_type": "stream",
     "text": [
      "Ótimo em [1.0 5.0 0.0 3.0 0.0], com valor z = 17.0\n"
     ]
    }
   ],
   "source": [
    "obj = \"Max\";\n",
    "c = [ 2,  3,  0,  0,  0];\n",
    "A = [ 1  1  1  0  0\n",
    "      2  1  0  1  0\n",
    "     -1  1  0  0  1];\n",
    "sig = [\"=\", \"=\", \"=\"];\n",
    "b = [6, 10, 4];\n",
    "x_cons = [\">=\", \">=\", \">=\", \">=\", \">=\"];\n",
    "B = nothing;\n",
    "N = nothing;\n",
    "z = 0;\n",
    "solution = simplex(obj, c, A, sig, b, x_cons);"
   ]
  },
  {
   "cell_type": "markdown",
   "id": "5cc696cd",
   "metadata": {},
   "source": [
    "# Exercícios do livro\n",
    "\n",
    "## Seção 2.1\n",
    "\n",
    "### Exercício 1\n",
    "\n",
    "#### Item a\n",
    "\n",
    "Note que as restrições determinam um sistema com três equações e três incógnitas. Assim, se esse sistema for impossível, o problema é, automaticamente, infactível. Por outro lado, se o problema for possível e determinado, devemos analisar as restrições de $x$. Por fim, se o problema for possível e indeterminado nada se pode afirmar a priori, devendo ter que analisar melhor o problema.\n",
    "\n",
    "Vamos, analisar o determinante de $A$:"
   ]
  },
  {
   "cell_type": "code",
   "execution_count": 10,
   "id": "a6773aea",
   "metadata": {},
   "outputs": [
    {
     "data": {
      "text/plain": [
       "4.0"
      ]
     },
     "execution_count": 10,
     "metadata": {},
     "output_type": "execute_result"
    }
   ],
   "source": [
    "A_b = [ 3  5 -6\n",
    "        1  3 -4\n",
    "       -1  1 -1];\n",
    "\n",
    "det(A_b)"
   ]
  },
  {
   "cell_type": "markdown",
   "id": "50812925",
   "metadata": {},
   "source": [
    "Como $det(A)\\neq 0$ e as entradas do vetor $b$ são todas distintas, o sistema é possível e determinado, assim, temos:"
   ]
  },
  {
   "cell_type": "code",
   "execution_count": 11,
   "id": "eb8639b5",
   "metadata": {},
   "outputs": [
    {
     "data": {
      "text/plain": [
       "3-element Vector{Float64}:\n",
       "  1.0\n",
       " -1.0000000000000004\n",
       " -1.0000000000000002"
      ]
     },
     "execution_count": 11,
     "metadata": {},
     "output_type": "execute_result"
    }
   ],
   "source": [
    "b_b = [4, 2, -1];\n",
    "x_b = A_b \\ b_b;\n",
    "x_b"
   ]
  },
  {
   "cell_type": "markdown",
   "id": "f7f2a578",
   "metadata": {},
   "source": [
    "Como a solução do sistema é $x = (1, -1, -1)$, o problema linear é infactível, pois não respeita a condição $x_1, x_2, x_3 > 0$.\n",
    "\n",
    "#### Item b\n",
    "\n",
    "Tomando o vetor $x = (t + 1, t + 2, 0, t)$, com $t\\in \\mathbb{R}_+$, temos que todas as restrições são satisfeitas, pois $x_1 + x_3 - x_4 = t + 1 + 0 - t = 1$ e $x_2 + 2x_3 - x_4 = t + 2 + 2\\cdot 0 - t = 2$ e, como $t\\in \\mathbb{R}_+$, todas as entradas do vetor são não negativas.\n",
    "\n",
    "Agora, perceba que a função a ser maximizada pode ser expressa por $t$, que é ilimitada.\n",
    "\n",
    "#### Item c\n",
    "\n",
    "Seguindo um misto das ideias dos dois itens anteriores, podemos ver que se um vetor $x$ é solução do sistema formado pelas restrições, então $x + td$, com $d = (1, 1, 1, 1, 1)$ e $t\\in \\mathbb{R}_+$ também será. Isso vai nos levar a uma função objetivo crescente e ilimitada (uma função linear do tipo $k + 2t$, com $k = c^\\top x$). Assim, para provar que o problema é ilimitado, basta encontrar um vetor $x$ com entradas não negativas que satisfaz as restrições do sistema $Ax = b$. Tal vetor pode ser encontrado facilmente:"
   ]
  },
  {
   "cell_type": "code",
   "execution_count": 12,
   "id": "1e8a7fa9",
   "metadata": {
    "scrolled": true
   },
   "outputs": [
    {
     "data": {
      "text/plain": [
       "5-element Vector{Float64}:\n",
       " 2.06838805477644\n",
       " 3.009404388714734\n",
       " 2.3537920035197715\n",
       " 0.6155474894131876\n",
       " 1.9528680635758675"
      ]
     },
     "execution_count": 12,
     "metadata": {},
     "output_type": "execute_result"
    }
   ],
   "source": [
    "A_c = [ 4  2  1 -6 -1\n",
    "       -1  1 -4  1  3\n",
    "        3 -6  5  3 -5];\n",
    "\n",
    "b_c = [11, -2, -8];\n",
    "x_c = A_c \\ b_c .+ 2;\n",
    "x_c"
   ]
  },
  {
   "cell_type": "markdown",
   "id": "df26ba6d",
   "metadata": {},
   "source": [
    "O que finaliza a prova de que o problema é ilimitado.\n",
    "\n",
    "#### Item d\n",
    "\n",
    "Utilizando os próprios vetores deduzidos nos itens anteriores, podemos ver que, como a função objetivo do item b é o próprio $t$, basta tomar $t = 5000$, chegando em $x_b = (5001, 5002, 0, 5000)$. Já para o item c, a função objetivo é da forma $k + 2t$, com $k = c^\\top x_c$. Temos um $x_c$ inicial, assim podemos encontrar $k$ e, com isso, encontrar $t$:"
   ]
  },
  {
   "cell_type": "code",
   "execution_count": 13,
   "id": "c746c77c",
   "metadata": {},
   "outputs": [
    {
     "data": {
      "text/plain": [
       "2499.514106583072"
      ]
     },
     "execution_count": 13,
     "metadata": {},
     "output_type": "execute_result"
    }
   ],
   "source": [
    "c = [1, -2, 1, 1, 1];\n",
    "k = c' * x_c;\n",
    "t = (5000 - k) / 2"
   ]
  },
  {
   "cell_type": "markdown",
   "id": "a24ec94f",
   "metadata": {},
   "source": [
    "Assim, a solução que buscamos é $x_c + td$:"
   ]
  },
  {
   "cell_type": "code",
   "execution_count": 14,
   "id": "6eb97345",
   "metadata": {},
   "outputs": [
    {
     "data": {
      "text/plain": [
       "5-element Vector{Float64}:\n",
       " 2501.5824946378484\n",
       " 2502.523510971787\n",
       " 2501.8678985865918\n",
       " 2500.129654072485\n",
       " 2501.466974646648"
      ]
     },
     "execution_count": 14,
     "metadata": {},
     "output_type": "execute_result"
    }
   ],
   "source": [
    "d = [1, 1, 1, 1, 1];\n",
    "x = x_c + t * d;\n",
    "x"
   ]
  },
  {
   "cell_type": "markdown",
   "id": "f0ee9474",
   "metadata": {},
   "source": [
    "### Exercício 2\n",
    "\n",
    "#### (i)\n",
    "\n",
    "Podemos tomar o vetor $y = \\begin{bmatrix}\\frac{9}{2} \\\\ -\\frac{7}{3} \\\\ -\\frac{7}{6}\\end{bmatrix}$, a matriz $A = \\begin{bmatrix}1 & 1 \\\\ 2 & 1 \\\\ -1 & 1\\end{bmatrix}$ e o vetor $b = \\begin{bmatrix}6 \\\\ 10 \\\\ 4\\end{bmatrix}$ que, como já vimos anteriormente no livro, sabemos que o problema dado pela restrição $Ax \\leq b$ e $x \\geq 0$ possui solução. Agora, perceba que $y^\\top A = \\begin{bmatrix}1 \\\\ 1\\end{bmatrix}$, enquanto $b^\\top y = -1$, como o enunciado pede, logo, a afirmação é falsa.\n",
    "\n",
    "#### (ii)\n",
    "\n",
    "Como $y\\geq 0$ podemos multiplicar ambos os lados por $y^\\top$ temos\n",
    "$y^\\top A x \\leq y^\\top b = b^\\top y < 0$. Mas como $v = y^\\top A > 0$ e $x > 0$, então $vx > 0$, o que é um absurdo, logo, o problema não tem solução.\n",
    "\n",
    "## Seção 2.2\n",
    "\n",
    "### Exercício 1\n",
    "\n",
    "#### Item a\n",
    "\n",
    "Utilizando a função elaborada anteriormente, temos:"
   ]
  },
  {
   "cell_type": "code",
   "execution_count": 15,
   "id": "0595a75c",
   "metadata": {},
   "outputs": [
    {
     "name": "stdout",
     "output_type": "stream",
     "text": [
      "Objetivo: Max\n",
      "Vetor de custos: [-2, 1, -4, -2, -4, 4, 0, 0, 0]\n",
      "Matrix A:\n",
      "[1.0, 2.0, 4.0, 7.0, 3.0, -4.0, 1.0, 0.0, 0.0]\n",
      "[2.0, 8.0, 9.0, 0.0, 0.0, -9.0, 0.0, 0.0, 0.0]\n",
      "[1.0, 1.0, 0.0, 2.0, 6.0, 0.0, 0.0, -1.0, 0.0]\n",
      "[-3.0, 4.0, 3.0, 1.0, -1.0, -3.0, 0.0, 0.0, -1.0]\n",
      "\n",
      "Sinais das restrições: [\"=\", \"=\", \"=\", \"=\"]\n",
      "Vetor b: [1, 2, 3, 4]\n",
      "Sinais das restrições de x: [\">=\", \">=\", \">=\", \">=\", \">=\", \">=\", \">=\", \">=\"]\n"
     ]
    }
   ],
   "source": [
    "obj = \"Min\";\n",
    "c = [2, -1, 4, 2, 4];\n",
    "A = [ 1  2  4  7  3\n",
    "      2  8  9  0  0\n",
    "      1  1  0  2  6\n",
    "     -3  4  3  1 -1];\n",
    "sig = [\"<=\", \"=\", \">=\", \">=\"];\n",
    "b = [1, 2, 3, 4];\n",
    "x_cons = [\">=\", \">=\", \"\", \">=\"];\n",
    "\n",
    "obj, c, A, sig, b, x_cons = SEF(obj, c, A, sig, b, x_cons);\n",
    "println(\"Objetivo: $obj\");\n",
    "println(\"Vetor de custos: $c\");\n",
    "println(\"Matrix A:\")\n",
    "for i in 1:size(A, 1)\n",
    "    println(A[i, :]);\n",
    "end\n",
    "println();\n",
    "println(\"Sinais das restrições: $sig\");\n",
    "println(\"Vetor b: $b\");\n",
    "println(\"Sinais das restrições de x: $x_cons\");"
   ]
  },
  {
   "cell_type": "markdown",
   "id": "bc1fdd23",
   "metadata": {},
   "source": [
    "#### Item b\n",
    "\n",
    "Primeiramente, vamos mudar o problema de minimização para maximização por meio da troca da função custo de $c^\\top x + d^\\top y$ para $-c^\\top x - d^\\top y$.\n",
    "\n",
    "Agora, sejam $n_A$ e $n_D$ as quantidades de linhas das matrizes $A$ e $D$, respectivamente. Para a restrição $Ax \\geq b$ podemos subtrair $I_{n_A}z$, onde $I_{n_A}$ é a identidade de dimensão $n_A$ x $n_A$ e $z \\geq 0$ é um vetor de $\\mathbb{R}^{n_A}$, representando as variáveis de folga. Dessa forma, a primeira restrição ficará $Ax - I_{n_A}z = b$. Para a segunda restrição, como $y$ está livre, podemos escrever $y = y^+ - y^-$, onde $y^+, y^- \\geq 0$, assim, podemos simplesmente reescrever a segunda restrição como $Bx + Dy^+ - Dy^- = f$, o que finaliza a padronização, gerando o problema:\n",
    "\n",
    "$\\max -c^\\top x - d^\\top y$\n",
    "\n",
    "sujeito a:\n",
    "\n",
    "$Ax - I_{n_A}z = b$\n",
    "\n",
    "$Bx + Dy^+ - Dy^- = f$\n",
    "\n",
    "$x, y^+, y^⁻, z \\geq 0$\n",
    "\n",
    "## Seção 2.3\n",
    "\n",
    "### Exercício 1\n",
    "\n",
    "#### Item a\n",
    "\n",
    "Aplicando as funções elaboradas anteriormente, temos:"
   ]
  },
  {
   "cell_type": "code",
   "execution_count": 16,
   "id": "8393a0f2",
   "metadata": {},
   "outputs": [
    {
     "data": {
      "text/plain": [
       "(2.0, [0.0 0.0 6.0 1.0])"
      ]
     },
     "execution_count": 16,
     "metadata": {},
     "output_type": "execute_result"
    }
   ],
   "source": [
    "c = [-1, 0, 0, 2];\n",
    "A = [-1  1  0  2\n",
    "      1  0  1 -3];\n",
    "b = [2, 3];\n",
    "B = [2, 3];\n",
    "N = [1, 4];\n",
    "\n",
    "B, N, x = iteracao_simplex(c, A, b, B, N);\n",
    "c, A, b, B, N, z = CF(c, A, b, B, N, 0);\n",
    "z, x"
   ]
  },
  {
   "cell_type": "markdown",
   "id": "95aea511",
   "metadata": {},
   "source": [
    "#### Item b\n",
    "\n",
    "Analisando rapidamente o problema, vemos que o algoritmo irá escolher como valor para ir para a base a terceira coluna, pois a quarta tem coeficiente $-6$ na função objetivo. Como na matriz $A$ a terceira coluna é toda negativa, esse problema é ilimitado. Assim, aplicando o Simplex, devemos chegar a essa mesma conclusão:"
   ]
  },
  {
   "cell_type": "code",
   "execution_count": 17,
   "id": "5012c141",
   "metadata": {},
   "outputs": [
    {
     "data": {
      "text/plain": [
       "\"Ilimitado\""
      ]
     },
     "execution_count": 17,
     "metadata": {},
     "output_type": "execute_result"
    }
   ],
   "source": [
    "c = [0, 0, 4, -6];\n",
    "A = [ 1  0 -1  1\n",
    "      0  1 -3  2];\n",
    "b = [2, 1];\n",
    "B = [1, 2];\n",
    "N = [3, 4];\n",
    "\n",
    "sol = iteracao_simplex(c, A, b, B, N);\n",
    "sol"
   ]
  },
  {
   "cell_type": "markdown",
   "id": "3204fc2a",
   "metadata": {},
   "source": [
    "## Seção 2.4\n",
    "\n",
    "### Exercício 1\n",
    "\n",
    "#### Item a\n",
    "\n",
    "O enunciado está muito confuso, não conseguimos entender o que é para provar, mas parece falso, vide exemplo de c, vetor ii. A matriz $A_J$ associada tem $3$ linhas e $4$ colunas, logo, suas colunas não são LI.\n",
    "\n",
    "#### Item b\n",
    "\n",
    "Mesma coisa do item a. Agora o contra exemplo é o vetor i. A matriz $A_J$ associada é $3$x$2$, suas duas colunas são LI mas não resolve o sistema.\n",
    "\n",
    "#### Item c e d\n",
    "\n",
    "Como não temos restrições acerca de $x$, toda solução básica é uma solução básica factível, então, basta verificar se os vetores satisfazem $Ax = b$."
   ]
  },
  {
   "cell_type": "code",
   "execution_count": 18,
   "id": "f5037ecd",
   "metadata": {},
   "outputs": [
    {
     "name": "stdout",
     "output_type": "stream",
     "text": [
      "false\n",
      "true\n",
      "true\n",
      "true\n",
      "true\n"
     ]
    }
   ],
   "source": [
    "A = [ 1  1  0  2  1  1  1\n",
    "      0  2  2  0  0 -2  1\n",
    "      1  2  1  5  4  3  3];\n",
    "b = [2, 2, 6];\n",
    "i = [1, 1, 0, 0, 0, 0, 0];\n",
    "ii = [2, -1, 2, 0, 1, 0, 0];\n",
    "iii = [1, 0, 1, 0, 1, 0, 0];\n",
    "iv = [0, 0, 1, 1, 0, 0, 0];\n",
    "v = [0, 0.5, 0, 0, 0.5, 0, 1];\n",
    "\n",
    "println(sum(A * i .== b) == 3)\n",
    "println(sum(A * ii .== b) == 3)\n",
    "println(sum(A * iii .== b) == 3)\n",
    "println(sum(A * iv .== b) == 3)\n",
    "println(sum(A * v .== b) == 3)"
   ]
  },
  {
   "cell_type": "markdown",
   "id": "4f9b64c7",
   "metadata": {},
   "source": [
    "Já se considerarmos a factibilidade como sendo o fato de $x > 0$ (hipótese não apresentada no enunciado), então o item c permanece como acima e o d muda:"
   ]
  },
  {
   "cell_type": "code",
   "execution_count": 19,
   "id": "cb322510",
   "metadata": {},
   "outputs": [
    {
     "name": "stdout",
     "output_type": "stream",
     "text": [
      "false\n",
      "false\n",
      "true\n",
      "true\n",
      "true\n"
     ]
    }
   ],
   "source": [
    "A = [ 1  1  0  2  1  1  1\n",
    "      0  2  2  0  0 -2  1\n",
    "      1  2  1  5  4  3  3];\n",
    "b = [2, 2, 6];\n",
    "i = [1, 1, 0, 0, 0, 0, 0];\n",
    "ii = [2, -1, 2, 0, 1, 0, 0];\n",
    "iii = [1, 0, 1, 0, 1, 0, 0];\n",
    "iv = [0, 0, 1, 1, 0, 0, 0];\n",
    "v = [0, 0.5, 0, 0, 0.5, 0, 1];\n",
    "\n",
    "println((sum(A * i .== b) == 3) * (sum(i .>= 0) == 7))\n",
    "println((sum(A * ii .== b) == 3) * (sum(ii .>= 0) == 7))\n",
    "println((sum(A * iii .== b) == 3) * (sum(iii .>= 0) == 7))\n",
    "println((sum(A * iv .== b) == 3) * (sum(iv .>= 0) == 7))\n",
    "println((sum(A * v .== b) == 3) * (sum(v .>= 0) == 7))"
   ]
  },
  {
   "cell_type": "markdown",
   "id": "c3c1a71c",
   "metadata": {},
   "source": [
    "### Exercício 2\n",
    "\n",
    "#### Item a"
   ]
  },
  {
   "cell_type": "code",
   "execution_count": 20,
   "id": "1ae54107",
   "metadata": {},
   "outputs": [
    {
     "name": "stdout",
     "output_type": "stream",
     "text": [
      "Novo vetor c: [0.0, -5.0, 4.0, 0.0, 1.0]\n",
      "Novo vetor b: [-2.0, -3.0]\n",
      "Nova matriz A:\n",
      "[1.0, 1.0, -1.0, 0.0, 1.0]\n",
      "[0.0, 2.0, -3.0, 1.0, 1.0]\n"
     ]
    }
   ],
   "source": [
    "c = [1, -2, 0, 1, 3];\n",
    "A = [ 1 -1  2 -1  0\n",
    "      2  0  1 -1  1];\n",
    "b = [1, -1];\n",
    "B = [1, 4];\n",
    "N = [2, 3, 5];\n",
    "c, A, b, B, N, z = CF(c, A, b, B, N, 0);\n",
    "println(\"Novo vetor c: $c\");\n",
    "println(\"Novo vetor b: $b\");\n",
    "println(\"Nova matriz A:\");\n",
    "for i in 1:size(A, 1)\n",
    "    println(A[i, :]);\n",
    "end"
   ]
  },
  {
   "cell_type": "markdown",
   "id": "44e2521c",
   "metadata": {},
   "source": [
    "Onde vemos que a solução básica é infactível, pois o vetor $b$ possui entradas negativas, enquanto $x$ deve possuir apenas entradas não negativas.\n",
    "\n",
    "#### Item b"
   ]
  },
  {
   "cell_type": "code",
   "execution_count": 21,
   "id": "d2041cf0",
   "metadata": {},
   "outputs": [
    {
     "name": "stdout",
     "output_type": "stream",
     "text": [
      "Novo vetor c: [-3.5, -3.5, 0.0, 2.5, 0.0]\n",
      "Novo vetor b: [0.5, -1.5]\n",
      "Nova matriz A:\n",
      "[0.5, -0.5, 1.0, -0.5, 0.0]\n",
      "[1.5, 0.5, 0.0, -0.5, 1.0]\n"
     ]
    }
   ],
   "source": [
    "c = [1, -2, 0, 1, 3];\n",
    "A = [ 1 -1  2 -1  0\n",
    "      2  0  1 -1  1];\n",
    "b = [1, -1];\n",
    "B = [3, 5];\n",
    "N = [1, 2, 4];\n",
    "c, A, b, B, N, z = CF(c, A, b, B, N, 0);\n",
    "println(\"Novo vetor c: $c\");\n",
    "println(\"Novo vetor b: $b\");\n",
    "println(\"Nova matriz A:\");\n",
    "for i in 1:size(A, 1)\n",
    "    println(A[i, :]);\n",
    "end"
   ]
  },
  {
   "cell_type": "markdown",
   "id": "94157e19",
   "metadata": {},
   "source": [
    "Por argumento análogo ao anterior, temos que a solução básica inicial é infactível.\n",
    "\n",
    "### Exercício 5\n",
    "\n",
    "#### Item a\n",
    "\n",
    "Como o problema já está na forma canônica, podemos tomar como solução básica o vetor $\\overline{x} = \\begin{bmatrix}4 \\\\ 8 \\\\ 5 \\\\ 0 \\\\ 0 \\\\ 0\\end{bmatrix}$.\n",
    "\n",
    "#### Item b\n",
    "\n",
    "Ao aplicar o Simplex devemos trocar algum valor de $B$ com algum de $N$. Porém, como temos que $c_B = 0$ e $c_N < 0$, isso nos daria um custo negativo, o que diminuiria o valor da função objetivo. Logo, estamos no ponto ótimo.\n",
    "\n",
    "#### Item c\n",
    "\n",
    "Como no item anterior vimos que $17$ é o valor ótimo da função objetivo, qualquer nova solução ótima deve ter valor igual a $17$. Além disso, para termos esse valor na função objetivo devemos ter, obrigatoriamente, $x_4 = x_5 = x_6 = 0$. Com essas restrições, podemos ver que $x_1$, $x_2$ e $x_3$ estão determinados e que $J = \\{j : x'_j \\neq 0\\} \\subseteq B$. Agora, podemos ver que $A_J = I$, ou seja, suas colunas são LI e, com isso, $x'$ deve ser solução básica.\n",
    "\n",
    "#### Item d\n",
    "\n",
    "Por argumento análogo ao do item b, temos que $\\overline{x}$ é solução ótima.\n",
    "\n",
    "#### Item e\n",
    "\n",
    "Novamente, com argumento análogo ao do item c, bastando substituir $x_4$, $x_5$ e $x_6$ por $x_N$, podemos ver que os valores de $x_B$ estão determinados, o que implica em $x' = \\overline{x}$."
   ]
  }
 ],
 "metadata": {
  "kernelspec": {
   "display_name": "Julia 1.7.2",
   "language": "julia",
   "name": "julia-1.7"
  },
  "language_info": {
   "file_extension": ".jl",
   "mimetype": "application/julia",
   "name": "julia",
   "version": "1.7.2"
  }
 },
 "nbformat": 4,
 "nbformat_minor": 5
}
