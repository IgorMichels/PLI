{
 "cells": [
  {
   "cell_type": "code",
   "execution_count": 1,
   "id": "56fa3ff3",
   "metadata": {},
   "outputs": [],
   "source": [
    "using JuMP;\n",
    "using GLPK;"
   ]
  },
  {
   "cell_type": "markdown",
   "id": "fdb0a330",
   "metadata": {},
   "source": [
    "# Questão 13\n",
    "\n",
    "### Restrições do problema"
   ]
  },
  {
   "cell_type": "code",
   "execution_count": 2,
   "id": "f22e129b",
   "metadata": {},
   "outputs": [],
   "source": [
    "coeff = [6, 4, 4, 1, 1];\n",
    "n = size(coeff, 1);\n",
    "\n",
    "A = [2 2 3 1 2];\n",
    "\n",
    "b = [7];\n",
    "s = [\"=\"];"
   ]
  },
  {
   "cell_type": "markdown",
   "id": "cbc28583",
   "metadata": {},
   "source": [
    "### Solução Inicial"
   ]
  },
  {
   "cell_type": "code",
   "execution_count": 3,
   "id": "b3373dd2",
   "metadata": {},
   "outputs": [
    {
     "name": "stdout",
     "output_type": "stream",
     "text": [
      "[3.5, 0.0, 0.0, 0.0, 0.0] 21.0\n"
     ]
    }
   ],
   "source": [
    "model = Model(GLPK.Optimizer);\n",
    "@variable(model, x[i = 1:n] >= 0, base_name = \"x\");\n",
    "opt_function = @expression(model, coeff'*x);\n",
    "@constraint(model, C, A*x .<= b);\n",
    "@objective(model, Max, opt_function);\n",
    "\n",
    "status = JuMP.optimize!(model);\n",
    "xstar = value.(x);\n",
    "println(xstar, ' ', JuMP.objective_value(model));"
   ]
  },
  {
   "cell_type": "markdown",
   "id": "c38be87b",
   "metadata": {},
   "source": [
    "### Restrição $x_1 \\leq 3$"
   ]
  },
  {
   "cell_type": "code",
   "execution_count": 4,
   "id": "7331b01c",
   "metadata": {},
   "outputs": [
    {
     "name": "stdout",
     "output_type": "stream",
     "text": [
      "[3.0, 0.5, 0.0, 0.0, 0.0] 20.0\n"
     ]
    }
   ],
   "source": [
    "model = Model(GLPK.Optimizer);\n",
    "@variable(model, x[i = 1:n] >= 0, base_name = \"x\");\n",
    "opt_function = @expression(model, coeff'*x);\n",
    "@constraint(model, C1, A*x .<= b);\n",
    "@constraint(model, C2, x[1] <= 3);\n",
    "@objective(model, Max, opt_function);\n",
    "\n",
    "status = JuMP.optimize!(model);\n",
    "xstar = value.(x);\n",
    "println(xstar, ' ', JuMP.objective_value(model));"
   ]
  },
  {
   "cell_type": "markdown",
   "id": "0c1f11b2",
   "metadata": {},
   "source": [
    "### Restrição $x_1 \\geq 4$"
   ]
  },
  {
   "cell_type": "code",
   "execution_count": 5,
   "id": "07852725",
   "metadata": {},
   "outputs": [
    {
     "name": "stdout",
     "output_type": "stream",
     "text": [
      "[3.5, 0.0, 0.0, 0.0, 0.0] 21.0\n"
     ]
    }
   ],
   "source": [
    "model = Model(GLPK.Optimizer);\n",
    "@variable(model, x[i = 1:n] >= 0, base_name = \"x\");\n",
    "opt_function = @expression(model, coeff'*x);\n",
    "@constraint(model, C1, A*x .<= b);\n",
    "@constraint(model, C2, x[1] >= 4);\n",
    "@objective(model, Max, opt_function);\n",
    "\n",
    "status = JuMP.optimize!(model);\n",
    "xstar = value.(x);\n",
    "println(xstar, ' ', JuMP.objective_value(model));"
   ]
  },
  {
   "cell_type": "markdown",
   "id": "46ad4252",
   "metadata": {},
   "source": [
    "Ou seja, é infactível, podendo parar de expandir esse ramo.\n",
    "\n",
    "### Restrições $x_1 \\leq 3$, $x_2 \\leq 0$"
   ]
  },
  {
   "cell_type": "code",
   "execution_count": 6,
   "id": "b4e7192e",
   "metadata": {},
   "outputs": [
    {
     "name": "stdout",
     "output_type": "stream",
     "text": [
      "[3.0, 0.0, 0.3333333333333333, 0.0, 0.0] 19.333333333333332\n"
     ]
    }
   ],
   "source": [
    "model = Model(GLPK.Optimizer);\n",
    "@variable(model, x[i = 1:n] >= 0, base_name = \"x\");\n",
    "opt_function = @expression(model, coeff'*x);\n",
    "@constraint(model, C1, A*x .<= b);\n",
    "@constraint(model, C2, x[1] <= 3);\n",
    "@constraint(model, C3, x[2] <= 0);\n",
    "@objective(model, Max, opt_function);\n",
    "\n",
    "status = JuMP.optimize!(model);\n",
    "xstar = value.(x);\n",
    "println(xstar, ' ', JuMP.objective_value(model));"
   ]
  },
  {
   "cell_type": "markdown",
   "id": "ae8e47ba",
   "metadata": {},
   "source": [
    "Onde já temos as restrições de $x_1$ e $x_2$ inteiros satisfeitas, ou seja, podemos parar de expandir esse ramo.\n",
    "\n",
    "### Restrições $x_1 \\leq 3$, $x_2 \\geq 1$"
   ]
  },
  {
   "cell_type": "code",
   "execution_count": 7,
   "id": "fdf0413a",
   "metadata": {},
   "outputs": [
    {
     "name": "stdout",
     "output_type": "stream",
     "text": [
      "[2.5, 1.0, 0.0, 0.0, 0.0] 19.0\n"
     ]
    }
   ],
   "source": [
    "model = Model(GLPK.Optimizer);\n",
    "@variable(model, x[i = 1:n] >= 0, base_name = \"x\");\n",
    "opt_function = @expression(model, coeff'*x);\n",
    "@constraint(model, C1, A*x .<= b);\n",
    "@constraint(model, C2, x[1] <= 3);\n",
    "@constraint(model, C3, x[2] >= 1);\n",
    "@objective(model, Max, opt_function);\n",
    "\n",
    "status = JuMP.optimize!(model);\n",
    "xstar = value.(x);\n",
    "println(xstar, ' ', JuMP.objective_value(model));"
   ]
  },
  {
   "cell_type": "markdown",
   "id": "ee3ba9ec",
   "metadata": {},
   "source": [
    "Note que aqui não temos as restrições de inteiro satisfeitas, mas o valor de $z$ é inferior a $19.3333$, que foi obtido no outro ramo, ou seja, podemos parar de expandir esse ramo, chegando a solução $x_1 = 3$, $x_2 = 0$, $x_3 = \\frac{1}{3}$, $x_4 = 0$, $x_5 = 0$ e $z = \\frac{58}{3}$."
   ]
  },
  {
   "cell_type": "markdown",
   "id": "48ca4550",
   "metadata": {},
   "source": [
    "<img src = \"q13bab.png\">"
   ]
  },
  {
   "cell_type": "markdown",
   "id": "f545b31f",
   "metadata": {},
   "source": [
    "## Gabarito"
   ]
  },
  {
   "cell_type": "code",
   "execution_count": 8,
   "id": "2518659d",
   "metadata": {},
   "outputs": [
    {
     "name": "stdout",
     "output_type": "stream",
     "text": [
      "[3.0, 0.0]\n",
      "[0.3333333333333333, 0.0, 0.0]\n",
      "19.333333333333332\n"
     ]
    }
   ],
   "source": [
    "coeff = [6, 4, 4, 1, 1];\n",
    "n = size(coeff, 1);\n",
    "\n",
    "A = [2 2 3 1 2];\n",
    "\n",
    "b = [7];\n",
    "s = [\"=\"];\n",
    "\n",
    "model = Model(GLPK.Optimizer);\n",
    "@variable(model, x1[i = 1:2] >= 0, base_name = \"x\", Int);\n",
    "@variable(model, x2[i = 1:3] >= 0, base_name = \"x\");\n",
    "opt_function = @expression(model, coeff[1:2]'*x1 + coeff[3:n]'*x2);\n",
    "@constraint(model, C, A[1, 1:2]'*x1 + A[1, 3:n]'*x2 .<= b);\n",
    "@objective(model, Max, opt_function);\n",
    "\n",
    "status = JuMP.optimize!(model);\n",
    "xstar1 = value.(x1);\n",
    "xstar2 = value.(x2);\n",
    "println(xstar1)\n",
    "println(xstar2)\n",
    "println(JuMP.objective_value(model));"
   ]
  }
 ],
 "metadata": {
  "kernelspec": {
   "display_name": "Julia 1.6.0",
   "language": "julia",
   "name": "julia-1.6"
  },
  "language_info": {
   "file_extension": ".jl",
   "mimetype": "application/julia",
   "name": "julia",
   "version": "1.6.0"
  }
 },
 "nbformat": 4,
 "nbformat_minor": 5
}
