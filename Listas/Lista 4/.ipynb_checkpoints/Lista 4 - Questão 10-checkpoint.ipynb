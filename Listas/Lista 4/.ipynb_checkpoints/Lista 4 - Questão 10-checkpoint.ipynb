{
 "cells": [
  {
   "cell_type": "code",
   "execution_count": 1,
   "id": "56fa3ff3",
   "metadata": {},
   "outputs": [],
   "source": [
    "using JuMP;\n",
    "using GLPK;"
   ]
  },
  {
   "cell_type": "markdown",
   "id": "fdb0a330",
   "metadata": {},
   "source": [
    "# Questão 10\n",
    "\n",
    "### Restrições do problema"
   ]
  },
  {
   "cell_type": "code",
   "execution_count": 2,
   "id": "f22e129b",
   "metadata": {},
   "outputs": [],
   "source": [
    "coeff = [1, 5];\n",
    "n = size(coeff, 1);\n",
    "\n",
    "A = [-4 3\n",
    "      3 2];\n",
    "\n",
    "b = [6, 18];\n",
    "s = [\"<=\", \"<=\"];"
   ]
  },
  {
   "cell_type": "markdown",
   "id": "cbc28583",
   "metadata": {},
   "source": [
    "### Solução Inicial"
   ]
  },
  {
   "cell_type": "code",
   "execution_count": 3,
   "id": "b3373dd2",
   "metadata": {},
   "outputs": [
    {
     "name": "stdout",
     "output_type": "stream",
     "text": [
      "[2.4705882352941178, 5.294117647058823] 28.941176470588232\n"
     ]
    }
   ],
   "source": [
    "model = Model(GLPK.Optimizer);\n",
    "@variable(model, x[i = 1:n] >= 0, base_name = \"x\");\n",
    "opt_function = @expression(model, coeff'*x);\n",
    "@constraint(model, C, A*x .<= b);\n",
    "@objective(model, Max, opt_function);\n",
    "\n",
    "status = JuMP.optimize!(model);\n",
    "xstar = value.(x);\n",
    "println(xstar, ' ', JuMP.objective_value(model));"
   ]
  },
  {
   "cell_type": "markdown",
   "id": "c38be87b",
   "metadata": {},
   "source": [
    "### Restrição $x_1 \\leq 2$"
   ]
  },
  {
   "cell_type": "code",
   "execution_count": 4,
   "id": "7331b01c",
   "metadata": {},
   "outputs": [
    {
     "name": "stdout",
     "output_type": "stream",
     "text": [
      "[2.0, 4.666666666666667] 25.333333333333336\n"
     ]
    }
   ],
   "source": [
    "model = Model(GLPK.Optimizer);\n",
    "@variable(model, x[i = 1:n] >= 0, base_name = \"x\");\n",
    "opt_function = @expression(model, coeff'*x);\n",
    "@constraint(model, C1, A*x .<= b);\n",
    "@constraint(model, C2, x[1] <= 2);\n",
    "@objective(model, Max, opt_function);\n",
    "\n",
    "status = JuMP.optimize!(model);\n",
    "xstar = value.(x);\n",
    "println(xstar, ' ', JuMP.objective_value(model));"
   ]
  },
  {
   "cell_type": "markdown",
   "id": "0c1f11b2",
   "metadata": {},
   "source": [
    "### Restrição $x_1 \\geq 3$"
   ]
  },
  {
   "cell_type": "code",
   "execution_count": 5,
   "id": "07852725",
   "metadata": {},
   "outputs": [
    {
     "name": "stdout",
     "output_type": "stream",
     "text": [
      "[3.0, 4.5] 25.5\n"
     ]
    }
   ],
   "source": [
    "model = Model(GLPK.Optimizer);\n",
    "@variable(model, x[i = 1:n] >= 0, base_name = \"x\");\n",
    "opt_function = @expression(model, coeff'*x);\n",
    "@constraint(model, C1, A*x .<= b);\n",
    "@constraint(model, C2, x[1] >= 3);\n",
    "@objective(model, Max, opt_function);\n",
    "\n",
    "status = JuMP.optimize!(model);\n",
    "xstar = value.(x);\n",
    "println(xstar, ' ', JuMP.objective_value(model));"
   ]
  },
  {
   "cell_type": "markdown",
   "id": "46ad4252",
   "metadata": {},
   "source": [
    "### Restrições $x_1 \\geq 3$, $x_2 \\geq 5$"
   ]
  },
  {
   "cell_type": "code",
   "execution_count": 6,
   "id": "b4e7192e",
   "metadata": {},
   "outputs": [
    {
     "name": "stdout",
     "output_type": "stream",
     "text": [
      "[3.0, 4.5] 25.5\n"
     ]
    }
   ],
   "source": [
    "model = Model(GLPK.Optimizer);\n",
    "@variable(model, x[i = 1:n] >= 0, base_name = \"x\");\n",
    "opt_function = @expression(model, coeff'*x);\n",
    "@constraint(model, C1, A*x .<= b);\n",
    "@constraint(model, C2, x[1] >= 3);\n",
    "@constraint(model, C3, x[2] >= 5);\n",
    "@objective(model, Max, opt_function);\n",
    "\n",
    "status = JuMP.optimize!(model);\n",
    "xstar = value.(x);\n",
    "println(xstar, ' ', JuMP.objective_value(model));"
   ]
  },
  {
   "cell_type": "markdown",
   "id": "ae8e47ba",
   "metadata": {},
   "source": [
    "Isso é infactível, logo, não precisamos mais expandir esse ramo.\n",
    "\n",
    "### Restrições $x_1 \\geq 3$, $x_2 \\leq 4$"
   ]
  },
  {
   "cell_type": "code",
   "execution_count": 7,
   "id": "fdf0413a",
   "metadata": {},
   "outputs": [
    {
     "name": "stdout",
     "output_type": "stream",
     "text": [
      "[3.3333333333333335, 4.0] 23.333333333333332\n"
     ]
    }
   ],
   "source": [
    "model = Model(GLPK.Optimizer);\n",
    "@variable(model, x[i = 1:n] >= 0, base_name = \"x\");\n",
    "opt_function = @expression(model, coeff'*x);\n",
    "@constraint(model, C1, A*x .<= b);\n",
    "@constraint(model, C2, x[1] >= 3);\n",
    "@constraint(model, C3, x[2] <= 4);\n",
    "@objective(model, Max, opt_function);\n",
    "\n",
    "status = JuMP.optimize!(model);\n",
    "xstar = value.(x);\n",
    "println(xstar, ' ', JuMP.objective_value(model));"
   ]
  },
  {
   "cell_type": "markdown",
   "id": "ee3ba9ec",
   "metadata": {},
   "source": [
    "### Restrições $x_1 \\leq 2$, $x_2 \\leq 4$"
   ]
  },
  {
   "cell_type": "code",
   "execution_count": 8,
   "id": "81be4ba2",
   "metadata": {},
   "outputs": [
    {
     "name": "stdout",
     "output_type": "stream",
     "text": [
      "[2.0, 4.0] 22.0\n"
     ]
    }
   ],
   "source": [
    "model = Model(GLPK.Optimizer);\n",
    "@variable(model, x[i = 1:n] >= 0, base_name = \"x\");\n",
    "opt_function = @expression(model, coeff'*x);\n",
    "@constraint(model, C1, A*x .<= b);\n",
    "@constraint(model, C2, x[1] <= 2);\n",
    "@constraint(model, C3, x[2] <= 4);\n",
    "@objective(model, Max, opt_function);\n",
    "\n",
    "status = JuMP.optimize!(model);\n",
    "xstar = value.(x);\n",
    "println(xstar, ' ', JuMP.objective_value(model));"
   ]
  },
  {
   "cell_type": "markdown",
   "id": "cf7f8b00",
   "metadata": {},
   "source": [
    "Como os valores de $x_1$ e $x_2$ são inteiros, podemos parar de expandir esse ramo.\n",
    "\n",
    "### Restrições $x_1 \\leq 2$, $x_2 \\geq 5$"
   ]
  },
  {
   "cell_type": "code",
   "execution_count": 9,
   "id": "1394d42b",
   "metadata": {},
   "outputs": [
    {
     "name": "stdout",
     "output_type": "stream",
     "text": [
      "[2.0, 4.666666666666667] 25.333333333333336\n"
     ]
    }
   ],
   "source": [
    "model = Model(GLPK.Optimizer);\n",
    "@variable(model, x[i = 1:n] >= 0, base_name = \"x\");\n",
    "opt_function = @expression(model, coeff'*x);\n",
    "@constraint(model, C1, A*x .<= b);\n",
    "@constraint(model, C2, x[1] <= 2);\n",
    "@constraint(model, C3, x[2] >= 5);\n",
    "@objective(model, Max, opt_function);\n",
    "\n",
    "status = JuMP.optimize!(model);\n",
    "xstar = value.(x);\n",
    "println(xstar, ' ', JuMP.objective_value(model));"
   ]
  },
  {
   "cell_type": "markdown",
   "id": "e088ca6f",
   "metadata": {},
   "source": [
    "Isso também é infactível.\n",
    "\n",
    "### Restrições $x_1 \\geq 3$, $x_2 \\leq 4$, $x_1 \\leq 3$"
   ]
  },
  {
   "cell_type": "code",
   "execution_count": 10,
   "id": "5310b13b",
   "metadata": {},
   "outputs": [
    {
     "name": "stdout",
     "output_type": "stream",
     "text": [
      "[3.0, 4.0] 23.0\n"
     ]
    }
   ],
   "source": [
    "model = Model(GLPK.Optimizer);\n",
    "@variable(model, x[i = 1:n] >= 0, base_name = \"x\");\n",
    "opt_function = @expression(model, coeff'*x);\n",
    "@constraint(model, C1, A*x .<= b);\n",
    "@constraint(model, C2, x[1] >= 3);\n",
    "@constraint(model, C3, x[2] <= 4);\n",
    "@constraint(model, C4, x[1] <= 3);\n",
    "@objective(model, Max, opt_function);\n",
    "\n",
    "status = JuMP.optimize!(model);\n",
    "xstar = value.(x);\n",
    "println(xstar, ' ', JuMP.objective_value(model));"
   ]
  },
  {
   "cell_type": "markdown",
   "id": "c4c97d32",
   "metadata": {},
   "source": [
    "Como $x_1$ e $x_2$ são inteiros, paramos de expandir esse ramo.\n",
    "\n",
    "### Restrições $x_1 \\geq 3$, $x_2 \\leq 4$, $x_1 \\geq 4$"
   ]
  },
  {
   "cell_type": "code",
   "execution_count": 11,
   "id": "3ab9348c",
   "metadata": {},
   "outputs": [
    {
     "name": "stdout",
     "output_type": "stream",
     "text": [
      "[4.0, 3.0] 19.0\n"
     ]
    }
   ],
   "source": [
    "model = Model(GLPK.Optimizer);\n",
    "@variable(model, x[i = 1:n] >= 0, base_name = \"x\");\n",
    "opt_function = @expression(model, coeff'*x);\n",
    "@constraint(model, C1, A*x .<= b);\n",
    "@constraint(model, C2, x[1] >= 3);\n",
    "@constraint(model, C3, x[2] <= 4);\n",
    "@constraint(model, C4, x[1] >= 4);\n",
    "@objective(model, Max, opt_function);\n",
    "\n",
    "status = JuMP.optimize!(model);\n",
    "xstar = value.(x);\n",
    "println(xstar, ' ', JuMP.objective_value(model));"
   ]
  },
  {
   "cell_type": "markdown",
   "id": "c705247e",
   "metadata": {},
   "source": [
    "Como $z = 19 < 23$, podemos parar de expandir aqui também, pois já temos um par $(x_1, x_2)$, de inteiros, cujo valor da função é maior que o atual.\n",
    "\n",
    "Dessa forma, a resposta para esse problema de otimização é $x_1 = 3$ e $x_2 = 4$, com $z = 23$.\n",
    "\n",
    "Abaixo a evolução do Branch and Bound."
   ]
  },
  {
   "cell_type": "markdown",
   "id": "48ca4550",
   "metadata": {},
   "source": [
    "<img src = \"q10bab.png\">"
   ]
  },
  {
   "cell_type": "markdown",
   "id": "f545b31f",
   "metadata": {},
   "source": [
    "## Gabarito"
   ]
  },
  {
   "cell_type": "code",
   "execution_count": 12,
   "id": "2518659d",
   "metadata": {},
   "outputs": [
    {
     "name": "stdout",
     "output_type": "stream",
     "text": [
      "[3.0, 4.0] 23.0\n"
     ]
    }
   ],
   "source": [
    "coeff = [1, 5];\n",
    "n = size(coeff, 1);\n",
    "\n",
    "A = [-4 3\n",
    "      3 2];\n",
    "\n",
    "b = [6, 18];\n",
    "s = [\"<=\", \"<=\"];\n",
    "\n",
    "model = Model(GLPK.Optimizer);\n",
    "@variable(model, x[i = 1:n] >= 0, base_name = \"x\", Int);\n",
    "opt_function = @expression(model, coeff'*x);\n",
    "@constraint(model, C, A*x .<= b);\n",
    "@objective(model, Max, opt_function);\n",
    "\n",
    "status = JuMP.optimize!(model);\n",
    "xstar = value.(x);\n",
    "println(xstar, ' ', JuMP.objective_value(model));"
   ]
  }
 ],
 "metadata": {
  "kernelspec": {
   "display_name": "Julia 1.6.0",
   "language": "julia",
   "name": "julia-1.6"
  },
  "language_info": {
   "file_extension": ".jl",
   "mimetype": "application/julia",
   "name": "julia",
   "version": "1.6.0"
  }
 },
 "nbformat": 4,
 "nbformat_minor": 5
}
