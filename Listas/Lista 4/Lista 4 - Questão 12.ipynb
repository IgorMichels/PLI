{
 "cells": [
  {
   "cell_type": "code",
   "execution_count": 1,
   "id": "56fa3ff3",
   "metadata": {},
   "outputs": [],
   "source": [
    "using JuMP;\n",
    "using GLPK;"
   ]
  },
  {
   "cell_type": "markdown",
   "id": "fdb0a330",
   "metadata": {},
   "source": [
    "# Questão 12\n",
    "\n",
    "### Restrições do problema"
   ]
  },
  {
   "cell_type": "code",
   "execution_count": 2,
   "id": "f22e129b",
   "metadata": {},
   "outputs": [],
   "source": [
    "coeff = [-5, -1, -2, 0, 0];\n",
    "n = size(coeff, 1);\n",
    "\n",
    "A = [-2  1 -1  1  0\n",
    "      2  1  1  0  1];\n",
    "\n",
    "b = [7/2, 2];\n",
    "s = [\"=\", \"=\"];"
   ]
  },
  {
   "cell_type": "markdown",
   "id": "cbc28583",
   "metadata": {},
   "source": [
    "### Solução Inicial"
   ]
  },
  {
   "cell_type": "code",
   "execution_count": 3,
   "id": "b3373dd2",
   "metadata": {},
   "outputs": [
    {
     "name": "stdout",
     "output_type": "stream",
     "text": [
      "[0.0, 0.0, 0.0, 3.5, 2.0] 5.0\n"
     ]
    }
   ],
   "source": [
    "model = Model(GLPK.Optimizer);\n",
    "@variable(model, x[i = 1:n] >= 0, base_name = \"x\");\n",
    "opt_function = @expression(model, coeff'*x + 5);\n",
    "@constraint(model, C, A*x .== b);\n",
    "@objective(model, Max, opt_function);\n",
    "\n",
    "status = JuMP.optimize!(model);\n",
    "xstar = value.(x);\n",
    "println(xstar, ' ', JuMP.objective_value(model));"
   ]
  },
  {
   "cell_type": "markdown",
   "id": "c38be87b",
   "metadata": {},
   "source": [
    "Como $x_3 = 0$ e $x_5 = 2$, já inteiros, temos que todas as restrições estão satisfeitas, logo, essa é a solução do nosso problema linear."
   ]
  },
  {
   "cell_type": "markdown",
   "id": "48ca4550",
   "metadata": {},
   "source": [
    "<img src = \"q12bab.png\">"
   ]
  }
 ],
 "metadata": {
  "kernelspec": {
   "display_name": "Julia 1.6.0",
   "language": "julia",
   "name": "julia-1.6"
  },
  "language_info": {
   "file_extension": ".jl",
   "mimetype": "application/julia",
   "name": "julia",
   "version": "1.6.0"
  }
 },
 "nbformat": 4,
 "nbformat_minor": 5
}
