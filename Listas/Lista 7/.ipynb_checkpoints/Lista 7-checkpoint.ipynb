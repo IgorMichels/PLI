{
 "cells": [
  {
   "cell_type": "markdown",
   "id": "5bcf5538",
   "metadata": {},
   "source": [
    "# Implementações\n",
    "\n",
    "Fernanda Gomes e Igor Michels"
   ]
  },
  {
   "cell_type": "code",
   "execution_count": 1,
   "id": "20aeb669",
   "metadata": {},
   "outputs": [],
   "source": [
    "using LinearAlgebra;"
   ]
  },
  {
   "cell_type": "markdown",
   "id": "a8a18181",
   "metadata": {},
   "source": [
    "## Simplex duas fases\n",
    "\n",
    "### Forma Padrão"
   ]
  },
  {
   "cell_type": "code",
   "execution_count": 2,
   "id": "997afca2",
   "metadata": {},
   "outputs": [],
   "source": [
    "function SEF(obj, c, A, sig, b, x_cons)\n",
    "    \"\"\"\n",
    "    obj    : string (Min or Max)\n",
    "    c      : vector of costs\n",
    "    A      : matrix of coeff\n",
    "    sig    : constraints' signal (vector of strings)\n",
    "    b      : constraints (vector)\n",
    "    x_cons : vector of constraints for x vector (\"<=\", \">=\" or \"\" in relation to 0)\n",
    "    \"\"\"\n",
    "    \n",
    "    if obj == \"Min\"\n",
    "        obj = \"Max\";\n",
    "        c = -c;\n",
    "    end\n",
    "    \n",
    "    for i in 1:length(x_cons)\n",
    "        if x_cons[i] == \"<=\"\n",
    "            A[:, i] = -A[:, i];\n",
    "            c[i] = -c[i];\n",
    "        elseif x_cons[i] == \"\"\n",
    "            A = hcat(A, -A[:, i]);\n",
    "            append!(c, -c[i]);\n",
    "            x_cons[i] = \">=\";\n",
    "            append!(x_cons, [\">=\"]);\n",
    "        end\n",
    "    end\n",
    "    \n",
    "    for i in 1:length(sig)\n",
    "        if sig[i] == \">=\"\n",
    "            n_lin, n_col = size(A);\n",
    "            A = hcat(A, zeros(n_lin, 1));\n",
    "            A[i, n_col + 1] = -1;\n",
    "            sig[i] = \"=\";\n",
    "            append!(x_cons, [\">=\"]);\n",
    "            append!(c, [0]);\n",
    "        elseif sig[i] == \"<=\"\n",
    "            n_lin, n_col = size(A);\n",
    "            A = hcat(A, zeros(n_lin, 1));\n",
    "            A[i, n_col + 1] = 1;\n",
    "            sig[i] = \"=\";\n",
    "            append!(x_cons, [\">=\"]);\n",
    "            append!(c, [0]);\n",
    "        end\n",
    "    end\n",
    "    return obj, c, A, sig, b, x_cons;\n",
    "end;"
   ]
  },
  {
   "cell_type": "markdown",
   "id": "c38ce6c3",
   "metadata": {},
   "source": [
    "### Iteração Simplex"
   ]
  },
  {
   "cell_type": "code",
   "execution_count": 3,
   "id": "fa6467dd",
   "metadata": {},
   "outputs": [],
   "source": [
    "function iteracao_simplex(c, A, b, B, N)\n",
    "    for i in 1:size(b, 1)\n",
    "        if b[i] < 0\n",
    "            b[i] = - b[i];\n",
    "            A[i, :] = - A[i, :];\n",
    "        end\n",
    "    end\n",
    "    \n",
    "    x = zeros(1, size(A, 2));\n",
    "    x[B] = b;\n",
    "    i = findfirst(c .> 0);\n",
    "    if isnothing(i)\n",
    "        return B, N, x;\n",
    "    end\n",
    "    \n",
    "    coeff = A[:, i];\n",
    "    t = b ./ coeff;\n",
    "    if t[t .> 0] == []\n",
    "        return \"Ilimitado\";\n",
    "    end\n",
    "    \n",
    "    tₒ = minimum(t[t .> 0]);\n",
    "    j = findfirst(t .== tₒ);\n",
    "    x[i] = tₒ;\n",
    "    for k in 1:length(B)\n",
    "        x[B[k]] -= coeff[k] * tₒ;\n",
    "    end\n",
    "    \n",
    "    B[j] = i;\n",
    "    N = Array(1:size(A, 2));\n",
    "    N = N[N .∉ Ref(B)];\n",
    "    sort!(B);\n",
    "    sort!(N);\n",
    "    \n",
    "    return B, N, x;\n",
    "end;"
   ]
  },
  {
   "cell_type": "markdown",
   "id": "b64d8b01",
   "metadata": {},
   "source": [
    "### Forma Canônica"
   ]
  },
  {
   "cell_type": "code",
   "execution_count": 4,
   "id": "9db7152a",
   "metadata": {},
   "outputs": [],
   "source": [
    "function CF(c, A, b, B = nothing, N = nothing, z = 0)\n",
    "    if isnothing(B)\n",
    "        n_lin, n_col = size(A);\n",
    "        corte = n_col - n_lin + 1;\n",
    "        B = Array(corte:n_col);\n",
    "        N = Array(1:(corte - 1));\n",
    "    end\n",
    "    \n",
    "    A_B = A[:, B];\n",
    "    A_B⁻¹ = inv(A_B);\n",
    "    y = transpose(A_B⁻¹) * c[B];\n",
    "    z = z + transpose(y) * b;\n",
    "    c = c - transpose(A) * y;\n",
    "    A = A_B⁻¹ * A;\n",
    "    b = A_B⁻¹ * b;\n",
    "    return c, A, b, B, N, z;\n",
    "end;"
   ]
  },
  {
   "cell_type": "markdown",
   "id": "b13b2d3f",
   "metadata": {},
   "source": [
    "### Teste de Infactibilidade"
   ]
  },
  {
   "cell_type": "code",
   "execution_count": 5,
   "id": "67ed59f3",
   "metadata": {},
   "outputs": [],
   "source": [
    "function infeasibility(A, b)\n",
    "    n, m = size(A);\n",
    "    A_aux = hcat(A, Matrix(I, n, n));\n",
    "    c = vcat(zeros(m), ones(n));\n",
    "    sig = [\"=\" for i in 1:n];\n",
    "    x_cons = [\">=\" for i in 1:(m + n)];\n",
    "    x, z = simplex(\"Min\", c, A_aux, sig, b, x_cons, false, false, false);\n",
    "    if z == 0\n",
    "        return true;\n",
    "    else\n",
    "        return false;\n",
    "    end\n",
    "end;"
   ]
  },
  {
   "cell_type": "markdown",
   "id": "c76c757e",
   "metadata": {},
   "source": [
    "### Implementação do Simplex"
   ]
  },
  {
   "cell_type": "code",
   "execution_count": 6,
   "id": "901b4159",
   "metadata": {},
   "outputs": [],
   "source": [
    "function simplex(obj, c, A, sig, b, x_cons, verify = true, printing = true, printing_iter = false)\n",
    "    if obj == \"Min\"\n",
    "        min = true;\n",
    "    else\n",
    "        min = false;\n",
    "    end\n",
    "    \n",
    "    obj, c, A, sig, b, x_cons = SEF(obj, c, A, sig, b, x_cons);\n",
    "    B = nothing;\n",
    "    N = nothing;\n",
    "    z = 0;\n",
    "    feasible = true;\n",
    "    if verify\n",
    "        feasible = infeasibility(A, b);\n",
    "    end\n",
    "    \n",
    "    if ~feasible\n",
    "        println(\"Problema infactível\");\n",
    "        return \"Infactível\";\n",
    "    end\n",
    "    \n",
    "    while true\n",
    "        c, A, b, B, N, z = CF(c, A, b, B, N, z);\n",
    "        sol = iteracao_simplex(c, A, b, B, N);\n",
    "        if printing_iter\n",
    "            println(\"Vetor c: $c\");\n",
    "            println(\"Vetor b: $b\");\n",
    "            println(\"Matriz A:\");\n",
    "            for i in 1:size(A, 1)\n",
    "                println(A[i, :]);\n",
    "            end\n",
    "            \n",
    "            println();\n",
    "        end\n",
    "        \n",
    "        if sol == \"Ilimitado\"\n",
    "            if printing\n",
    "                println(\"Problema ilimitado\");\n",
    "            end\n",
    "            return \"Ilimitado\", Inf;\n",
    "        else\n",
    "            B, N, x = sol;\n",
    "        end\n",
    "        \n",
    "        if c[c .> 0] == []\n",
    "            if min\n",
    "                z = - z;\n",
    "            end\n",
    "            \n",
    "            if printing\n",
    "                println(\"Ótimo em $x, com valor z = $z\");\n",
    "            end\n",
    "            return x, z;\n",
    "        end\n",
    "    end\n",
    "end;"
   ]
  },
  {
   "cell_type": "markdown",
   "id": "08c4a885",
   "metadata": {},
   "source": [
    "## Tableau"
   ]
  },
  {
   "cell_type": "code",
   "execution_count": 7,
   "id": "80a16291",
   "metadata": {},
   "outputs": [],
   "source": [
    "function tableau(obj, A, b, c)\n",
    "    \"\"\"\n",
    "    obj   : string (\"Max\" or \"Min\")\n",
    "    A     : matrix\n",
    "    b     : vector\n",
    "    c     : vector\n",
    "    \"\"\"\n",
    "    if obj == \"Min\"\n",
    "        c = -c;\n",
    "    end\n",
    "    \n",
    "    T = hcat(1, -c', 0);\n",
    "    aux = hcat(zeros(size(b)), A, b);\n",
    "    T = vcat(T, aux);\n",
    "    n_lin, n_col = size(T);\n",
    "    cond = T[1, 2:(n_col - 1)] .< 0;\n",
    "    while sum(cond) > 0\n",
    "        j = findfirst(cond .== 1) + 1;\n",
    "        column = T[2:n_lin, j];\n",
    "        b_aux = T[2:n_lin, n_col];\n",
    "        b_aux = b_aux[column .!= 0] ./ column[column .!= 0];\n",
    "        if b_aux[b_aux .> 0] == Float64[]\n",
    "            return \"Ilimitado\", Inf;\n",
    "        end\n",
    "        i = findfirst(b_aux .== minimum(b_aux[b_aux .> 0])) + 1;\n",
    "        T[i, :] = T[i, :] ./ T[i, j];\n",
    "        for k in 1:n_lin\n",
    "            if k != i\n",
    "                T[k, :] = T[k, :] - T[k, j] * T[i, :];\n",
    "            end\n",
    "        end\n",
    "        \n",
    "        cond = T[1, 2:(n_col - 1)] .< 0;\n",
    "    end\n",
    "        \n",
    "    x = convert(Vector{Float64}, T[1, 2:(n_col - 1)] .== 0);\n",
    "    x[x .!= 0] = T[2:n_lin, 2:(n_col - 1)][:, x .!= 0] * T[2:n_lin, n_col];\n",
    "    z = T[1, n_col];\n",
    "    return x, z;\n",
    "end;"
   ]
  },
  {
   "cell_type": "code",
   "execution_count": 8,
   "id": "f3048dab",
   "metadata": {},
   "outputs": [
    {
     "data": {
      "text/plain": [
       "([1.0, 5.0, 0.0, 3.0, 0.0], 17.0)"
      ]
     },
     "execution_count": 8,
     "metadata": {},
     "output_type": "execute_result"
    }
   ],
   "source": [
    "A = [ 1  1  1  0  0\n",
    "      2  1  0  1  0\n",
    "     -1  1  0  0  1];\n",
    "b = [6, 10, 4];\n",
    "c = [2, 3, 0, 0, 0];\n",
    "\n",
    "sol = tableau(\"Max\", A, b, c)"
   ]
  },
  {
   "cell_type": "markdown",
   "id": "756eba3a",
   "metadata": {},
   "source": [
    "# Problemas\n",
    "\n",
    "## Questão 1\n",
    "\n",
    "Pela implementação realizada, a base inicial sempre corresponde as últimas colunas da matriz $A$, assim reordenamos as equações para satisfazer essa condição. Além disso, a implementação realizada foi elaborada seguindo a regra de Bland e retorna as soluções de acordo com os certificados vistos durante o curso."
   ]
  },
  {
   "cell_type": "code",
   "execution_count": 9,
   "id": "99c8dbab",
   "metadata": {
    "scrolled": false
   },
   "outputs": [
    {
     "name": "stdout",
     "output_type": "stream",
     "text": [
      "Vetor c: [3.0, 1.0, 0.0, 0.0]\n",
      "Vetor b: [2.0, 5.0]\n",
      "Matriz A:\n",
      "[2.0, -2.0, 1.0, 0.0]\n",
      "[1.0, 3.0, 0.0, 1.0]\n",
      "\n",
      "Vetor c: [0.0, 4.0, -1.5, 0.0]\n",
      "Vetor b: [1.0, 4.0]\n",
      "Matriz A:\n",
      "[1.0, -1.0, 0.5, 0.0]\n",
      "[0.0, 4.0, -0.5, 1.0]\n",
      "\n",
      "Vetor c: [0.0, 0.0, -1.0, -1.0]\n",
      "Vetor b: [2.0, 1.0]\n",
      "Matriz A:\n",
      "[1.0, 0.0, 0.375, 0.25]\n",
      "[0.0, 1.0, -0.125, 0.25]\n",
      "\n",
      "Ótimo em [2.0 1.0 0.0 0.0], com valor z = 7.0\n"
     ]
    }
   ],
   "source": [
    "A = [ 2 -2  1  0\n",
    "      1  3  0  1];\n",
    "b = [2, 5];\n",
    "c = [3, 1, 0, 0];\n",
    "sig = [\"=\", \"=\"];\n",
    "x_cons = [\">=\", \">=\", \">=\", \">=\"];\n",
    "\n",
    "simplex(\"Max\", c, A, sig, b, x_cons, true, true, true);"
   ]
  },
  {
   "cell_type": "markdown",
   "id": "91c0f25c",
   "metadata": {},
   "source": [
    "Desfazendo o reordenamento feito, temos que $x^* = (0, 2, 1, 0)^\\top$.\n",
    "\n",
    "## Questão 2"
   ]
  },
  {
   "cell_type": "code",
   "execution_count": 10,
   "id": "f65e2121",
   "metadata": {},
   "outputs": [
    {
     "name": "stdout",
     "output_type": "stream",
     "text": [
      "Problema infactível\n"
     ]
    }
   ],
   "source": [
    "A = [ 2  5  1  0  3  1\n",
    "      0  2  2 -4  2 -4\n",
    "      3  5  1  2  6  3];\n",
    "b = [9/4, 0, 4];\n",
    "c = [2, -4, 1, 4, 8, 4];\n",
    "sig = [\"=\", \"=\", \"=\"];\n",
    "x_cons = [\">=\", \">=\", \">=\", \">=\", \">=\", \">=\"];\n",
    "\n",
    "simplex(\"Max\", c, A, sig, b, x_cons, true, true, true);"
   ]
  },
  {
   "cell_type": "markdown",
   "id": "4575bc9b",
   "metadata": {},
   "source": [
    "## Questão 3"
   ]
  },
  {
   "cell_type": "code",
   "execution_count": 11,
   "id": "11c154a8",
   "metadata": {
    "scrolled": true
   },
   "outputs": [
    {
     "name": "stdout",
     "output_type": "stream",
     "text": [
      "Vetor c: [2.0, 1.0, -1.0, 0.0, 0.0, 0.0]\n",
      "Vetor b: [1.0, 2.0, 6.0]\n",
      "Matriz A:\n",
      "[-2.0, 1.0, 1.0, 1.0, 0.0, 0.0]\n",
      "[1.0, -1.0, 0.0, 0.0, 1.0, 0.0]\n",
      "[2.0, -3.0, -1.0, 0.0, 0.0, 1.0]\n",
      "\n",
      "Vetor c: [0.0, 3.0, -1.0, 0.0, -2.0, 0.0]\n",
      "Vetor b: [2.0, 5.0, 2.0]\n",
      "Matriz A:\n",
      "[1.0, -1.0, 0.0, 0.0, 1.0, 0.0]\n",
      "[0.0, -1.0, 1.0, 1.0, 2.0, 0.0]\n",
      "[0.0, -1.0, -1.0, 0.0, -2.0, 1.0]\n",
      "\n",
      "Problema ilimitado\n"
     ]
    }
   ],
   "source": [
    "A = [-2  1  1  1  0  0\n",
    "      1 -1  0  0  1  0\n",
    "      2 -3 -1  0  0  1];\n",
    "b = [1, 2, 6];\n",
    "c = [2, 1, -1, 0, 0, 0];\n",
    "sig = [\"=\", \"=\", \"=\"];\n",
    "x_cons = [\">=\", \">=\", \">=\", \">=\", \">=\", \">=\"];\n",
    "\n",
    "simplex(\"Max\", c, A, sig, b, x_cons, true, true, true);"
   ]
  },
  {
   "cell_type": "markdown",
   "id": "692b1b2a",
   "metadata": {},
   "source": [
    "## Questão 5\n",
    "\n",
    "Modelando a questão, como feito nas primeiras listas, temos que queremos maximizar o valor do anel restringindo a quantidade de impurezas, assim, queremos maximizar $x_1 + 2x_2 + 3x_3 + 2x_4$ restringindo que\n",
    "$x_1 + 2x_2 + 2x_3 + x_4 \\leq 6$ e $x_2 + x_3 + 2x_4 \\leq 10$."
   ]
  },
  {
   "cell_type": "code",
   "execution_count": 12,
   "id": "1f601e86",
   "metadata": {},
   "outputs": [
    {
     "name": "stdout",
     "output_type": "stream",
     "text": [
      "Objetivo na forma padrão: Max\n",
      "Vetor c na forma padrão: [1, 2, 3, 2, 0, 0]\n",
      "Vetor b na forma padrão: [6, 10]\n",
      "Matriz A na forma padrão:\n",
      "[1.0, 2.0, 2.0, 1.0, 1.0, 0.0]\n",
      "[0.0, 1.0, 1.0, 2.0, 0.0, 1.0]\n",
      "Relação entre Ax e b na forma padrão: [\"=\", \"=\"]\n",
      "Restrições de x na forma padrão: [\">=\", \">=\", \">=\", \">=\", \">=\", \">=\"]\n",
      "\n",
      "Otimização:\n",
      "Ótimo em [0.0 0.0 0.666666666666667 4.666666666666666 0.0 0.0], com valor z = 11.333333333333332\n"
     ]
    }
   ],
   "source": [
    "A = [1 2 2 1\n",
    "     0 1 1 2];\n",
    "b = [6, 10];\n",
    "c = [1, 2, 3, 2];\n",
    "sig = [\"<=\", \"<=\"];\n",
    "x_cons = [\">=\", \">=\", \">=\", \">=\"];\n",
    "obj = \"Max\";\n",
    "\n",
    "obj, c, A, sig, b, x_cons = SEF(obj, c, A, sig, b, x_cons);\n",
    "println(\"Objetivo na forma padrão: $obj\");\n",
    "println(\"Vetor c na forma padrão: $c\");\n",
    "println(\"Vetor b na forma padrão: $b\");\n",
    "println(\"Matriz A na forma padrão:\");\n",
    "for i in 1:size(A, 1)\n",
    "    println(A[i, :]);\n",
    "end\n",
    "\n",
    "println(\"Relação entre Ax e b na forma padrão: $sig\");\n",
    "println(\"Restrições de x na forma padrão: $x_cons\");\n",
    "\n",
    "println();\n",
    "println(\"Otimização:\");\n",
    "simplex(obj, c, A, sig, b, x_cons);"
   ]
  },
  {
   "cell_type": "markdown",
   "id": "f75a7db0",
   "metadata": {},
   "source": [
    "## Questão 6\n",
    "\n",
    "### Item a\n",
    "\n",
    "No Simplex sempre buscamos uma \"coordenada\" em que vamos aumentar a função objetivo. Como agora queremos minimizar, devemos buscar uma \"coordenada\" em que vamos diminuir a função objetivo, assim, a Regra de Bland muda para pegar a primeira coordenada negativa. De modo análogo, quando não tivermos mais coordenadas negativas paramos o algoritmo no local ótimo.\n",
    "\n",
    "### Item b\n",
    "\n",
    "A ideia é análoga a do simplex, sempre buscando um caminho em que vamos diminuir a função custo. Assim, com um argumento análogo ao da optimalidade do Simplex, podemos garantir que a solução é ótima.\n",
    "\n",
    "### Item c\n",
    "\n",
    "A ideia é análoga a do simplex, sempre buscando um caminho em que vamos diminuir a função custo. Assim, com um argumento análogo ao da ilimitação do Simplex, podemos garantir que o problema é ilimitado."
   ]
  },
  {
   "cell_type": "markdown",
   "id": "8b8c62fb",
   "metadata": {},
   "source": [
    "# Seção 2.6\n",
    "\n",
    "## Questão 1\n",
    "\n",
    "### Item a"
   ]
  },
  {
   "cell_type": "code",
   "execution_count": 13,
   "id": "19119ca7",
   "metadata": {},
   "outputs": [
    {
     "name": "stdout",
     "output_type": "stream",
     "text": [
      "Problema infactível\n"
     ]
    }
   ],
   "source": [
    "obj = \"Max\";\n",
    "A = [ 1 -2  1\n",
    "     -1  3 -2];\n",
    "b = [2, -3];\n",
    "c = [1, 3, 2];\n",
    "sig = [\"=\" for i in 1:size(b, 1)];\n",
    "x_cons = [\">=\" for i in 1:size(A, 2)];\n",
    "\n",
    "simplex(obj, c, A, sig, b, x_cons);"
   ]
  },
  {
   "cell_type": "markdown",
   "id": "4d0ef715",
   "metadata": {},
   "source": [
    "Aqui, apesar de termos a solução $(1, 0, 1)^\\top)$, terá em seu teste de infactibilidade o problema de minimizar a soma de duas variáveis auxiliares. Nesse problema, temos que a direção $(t, t, t, 2, 3)^\\top$ possui valor constante na função objetivo, logo, o problema é ilimitado e, portanto, a primeira fase falha, pois o valor objetivo não foi $0$.\n",
    "\n",
    "### Item b"
   ]
  },
  {
   "cell_type": "code",
   "execution_count": 14,
   "id": "1fc6cc50",
   "metadata": {},
   "outputs": [
    {
     "name": "stdout",
     "output_type": "stream",
     "text": [
      "Problema infactível\n"
     ]
    }
   ],
   "source": [
    "obj = \"Max\";\n",
    "A = [ 2  4  2\n",
    "     -1 -3 -2];\n",
    "b = [2, 0];\n",
    "c = [27, 2, -6];\n",
    "sig = [\"=\" for i in 1:size(b, 1)];\n",
    "x_cons = [\">=\" for i in 1:size(A, 2)];\n",
    "\n",
    "simplex(obj, c, A, sig, b, x_cons);"
   ]
  },
  {
   "cell_type": "markdown",
   "id": "bf24e6e6",
   "metadata": {},
   "source": [
    "### Item c"
   ]
  },
  {
   "cell_type": "code",
   "execution_count": 15,
   "id": "82cba794",
   "metadata": {},
   "outputs": [
    {
     "name": "stdout",
     "output_type": "stream",
     "text": [
      "Problema infactível\n"
     ]
    }
   ],
   "source": [
    "obj = \"Max\";\n",
    "A = [ 1  1  1 -1  0\n",
    "      0  1  2  0  1];\n",
    "b = [1, 2];\n",
    "c = [0, 1, 0, -1, 0];\n",
    "sig = [\"=\" for i in 1:size(b, 1)];\n",
    "x_cons = [\">=\" for i in 1:size(A, 2)];\n",
    "\n",
    "simplex(obj, c, A, sig, b, x_cons, true);"
   ]
  },
  {
   "cell_type": "markdown",
   "id": "9e428be2",
   "metadata": {},
   "source": [
    "Aqui, temos que a solução é $(0, 1, 0, 0, 1)^\\top$. Novamente, o problema está na primeira fase do simplex, onde a direção $(t + 1, 0, 0, t, 2, 0, 0)^\\top$ tem valor constante na função objetivo, logo temos que o retorno é ilimitado e, com isso, repete-se o argumento do item a.\n",
    "\n",
    "### Item d"
   ]
  },
  {
   "cell_type": "code",
   "execution_count": 16,
   "id": "9a873622",
   "metadata": {},
   "outputs": [
    {
     "name": "stdout",
     "output_type": "stream",
     "text": [
      "Problema ilimitado\n"
     ]
    }
   ],
   "source": [
    "obj = \"Max\";\n",
    "A = [-1  1  0  0 -1\n",
    "      1  0 -1  1  2];\n",
    "b = [1, 1];\n",
    "c = [2, 0, 2, 0, 3];\n",
    "sig = [\"=\" for i in 1:size(b, 1)];\n",
    "x_cons = [\">=\" for i in 1:size(A, 2)];\n",
    "\n",
    "simplex(obj, c, A, sig, b, x_cons);"
   ]
  },
  {
   "cell_type": "markdown",
   "id": "396b3a62",
   "metadata": {},
   "source": [
    "Para ver que realmente é ilimitado, basta tomar a direção $(t, t + 1, t, 1, 0)^\\top$.\n",
    "\n",
    "### Item e"
   ]
  },
  {
   "cell_type": "code",
   "execution_count": 17,
   "id": "2174f775",
   "metadata": {},
   "outputs": [
    {
     "name": "stdout",
     "output_type": "stream",
     "text": [
      "Problema infactível\n"
     ]
    }
   ],
   "source": [
    "obj = \"Max\";\n",
    "A = [ 2 -1  4 -2  1\n",
    "     -1  0 -3  1 -1];\n",
    "b = [2, 1];\n",
    "c = [-3, -1, 1, 4, 7];\n",
    "sig = [\"=\" for i in 1:size(b, 1)];\n",
    "x_cons = [\">=\" for i in 1:size(A, 2)];\n",
    "\n",
    "simplex(obj, c, A, sig, b, x_cons);"
   ]
  }
 ],
 "metadata": {
  "kernelspec": {
   "display_name": "Julia 1.6.0",
   "language": "julia",
   "name": "julia-1.6"
  },
  "language_info": {
   "file_extension": ".jl",
   "mimetype": "application/julia",
   "name": "julia",
   "version": "1.6.0"
  }
 },
 "nbformat": 4,
 "nbformat_minor": 5
}
