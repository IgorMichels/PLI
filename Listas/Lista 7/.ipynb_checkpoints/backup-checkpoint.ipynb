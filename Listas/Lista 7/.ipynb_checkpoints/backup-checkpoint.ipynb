{
 "cells": [
  {
   "cell_type": "markdown",
   "id": "5bcf5538",
   "metadata": {},
   "source": [
    "# Implementações\n",
    "\n",
    "Fernanda Gomes e Igor Michels"
   ]
  },
  {
   "cell_type": "code",
   "execution_count": 1,
   "id": "20aeb669",
   "metadata": {},
   "outputs": [],
   "source": [
    "using LinearAlgebra;"
   ]
  },
  {
   "cell_type": "markdown",
   "id": "a8a18181",
   "metadata": {},
   "source": [
    "## Simplex duas fases\n",
    "\n",
    "### Forma Padrão"
   ]
  },
  {
   "cell_type": "code",
   "execution_count": 2,
   "id": "997afca2",
   "metadata": {},
   "outputs": [],
   "source": [
    "function SEF(obj, c, A, sig, b, x_cons)\n",
    "    \"\"\"\n",
    "    obj    : string (Min or Max)\n",
    "    c      : vector of costs\n",
    "    A      : matrix of coeff\n",
    "    sig    : constraints' signal (vector of strings)\n",
    "    b      : constraints (vector)\n",
    "    x_cons : vector of constraints for x vector (\"<=\", \">=\" or \"\" in relation to 0)\n",
    "    \"\"\"\n",
    "    \n",
    "    if obj == \"Min\"\n",
    "        obj = \"Max\";\n",
    "        c = -c;\n",
    "    end\n",
    "    \n",
    "    for i in 1:length(x_cons)\n",
    "        if x_cons[i] == \"<=\"\n",
    "            A[:, i] = -A[:, i];\n",
    "            c[i] = -c[i];\n",
    "        elseif x_cons[i] == \"\"\n",
    "            A = hcat(A, -A[:, i]);\n",
    "            append!(c, -c[i]);\n",
    "            x_cons[i] = \">=\";\n",
    "            append!(x_cons, [\">=\"]);\n",
    "        end\n",
    "    end\n",
    "    \n",
    "    for i in 1:length(sig)\n",
    "        if sig[i] == \">=\"\n",
    "            n_lin, n_col = size(A);\n",
    "            A = hcat(A, zeros(n_lin, 1));\n",
    "            A[i, n_col + 1] = -1;\n",
    "            sig[i] = \"=\";\n",
    "            append!(x_cons, [\">=\"]);\n",
    "            append!(c, [0]);\n",
    "        elseif sig[i] == \"<=\"\n",
    "            n_lin, n_col = size(A);\n",
    "            A = hcat(A, zeros(n_lin, 1));\n",
    "            A[i, n_col + 1] = 1;\n",
    "            sig[i] = \"=\";\n",
    "            append!(x_cons, [\">=\"]);\n",
    "            append!(c, [0]);\n",
    "        end\n",
    "    end\n",
    "    return obj, c, A, sig, b, x_cons;\n",
    "end;"
   ]
  },
  {
   "cell_type": "markdown",
   "id": "c38ce6c3",
   "metadata": {},
   "source": [
    "### Iteração Simplex"
   ]
  },
  {
   "cell_type": "code",
   "execution_count": 3,
   "id": "fa6467dd",
   "metadata": {},
   "outputs": [],
   "source": [
    "function iteracao_simplex(c, A, b, B, N)\n",
    "    x = zeros(1, size(A, 2));\n",
    "    x[B] = b;\n",
    "    i = findfirst(c .> 0);\n",
    "    if isnothing(i)\n",
    "        return B, N, x;\n",
    "    end\n",
    "    \n",
    "    coeff = A[:, i];\n",
    "    t = b ./ coeff;\n",
    "    if t[t .> 0] == []\n",
    "        return \"Ilimitado\";\n",
    "    end\n",
    "    \n",
    "    tₒ = minimum(t[t .> 0]);\n",
    "    j = findfirst(t .== tₒ);\n",
    "    x[i] = tₒ;\n",
    "    for k in 1:length(B)\n",
    "        x[B[k]] -= coeff[k] * tₒ;\n",
    "    end\n",
    "    \n",
    "    B[j] = i;\n",
    "    N = Array(1:size(A, 2));\n",
    "    N = N[N .∉ Ref(B)];\n",
    "    sort!(B);\n",
    "    sort!(N);\n",
    "    \n",
    "    return B, N, x;\n",
    "end;"
   ]
  },
  {
   "cell_type": "markdown",
   "id": "b64d8b01",
   "metadata": {},
   "source": [
    "### Forma Canônica"
   ]
  },
  {
   "cell_type": "code",
   "execution_count": 4,
   "id": "9db7152a",
   "metadata": {},
   "outputs": [],
   "source": [
    "function CF(c, A, b, B = nothing, N = nothing, z = 0)\n",
    "    if isnothing(B)\n",
    "        n_lin, n_col = size(A);\n",
    "        corte = n_col - n_lin + 1;\n",
    "        B = Array(corte:n_col);\n",
    "        N = Array(1:(corte - 1));\n",
    "    end\n",
    "    \n",
    "    A_B = A[:, B];\n",
    "    A_B⁻¹ = inv(A_B);\n",
    "    y = transpose(A_B⁻¹) * c[B];\n",
    "    z = z + transpose(y) * b;\n",
    "    c = c - transpose(A) * y;\n",
    "    A = A_B⁻¹ * A;\n",
    "    b = A_B⁻¹ * b;\n",
    "    return c, A, b, B, N, z;\n",
    "end;"
   ]
  },
  {
   "cell_type": "markdown",
   "id": "b13b2d3f",
   "metadata": {},
   "source": [
    "### Teste de Infactibilidade"
   ]
  },
  {
   "cell_type": "code",
   "execution_count": 5,
   "id": "67ed59f3",
   "metadata": {},
   "outputs": [],
   "source": [
    "function infeasibility(A, b)\n",
    "    n, m = size(A);\n",
    "    A_aux = hcat(A, Matrix(I, n, n));\n",
    "    c = - vcat(zeros(m), ones(n));\n",
    "    sig = [\"=\" for i in 1:n];\n",
    "    x_cons = [\">=\" for i in 1:(m + n)];\n",
    "    x, z = simplex(\"Max\", c, A_aux, sig, b, x_cons, false, false);\n",
    "    if z == 0\n",
    "        return true;\n",
    "    else\n",
    "        return false;\n",
    "    end\n",
    "end;"
   ]
  },
  {
   "cell_type": "markdown",
   "id": "c76c757e",
   "metadata": {},
   "source": [
    "### Implementação do Simplex"
   ]
  },
  {
   "cell_type": "code",
   "execution_count": 6,
   "id": "901b4159",
   "metadata": {},
   "outputs": [],
   "source": [
    "function simplex(obj, c, A, sig, b, x_cons, verify = true, printing = true, printing_iter = false)\n",
    "    obj, c, A, sig, b, x_cons = SEF(obj, c, A, sig, b, x_cons);\n",
    "    B = nothing;\n",
    "    N = nothing;\n",
    "    z = 0;\n",
    "    \n",
    "    feasible = true;\n",
    "    if verify\n",
    "        feasible = infeasibility(A, b);\n",
    "    end\n",
    "    \n",
    "    if ~feasible\n",
    "        println(\"Problema infactível\");\n",
    "        return \"Infactível\";\n",
    "    end\n",
    "    \n",
    "    while true\n",
    "        c, A, b, B, N, z = CF(c, A, b, B, N, z);\n",
    "        sol = iteracao_simplex(c, A, b, B, N);\n",
    "        if printing_iter\n",
    "            println(\"Vetor c: $c\");\n",
    "            println(\"Vetor b: $b\");\n",
    "            println(\"Matriz A:\");\n",
    "            for i in 1:size(A, 1)\n",
    "                println(A[i, :]);\n",
    "            end\n",
    "            \n",
    "            println();\n",
    "        end\n",
    "        \n",
    "        if sol == \"Ilimitado\"\n",
    "            println(\"Problema ilimitado\");\n",
    "            return \"Ilimitado\";\n",
    "        else\n",
    "            B, N, x = sol;\n",
    "        end\n",
    "        \n",
    "        if c[c .> 0] == []\n",
    "            if printing\n",
    "                println(\"Ótimo em $x, com valor z = $z\");\n",
    "            end\n",
    "            return x, z;\n",
    "        end\n",
    "    end\n",
    "end;"
   ]
  },
  {
   "cell_type": "markdown",
   "id": "08c4a885",
   "metadata": {},
   "source": [
    "## Tableau"
   ]
  },
  {
   "cell_type": "code",
   "execution_count": 7,
   "id": "80a16291",
   "metadata": {},
   "outputs": [],
   "source": [
    "function tableau(obj, A, b, c)\n",
    "    \"\"\"\n",
    "    obj   : string (\"Max\" or \"Min\")\n",
    "    A     : matrix\n",
    "    b     : vector\n",
    "    c     : vector\n",
    "    \"\"\"\n",
    "    if obj == \"Min\"\n",
    "        c = -c;\n",
    "    end\n",
    "    \n",
    "    T = hcat(1, -c', 0);\n",
    "    aux = hcat(zeros(size(b)), A, b);\n",
    "    T = vcat(T, aux);\n",
    "    n_lin, n_col = size(T);\n",
    "    cond = T[1, 2:(n_col - 1)] .< 0;\n",
    "    while sum(cond) > 0\n",
    "        j = findfirst(cond .== 1) + 1;\n",
    "        column = T[2:n_lin, j];\n",
    "        b_aux = T[2:n_lin, n_col];\n",
    "        b_aux = b_aux[column .!= 0] ./ column[column .!= 0];\n",
    "        if b_aux[b_aux .> 0] == Float64[]\n",
    "            return \"Ilimitado\", Inf;\n",
    "        end\n",
    "        i = findfirst(b_aux .== minimum(b_aux[b_aux .> 0])) + 1;\n",
    "        T[i, :] = T[i, :] ./ T[i, j];\n",
    "        for k in 1:n_lin\n",
    "            if k != i\n",
    "                T[k, :] = T[k, :] - T[k, j] * T[i, :];\n",
    "            end\n",
    "        end\n",
    "        \n",
    "        cond = T[1, 2:(n_col - 1)] .< 0;\n",
    "    end\n",
    "        \n",
    "    x = convert(Vector{Float64}, T[1, 2:(n_col - 1)] .== 0);\n",
    "    x[x .!= 0] = T[2:n_lin, 2:(n_col - 1)][:, x .!= 0] * T[2:n_lin, n_col];\n",
    "    z = T[1, n_col];\n",
    "    return x, z;\n",
    "end;"
   ]
  },
  {
   "cell_type": "code",
   "execution_count": 8,
   "id": "f3048dab",
   "metadata": {},
   "outputs": [
    {
     "data": {
      "text/plain": [
       "([1.0, 5.0, 0.0, 3.0, 0.0], 17.0)"
      ]
     },
     "execution_count": 8,
     "metadata": {},
     "output_type": "execute_result"
    }
   ],
   "source": [
    "A = [ 1  1  1  0  0\n",
    "      2  1  0  1  0\n",
    "     -1  1  0  0  1];\n",
    "b = [6, 10, 4];\n",
    "c = [2, 3, 0, 0, 0];\n",
    "\n",
    "sol = tableau(\"Max\", A, b, c)"
   ]
  },
  {
   "cell_type": "markdown",
   "id": "756eba3a",
   "metadata": {},
   "source": [
    "# Problemas\n",
    "\n",
    "## Questão 1\n",
    "\n",
    "Pela implementação realizada, a base inicial sempre corresponde as últimas colunas da matriz $A$, assim reordenamos as equações para satisfazer essa condição. Além disso, a implementação realizada foi elaborada seguindo a regra de Bland e retorna as soluções de acordo com os certificados vistos durante o curso."
   ]
  },
  {
   "cell_type": "code",
   "execution_count": 9,
   "id": "99c8dbab",
   "metadata": {
    "scrolled": false
   },
   "outputs": [
    {
     "name": "stdout",
     "output_type": "stream",
     "text": [
      "Vetor c: [3.0, 1.0, 0.0, 0.0]\n",
      "Vetor b: [2.0, 5.0]\n",
      "Matriz A:\n",
      "[2.0, -2.0, 1.0, 0.0]\n",
      "[1.0, 3.0, 0.0, 1.0]\n",
      "\n",
      "Vetor c: [0.0, 4.0, -1.5, 0.0]\n",
      "Vetor b: [1.0, 4.0]\n",
      "Matriz A:\n",
      "[1.0, -1.0, 0.5, 0.0]\n",
      "[0.0, 4.0, -0.5, 1.0]\n",
      "\n",
      "Vetor c: [0.0, 0.0, -1.0, -1.0]\n",
      "Vetor b: [2.0, 1.0]\n",
      "Matriz A:\n",
      "[1.0, 0.0, 0.375, 0.25]\n",
      "[0.0, 1.0, -0.125, 0.25]\n",
      "\n",
      "Ótimo em [2.0 1.0 0.0 0.0], com valor z = 7.0\n"
     ]
    }
   ],
   "source": [
    "A = [ 2 -2  1  0\n",
    "      1  3  0  1];\n",
    "b = [2, 5];\n",
    "c = [3, 1, 0, 0];\n",
    "sig = [\"=\", \"=\"];\n",
    "x_cons = [\">=\", \">=\", \">=\", \">=\"];\n",
    "\n",
    "simplex(\"Max\", c, A, sig, b, x_cons, true, true, true);"
   ]
  },
  {
   "cell_type": "markdown",
   "id": "91c0f25c",
   "metadata": {},
   "source": [
    "Desfazendo o reordenamento feito, temos que $x^* = (0, 2, 1, 0)^\\top$.\n",
    "\n",
    "## Questão 2"
   ]
  },
  {
   "cell_type": "code",
   "execution_count": 10,
   "id": "f65e2121",
   "metadata": {},
   "outputs": [
    {
     "name": "stdout",
     "output_type": "stream",
     "text": [
      "Problema infactível\n"
     ]
    }
   ],
   "source": [
    "A = [ 2  5  1  0  3  1\n",
    "      0  2  2 -4  2 -4\n",
    "      3  5  1  2  6  3];\n",
    "b = [9/4, 0, 4];\n",
    "c = [2, -4, 1, 4, 8, 4];\n",
    "sig = [\"=\", \"=\", \"=\"];\n",
    "x_cons = [\">=\", \">=\", \">=\", \">=\", \">=\", \">=\"];\n",
    "\n",
    "simplex(\"Max\", c, A, sig, b, x_cons, true, true, true);"
   ]
  },
  {
   "cell_type": "markdown",
   "id": "4575bc9b",
   "metadata": {},
   "source": [
    "## Questão 3"
   ]
  },
  {
   "cell_type": "code",
   "execution_count": 11,
   "id": "11c154a8",
   "metadata": {},
   "outputs": [
    {
     "name": "stdout",
     "output_type": "stream",
     "text": [
      "Vetor c: [2.0, 1.0, -1.0, 0.0, 0.0, 0.0]\n",
      "Vetor b: [1.0, 2.0, 6.0]\n",
      "Matriz A:\n",
      "[-2.0, 1.0, 1.0, 1.0, 0.0, 0.0]\n",
      "[1.0, -1.0, 0.0, 0.0, 1.0, 0.0]\n",
      "[2.0, -3.0, -1.0, 0.0, 0.0, 1.0]\n",
      "\n",
      "Vetor c: [0.0, 3.0, -1.0, 0.0, -2.0, 0.0]\n",
      "Vetor b: [2.0, 5.0, 2.0]\n",
      "Matriz A:\n",
      "[1.0, -1.0, 0.0, 0.0, 1.0, 0.0]\n",
      "[0.0, -1.0, 1.0, 1.0, 2.0, 0.0]\n",
      "[0.0, -1.0, -1.0, 0.0, -2.0, 1.0]\n",
      "\n",
      "Problema ilimitado\n"
     ]
    }
   ],
   "source": [
    "A = [-2  1  1  1  0  0\n",
    "      1 -1  0  0  1  0\n",
    "      2 -3 -1  0  0  1];\n",
    "b = [1, 2, 6];\n",
    "c = [2, 1, -1, 0, 0, 0];\n",
    "sig = [\"=\", \"=\", \"=\"];\n",
    "x_cons = [\">=\", \">=\", \">=\", \">=\", \">=\", \">=\"];\n",
    "\n",
    "simplex(\"Max\", c, A, sig, b, x_cons, true, true, true);"
   ]
  },
  {
   "cell_type": "code",
   "execution_count": null,
   "id": "c050adcd",
   "metadata": {},
   "outputs": [],
   "source": []
  },
  {
   "cell_type": "code",
   "execution_count": null,
   "id": "aedd23b7",
   "metadata": {},
   "outputs": [],
   "source": []
  },
  {
   "cell_type": "code",
   "execution_count": 14,
   "id": "f9857cd5",
   "metadata": {},
   "outputs": [
    {
     "name": "stdout",
     "output_type": "stream",
     "text": [
      "Objetivo na forma padrão: Max\n",
      "Vetor c na forma padrão: [1, 2, 3, 2, 0, 0]\n",
      "Vetor b na forma padrão: [6, 10]\n",
      "Matriz A na forma padrão:\n",
      "[1.0, 2.0, 2.0, 1.0, -1.0, 0.0]\n",
      "[0.0, 1.0, 1.0, 2.0, 0.0, -1.0]\n",
      "Relação entre Ax e b na forma padrão: [\"=\", \"=\"]\n",
      "Restrições de x na forma padrão: [\">=\", \">=\", \">=\", \">=\", \">=\", \">=\"]\n",
      "\n",
      "Otimização:\n"
     ]
    },
    {
     "ename": "LoadError",
     "evalue": "LAPACKException(1)",
     "output_type": "error",
     "traceback": [
      "LAPACKException(1)",
      "",
      "Stacktrace:",
      "  [1] chklapackerror(ret::Int64)",
      "    @ LinearAlgebra.LAPACK /buildworker/worker/package_linux64/build/usr/share/julia/stdlib/v1.6/LinearAlgebra/src/lapack.jl:38",
      "  [2] trtrs!(uplo::Char, trans::Char, diag::Char, A::Matrix{Float64}, B::Matrix{Float64})",
      "    @ LinearAlgebra.LAPACK /buildworker/worker/package_linux64/build/usr/share/julia/stdlib/v1.6/LinearAlgebra/src/lapack.jl:3426",
      "  [3] ldiv!",
      "    @ /buildworker/worker/package_linux64/build/usr/share/julia/stdlib/v1.6/LinearAlgebra/src/triangular.jl:739 [inlined]",
      "  [4] inv(A::LowerTriangular{Float64, Matrix{Float64}})",
      "    @ LinearAlgebra /buildworker/worker/package_linux64/build/usr/share/julia/stdlib/v1.6/LinearAlgebra/src/triangular.jl:817",
      "  [5] inv(A::Matrix{Float64})",
      "    @ LinearAlgebra /buildworker/worker/package_linux64/build/usr/share/julia/stdlib/v1.6/LinearAlgebra/src/dense.jl:813",
      "  [6] CF(c::Vector{Float64}, A::Matrix{Float64}, b::Vector{Float64}, B::Vector{Int64}, N::Vector{Int64}, z::Float64)",
      "    @ Main ./In[4]:10",
      "  [7] simplex(obj::String, c::Vector{Int64}, A::Matrix{Float64}, sig::Vector{String}, b::Vector{Int64}, x_cons::Vector{String}, verify::Bool, printing::Bool, printing_iter::Bool)",
      "    @ Main ./In[6]:18",
      "  [8] simplex(obj::String, c::Vector{Int64}, A::Matrix{Float64}, sig::Vector{String}, b::Vector{Int64}, x_cons::Vector{String})",
      "    @ Main ./In[6]:2",
      "  [9] top-level scope",
      "    @ In[14]:23",
      " [10] eval",
      "    @ ./boot.jl:360 [inlined]",
      " [11] include_string(mapexpr::typeof(REPL.softscope), mod::Module, code::String, filename::String)",
      "    @ Base ./loading.jl:1094"
     ]
    }
   ],
   "source": [
    "A = [1 2 2 1\n",
    "     0 1 1 2];\n",
    "b = [6, 10];\n",
    "c = [1, 2, 3, 2];\n",
    "sig = [\">=\", \">=\"];\n",
    "x_cons = [\">=\", \">=\", \">=\", \">=\"];\n",
    "obj = \"Max\";\n",
    "\n",
    "obj, c, A, sig, b, x_cons = SEF(obj, c, A, sig, b, x_cons);\n",
    "println(\"Objetivo na forma padrão: $obj\");\n",
    "println(\"Vetor c na forma padrão: $c\");\n",
    "println(\"Vetor b na forma padrão: $b\");\n",
    "println(\"Matriz A na forma padrão:\");\n",
    "for i in 1:size(A, 1)\n",
    "    println(A[i, :]);\n",
    "end\n",
    "\n",
    "println(\"Relação entre Ax e b na forma padrão: $sig\");\n",
    "println(\"Restrições de x na forma padrão: $x_cons\");\n",
    "\n",
    "println();\n",
    "println(\"Otimização:\");\n",
    "simplex(obj, c, A, sig, b, x_cons);"
   ]
  }
 ],
 "metadata": {
  "kernelspec": {
   "display_name": "Julia 1.6.0",
   "language": "julia",
   "name": "julia-1.6"
  },
  "language_info": {
   "file_extension": ".jl",
   "mimetype": "application/julia",
   "name": "julia",
   "version": "1.6.0"
  }
 },
 "nbformat": 4,
 "nbformat_minor": 5
}
