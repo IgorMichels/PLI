{
 "cells": [
  {
   "cell_type": "markdown",
   "id": "3e610bc7",
   "metadata": {},
   "source": [
    "Sudoku é um jogo clássico onde existe um grid $n^2$ x $n^2$ com $n^2$ subgrids $n$ x $n$. O objetivo do jogo é, a partir do arranjo inicial, preencher o grid de modo que em cada linha, coluna e subgrid cada número de $1$ a $n^2$ apareça exatamente uma vez.\n",
    "\n",
    "Para a solução vou utilizar o JuMP e o solver GLPK."
   ]
  },
  {
   "cell_type": "code",
   "execution_count": 1,
   "id": "24416fd3",
   "metadata": {},
   "outputs": [],
   "source": [
    "using JuMP;\n",
    "using GLPK;"
   ]
  },
  {
   "cell_type": "markdown",
   "id": "a79f87aa",
   "metadata": {},
   "source": [
    "A modelagem se dará por meio de uma matriz binária 3D, onde a primeira dimensão se refere a linha do grid, a segunda a coluna e a terceira ao número que estamos analisando, enquanto o valor da matriz representa se o número ocupa ou não essa casa.\n",
    "\n",
    "Ilustrando isso, podemos dizer que, se o número $1$ está na posição $1$, $2$, $3$ da matriz, então podemos dizer que o valor da segunda casa da primeira linha do grid é $3$. Por outro lado, se o número $0$ está na posição $7$, $8$, $9$ da matriz, então o oitavo valor da sétima linha do grid não pode ser $9$.\n",
    "\n",
    "Note que essa modelagem é bem precisa, mas que o resultado do solver pode ser de difícil compreensão, pois ele vai nos devolver uma matriz binária de três dimensões. Dessa forma, um primeiro passo aqui será criar uma função para, dada a solução do solver, devolver o grid correspondente."
   ]
  },
  {
   "cell_type": "code",
   "execution_count": 2,
   "id": "17b67246",
   "metadata": {},
   "outputs": [],
   "source": [
    "function make_board(solution)\n",
    "    N = size(solution)[1];\n",
    "    n = Int(sqrt(N));\n",
    "    board = zeros(Int8, N, N);\n",
    "    for i in 1:N\n",
    "        for j in 1:N\n",
    "            for k in 1:N\n",
    "                if solution[i, j, k] != 0\n",
    "                    board[i, j] = k\n",
    "                end\n",
    "            end\n",
    "        end\n",
    "    end\n",
    "    return board\n",
    "end;\n",
    "\n",
    "function print_board(board)\n",
    "    N = size(board)[1];\n",
    "    n = Int(sqrt(N));\n",
    "    len = length(string(N));\n",
    "    if N <= 9\n",
    "        for i in 1:N\n",
    "            line = \"\";\n",
    "            for j in 1:N\n",
    "                line *= [\"1️⃣\", \"2️⃣\", \"3️⃣\", \"4️⃣\", \"5️⃣\", \"6️⃣\", \"7️⃣\", \"8️⃣\", \"9️⃣\"][board[i, j]];\n",
    "                if mod(j, n) == 0 && j != N\n",
    "                    line *= \" \";\n",
    "                end\n",
    "            end\n",
    "            println(line);\n",
    "            if mod(i, n) == 0 && i != N\n",
    "                println();\n",
    "            end\n",
    "        end\n",
    "    else\n",
    "        for i in 1:N\n",
    "            line = \"\";\n",
    "            for j in 1:N\n",
    "                add = string(board[i, j]);\n",
    "                if length(add) < len\n",
    "                    line *= \" \";\n",
    "                end\n",
    "                line *= add * \" \";\n",
    "                if mod(j, n) == 0 && j != N\n",
    "                    line *= \"| \";\n",
    "                end\n",
    "            end\n",
    "            println(line);\n",
    "            if mod(i, n) == 0 && i != N\n",
    "                print(repeat(\"-\", n * (len + 1)));\n",
    "                for i in 1:(n - 2)\n",
    "                    print(\"+\");\n",
    "                    print(repeat(\"-\", n * (len + 1) + 1));\n",
    "                end\n",
    "                \n",
    "                print(\"+\");\n",
    "                print(repeat(\"-\", n * (len + 1)));\n",
    "                println();\n",
    "            end\n",
    "        end\n",
    "    end\n",
    "end;"
   ]
  },
  {
   "cell_type": "markdown",
   "id": "35de5bbe",
   "metadata": {},
   "source": [
    "Agora, podemos criar uma função que, dada uma posição inicial (ou parcial), vai retornar a solução do puzzle."
   ]
  },
  {
   "cell_type": "code",
   "execution_count": 3,
   "id": "6415fd81",
   "metadata": {},
   "outputs": [],
   "source": [
    "function solve_sudoku(initial_position)\n",
    "    N = size(initial_position)[1];\n",
    "    n = Int(sqrt(N));\n",
    "    sudoku = Model(GLPK.Optimizer);\n",
    "    @variable(sudoku, B[1:N, 1:N, 1:N], Bin);\n",
    "    for i in 1:N\n",
    "        for j in 1:N\n",
    "            # cada casa deve ter apenas um número\n",
    "            @constraint(sudoku, sum(B[i, j, k] for k in 1:N) == 1);\n",
    "\n",
    "            # cada linha só pode ter cada número uma vez\n",
    "            @constraint(sudoku, sum(B[i, k, j] for k in 1:N) == 1);\n",
    "\n",
    "            # cada coluna só pode ter cada número uma vez\n",
    "            @constraint(sudoku, sum(B[k, i, j] for k in 1:N) == 1);\n",
    "        end\n",
    "    end\n",
    "\n",
    "    for i in 0:(n - 1)\n",
    "        for j in 0:(n - 1)\n",
    "            for k in 1:N\n",
    "                # cada grid 3x3 só pode ter cada número uma vez\n",
    "                @constraint(sudoku, sum(B[n * i + l, n * j + m, k] for l in 1:n, m in 1:n) == 1);\n",
    "            end\n",
    "        end\n",
    "    end\n",
    "\n",
    "    for i in 1:N\n",
    "        for j in 1:N\n",
    "            if initial_position[i, j] != 0\n",
    "                # posição inicial / parcial\n",
    "                @constraint(sudoku, B[i, j, initial_position[i, j]] == 1);\n",
    "            end\n",
    "        end\n",
    "    end\n",
    "\n",
    "    optimize!(sudoku);\n",
    "    return make_board(JuMP.value.(B));\n",
    "end;"
   ]
  },
  {
   "cell_type": "markdown",
   "id": "8b131626",
   "metadata": {},
   "source": [
    "Agora, vamos testar"
   ]
  },
  {
   "cell_type": "code",
   "execution_count": 4,
   "id": "77d1d99b",
   "metadata": {},
   "outputs": [
    {
     "name": "stdout",
     "output_type": "stream",
     "text": [
      "1️⃣8️⃣6️⃣ 4️⃣2️⃣7️⃣ 3️⃣9️⃣5️⃣\n",
      "9️⃣2️⃣5️⃣ 1️⃣6️⃣3️⃣ 4️⃣7️⃣8️⃣\n",
      "4️⃣7️⃣3️⃣ 5️⃣8️⃣9️⃣ 6️⃣2️⃣1️⃣\n",
      "\n",
      "5️⃣6️⃣1️⃣ 2️⃣3️⃣4️⃣ 7️⃣8️⃣9️⃣\n",
      "2️⃣3️⃣7️⃣ 8️⃣9️⃣1️⃣ 5️⃣6️⃣4️⃣\n",
      "8️⃣9️⃣4️⃣ 7️⃣5️⃣6️⃣ 1️⃣3️⃣2️⃣\n",
      "\n",
      "7️⃣4️⃣9️⃣ 3️⃣1️⃣8️⃣ 2️⃣5️⃣6️⃣\n",
      "6️⃣1️⃣2️⃣ 9️⃣7️⃣5️⃣ 8️⃣4️⃣3️⃣\n",
      "3️⃣5️⃣8️⃣ 6️⃣4️⃣2️⃣ 9️⃣1️⃣7️⃣\n",
      " 21.247804 seconds (32.64 M allocations: 1.871 GiB, 4.19% gc time, 56.28% compilation time)\n"
     ]
    }
   ],
   "source": [
    "initial_position = [0 0 6 0 0 0 0 0 0\n",
    "                    9 2 0 0 0 3 4 0 0\n",
    "                    0 0 0 0 8 0 0 0 1\n",
    "                    5 6 0 0 3 0 0 8 0\n",
    "                    0 0 7 0 0 0 5 0 0\n",
    "                    0 0 4 0 0 6 0 0 0\n",
    "                    7 0 0 0 0 0 0 0 0\n",
    "                    0 0 0 9 0 0 0 4 0\n",
    "                    3 5 0 0 0 2 9 0 0];\n",
    "\n",
    "@time print_board(solve_sudoku(initial_position))"
   ]
  },
  {
   "cell_type": "code",
   "execution_count": 5,
   "id": "f9b4faf2",
   "metadata": {},
   "outputs": [
    {
     "name": "stdout",
     "output_type": "stream",
     "text": [
      "8️⃣7️⃣5️⃣ 1️⃣2️⃣9️⃣ 3️⃣6️⃣4️⃣\n",
      "2️⃣9️⃣6️⃣ 5️⃣4️⃣3️⃣ 7️⃣1️⃣8️⃣\n",
      "4️⃣3️⃣1️⃣ 6️⃣8️⃣7️⃣ 5️⃣2️⃣9️⃣\n",
      "\n",
      "1️⃣4️⃣7️⃣ 9️⃣5️⃣8️⃣ 2️⃣3️⃣6️⃣\n",
      "9️⃣5️⃣3️⃣ 2️⃣7️⃣6️⃣ 8️⃣4️⃣1️⃣\n",
      "6️⃣8️⃣2️⃣ 3️⃣1️⃣4️⃣ 9️⃣7️⃣5️⃣\n",
      "\n",
      "3️⃣2️⃣8️⃣ 4️⃣6️⃣5️⃣ 1️⃣9️⃣7️⃣\n",
      "5️⃣1️⃣4️⃣ 7️⃣9️⃣2️⃣ 6️⃣8️⃣3️⃣\n",
      "7️⃣6️⃣9️⃣ 8️⃣3️⃣1️⃣ 4️⃣5️⃣2️⃣\n",
      "  0.047499 seconds (32.30 k allocations: 2.176 MiB)\n"
     ]
    }
   ],
   "source": [
    "initial_position = [8 0 5 0 0 9 3 0 0\n",
    "                    2 0 0 0 0 0 0 0 0\n",
    "                    0 0 0 6 0 0 0 0 9\n",
    "                    0 4 0 0 0 0 2 0 0\n",
    "                    9 0 3 0 0 6 8 0 0\n",
    "                    0 0 0 0 1 0 0 7 0\n",
    "                    0 2 0 0 0 5 0 0 0\n",
    "                    5 0 4 7 0 0 0 8 0\n",
    "                    0 6 0 0 0 0 4 0 0];\n",
    "\n",
    "@time print_board(solve_sudoku(initial_position))"
   ]
  },
  {
   "cell_type": "code",
   "execution_count": 6,
   "id": "c79e1fbe",
   "metadata": {},
   "outputs": [
    {
     "name": "stdout",
     "output_type": "stream",
     "text": [
      "3️⃣1️⃣5️⃣ 6️⃣2️⃣7️⃣ 9️⃣8️⃣4️⃣\n",
      "4️⃣9️⃣6️⃣ 8️⃣1️⃣3️⃣ 2️⃣5️⃣7️⃣\n",
      "2️⃣7️⃣8️⃣ 5️⃣9️⃣4️⃣ 6️⃣1️⃣3️⃣\n",
      "\n",
      "9️⃣6️⃣4️⃣ 1️⃣7️⃣5️⃣ 8️⃣3️⃣2️⃣\n",
      "1️⃣8️⃣2️⃣ 3️⃣6️⃣9️⃣ 7️⃣4️⃣5️⃣\n",
      "5️⃣3️⃣7️⃣ 2️⃣4️⃣8️⃣ 1️⃣9️⃣6️⃣\n",
      "\n",
      "6️⃣2️⃣9️⃣ 4️⃣5️⃣1️⃣ 3️⃣7️⃣8️⃣\n",
      "8️⃣5️⃣1️⃣ 7️⃣3️⃣6️⃣ 4️⃣2️⃣9️⃣\n",
      "7️⃣4️⃣3️⃣ 9️⃣8️⃣2️⃣ 5️⃣6️⃣1️⃣\n",
      "  0.020323 seconds (32.65 k allocations: 2.199 MiB)\n"
     ]
    }
   ],
   "source": [
    "initial_position = [3 1 5 6 0 0 0 0 4\n",
    "                    0 9 0 0 0 0 2 0 0\n",
    "                    2 0 0 5 9 0 0 1 3\n",
    "                    0 6 0 1 7 5 0 0 0\n",
    "                    1 8 0 3 0 0 7 0 0\n",
    "                    5 3 0 0 4 0 0 9 6\n",
    "                    0 2 9 0 5 1 0 7 8\n",
    "                    0 0 0 0 3 0 0 2 0\n",
    "                    7 4 3 0 0 2 5 0 0];\n",
    "\n",
    "@time print_board(solve_sudoku(initial_position))"
   ]
  },
  {
   "cell_type": "code",
   "execution_count": 7,
   "id": "68dbae32",
   "metadata": {},
   "outputs": [
    {
     "name": "stdout",
     "output_type": "stream",
     "text": [
      "3️⃣9️⃣6️⃣ 8️⃣1️⃣7️⃣ 4️⃣2️⃣5️⃣\n",
      "8️⃣2️⃣5️⃣ 3️⃣4️⃣9️⃣ 7️⃣6️⃣1️⃣\n",
      "7️⃣4️⃣1️⃣ 6️⃣2️⃣5️⃣ 3️⃣8️⃣9️⃣\n",
      "\n",
      "4️⃣5️⃣8️⃣ 7️⃣9️⃣6️⃣ 2️⃣1️⃣3️⃣\n",
      "6️⃣3️⃣7️⃣ 2️⃣5️⃣1️⃣ 9️⃣4️⃣8️⃣\n",
      "2️⃣1️⃣9️⃣ 4️⃣3️⃣8️⃣ 5️⃣7️⃣6️⃣\n",
      "\n",
      "9️⃣6️⃣4️⃣ 5️⃣8️⃣2️⃣ 1️⃣3️⃣7️⃣\n",
      "5️⃣7️⃣3️⃣ 1️⃣6️⃣4️⃣ 8️⃣9️⃣2️⃣\n",
      "1️⃣8️⃣2️⃣ 9️⃣7️⃣3️⃣ 6️⃣5️⃣4️⃣\n",
      "  0.055287 seconds (32.27 k allocations: 2.174 MiB)\n"
     ]
    }
   ],
   "source": [
    "initial_position = [0 9 0 8 0 7 4 0 0\n",
    "                    0 0 5 0 0 0 0 6 0\n",
    "                    0 0 0 0 2 0 0 0 0\n",
    "                    0 0 0 0 9 0 2 0 0\n",
    "                    6 0 0 2 0 1 0 4 0\n",
    "                    0 1 0 0 3 0 0 0 0\n",
    "                    9 0 0 0 0 0 0 0 7\n",
    "                    0 7 0 1 0 4 8 0 0\n",
    "                    0 0 0 0 0 3 0 0 0];\n",
    "\n",
    "@time print_board(solve_sudoku(initial_position))"
   ]
  },
  {
   "cell_type": "code",
   "execution_count": 8,
   "id": "6f0cbe96",
   "metadata": {},
   "outputs": [
    {
     "name": "stdout",
     "output_type": "stream",
     "text": [
      " 2 25 12 18  6 | 24  9 16 20  3 |  1  4 23  7 11 | 13  8 10 17 21 | 15 14 22 19  5 \n",
      "16  1 22  4  5 | 23 19 14 13 15 | 12  2  8 24 25 | 11  3 20  7  9 | 10 17 18 21  6 \n",
      "17 24 10 20  7 |  4 21  8  2 22 | 16 19 18  5  3 | 14 23 12 15  6 | 13 11  9  1 25 \n",
      "11 14 23 15  9 | 10  7  1  5 25 |  6 17 20 21 13 |  4 19  2 22 18 | 12  3  8 16 24 \n",
      " 8 19 13 21  3 | 11  6 18 12 17 | 10  9 22 15 14 |  1 24  5 16 25 |  7  4  2 20 23 \n",
      "---------------+----------------+----------------+----------------+---------------\n",
      "24  9  5 14 15 |  7 23  3 16 20 | 17 13 21 10  2 | 19  1 22 11  8 | 25 18  6  4 12 \n",
      "25 12  4 23  8 | 21  1  5 11 19 | 24 22  3  6  7 | 17 15 14 18 16 |  9  2 13 10 20 \n",
      " 3 21 19 16 10 |  2  4 24 15  8 |  5 18 25 23 12 |  7  6 13  9 20 | 11  1 17 14 22 \n",
      "22 13 20 17  1 |  6 10 12 25 18 | 19 11 14  9  4 | 24  2 21  3 23 |  5  8 15  7 16 \n",
      "18  7  6 11  2 | 17 14 13 22  9 | 20  1 15 16  8 |  5  4 25 12 10 | 24 19  3 23 21 \n",
      "---------------+----------------+----------------+----------------+---------------\n",
      "10  5  2  9 11 |  8 17  6  4 16 | 23  3  7 12 19 | 22 14  1 13 24 | 21 25 20 18 15 \n",
      "13 17  7 24 22 | 18  3 21 10  1 |  8 20  9 14 15 | 23 16 11 25  5 |  2 12  4  6 19 \n",
      " 1 16 15  8 14 | 22 25 23  7 11 |  4  6  2 18 10 |  9 20 19 21 12 |  3 24  5 17 13 \n",
      "12 20  3 25  4 |  5 13 15 19  2 | 21 16 11  1 24 |  6  7 18  8 17 | 23  9 10 22 14 \n",
      "21  6 18 19 23 | 20 12  9 14 24 | 25  5 17 13 22 | 15 10  3  4  2 | 16  7 11  8  1 \n",
      "---------------+----------------+----------------+----------------+---------------\n",
      "14 11  8 13 17 | 25  2 20  6 10 | 18 23 16  4  1 | 21 12 24 19 15 | 22  5  7  9  3 \n",
      " 5  2 24 22 25 | 16  8 19 23  7 |  9 10 12 11  6 |  3 18  4 20 13 | 14 21  1 15 17 \n",
      " 4  3  1  6 20 | 13 15 22 24 21 |  2 25  5  8 17 | 16  9  7 14 11 | 19 10 23 12 18 \n",
      " 7 23  9 10 19 | 12 18 17  3  4 | 15 14 24 22 21 | 25  5  8  6  1 | 20 13 16  2 11 \n",
      "15 18 21 12 16 |  1  5 11  9 14 | 13  7 19  3 20 |  2 17 23 10 22 |  8  6 24 25  4 \n",
      "---------------+----------------+----------------+----------------+---------------\n",
      " 9 10 17  1 18 | 14 20 25 21  5 |  3 24 13  2 16 | 12 22  6 23  7 |  4 15 19 11  8 \n",
      " 6 22 25  7 24 | 15 16  4 17 13 | 14 12 10 20 18 |  8 11  9  5 19 |  1 23 21  3  2 \n",
      "23 15 11  2 12 |  3 22 10  1  6 |  7  8  4 19  5 | 18 21 16 24 14 | 17 20 25 13  9 \n",
      "20  4 14  5 21 | 19 11  2  8 23 | 22 15  6 25  9 | 10 13 17  1  3 | 18 16 12 24  7 \n",
      "19  8 16  3 13 |  9 24  7 18 12 | 11 21  1 17 23 | 20 25 15  2  4 |  6 22 14  5 10 \n",
      " 61.681144 seconds (516.04 k allocations: 33.976 MiB, 0.04% gc time, 0.02% compilation time)\n"
     ]
    }
   ],
   "source": [
    "initial_position = [ 2  0  0  0  6 24  9 16 20  3  0  4 23  0 11 13  0 10 17  0  0 14  0 19  5\n",
    "                    16  1 22  0  5 23 19  0  0  0 12  2  0  0 25 11  0  0  0  9  0  0 18 21  6\n",
    "                     0 24  0  0  0  4  0  8  0  0 16 19 18  5  3  0  0 12  0  6  0  0  9  1 25\n",
    "                    11  0 23  0  0 10  0  1  0 25  6 17 20  0 13  4  0  2 22  0  0  0  0 16 24\n",
    "                     8  0 13 21  3  0  6 18  0 17  0  9 22  0 14  1  0  5  0 25  7  0  0  0  0\n",
    "                    24  0  0  0 15  7  0  3 16 20  0  0 21 10  2  0  1  0 11  8 25  0  0  4  0\n",
    "                    25  0  0 23  0 21  0  0  0 19 24  0  3  6  0 17  0  0 18 16  9  2  0  0  0\n",
    "                     0 21 19  0 10  0  4  0 15  0  5 18 25 23 12  0  0 13  0 20 11  0  0 14  0\n",
    "                    22 13 20 17  0  6  0  0 25  0 19 11 14  0  4  0  2 21  0 23  0  8 15  0  0\n",
    "                     0  0  6  0  0 17 14 13 22  9  0  0  0 16  0  0  0 25  0  0 24 19  3 23  0\n",
    "                    10  0  2  9 11  8 17  0  0 16  0  0  7  0  0 22  0  0 13  0  0 25 20 18 15\n",
    "                    13  0  0  0 22  0  0 21  0  1  0  0  0  0 15  0  0  0  0  5  2 12  0  0 19\n",
    "                     1  0 15  8 14 22 25 23  7 11  0  6  2  0 10  0 20  0 21  0  0 24  5  0  0\n",
    "                     0 20  0 25  0  5  0 15 19  2  0 16 11  0 24  6  0 18  8 17 23  9  0 22  0\n",
    "                    21  6 18 19  0 20 12  0 14  0  0  0 17  0 22  0  0  0  0  2 16  7 11  0  1\n",
    "                     0  0  0  0 17 25  2 20  0 10  0  0  0  4  1  0 12 24  0 15 22  5  0  0  0\n",
    "                     5  2 24  0 25  0  8 19  0  7  9 10 12  0  6  3  0  4  0 13  0  0  0  0  0\n",
    "                     4  3  0  6 20  0 15 22  0 21  0 25  5  8  0 16  0  0  0 11  0  0 23 12 18\n",
    "                     0 23  9 10 19  0  0  0  3  4  0  0  0 22  0  0  5  8  6  1  0 13 16  0 11\n",
    "                     0 18  0  0  0  1  0 11  0 14 13  7 19  0 20  2 17 23 10 22  8  0 24  0  0\n",
    "                     9  0  0  1  0  0 20 25  0  5  0  0  0  2 16 12  0  0  0  0  4 15  0 11  8\n",
    "                     0  0 25  7  0 15 16  0 17 13 14  0 10 20  0  0  0  9  5  0  1  0 21  3  2\n",
    "                    23  0  0  2 12  0  0  0  0  6  7  8  0 19  0 18 21 16 24  0 17  0  0 13  9\n",
    "                    20  4 14  0 21  0  0  0  0  0 22 15  6 25  0  0 13  0  0  0  0 16  0  0  7\n",
    "                     0  8 16  3  0  9 24  0  0 12  0 21  1 17 23  0  0  0  2  0  6 22 14  0 10];\n",
    "\n",
    "@time print_board(solve_sudoku(initial_position);)"
   ]
  }
 ],
 "metadata": {
  "kernelspec": {
   "display_name": "Julia 1.6.0",
   "language": "julia",
   "name": "julia-1.6"
  },
  "language_info": {
   "file_extension": ".jl",
   "mimetype": "application/julia",
   "name": "julia",
   "version": "1.6.0"
  }
 },
 "nbformat": 4,
 "nbformat_minor": 5
}
