{
 "cells": [
  {
   "cell_type": "code",
   "execution_count": 1,
   "id": "486ab25a",
   "metadata": {},
   "outputs": [],
   "source": [
    "using JuMP;\n",
    "using GLPK;"
   ]
  },
  {
   "cell_type": "code",
   "execution_count": 60,
   "id": "6c6816f3",
   "metadata": {},
   "outputs": [],
   "source": [
    "function print_solution(solution)\n",
    "    n_row, n_col = size(solution);\n",
    "    for i in 1:n_row\n",
    "        line = \"\";\n",
    "        for j in 1:n_col\n",
    "            if solution[i, j, 1] == 1\n",
    "                line *= '⬛';\n",
    "            else\n",
    "                line *= '⬜';\n",
    "            end\n",
    "        end\n",
    "        println(line);\n",
    "    end\n",
    "end;"
   ]
  },
  {
   "cell_type": "code",
   "execution_count": 96,
   "id": "01c7710b",
   "metadata": {},
   "outputs": [],
   "source": [
    "function solve_nonogram(R, C)\n",
    "    n_row = size(R)[1];\n",
    "    n_col = size(C)[1];\n",
    "\n",
    "    game = Model(GLPK.Optimizer);\n",
    "    @variable(game, board[1:n_row, 1:n_col, 1:2], Bin);\n",
    "\n",
    "    for i in 1:n_row\n",
    "        for j in 1:n_col\n",
    "            # fazendo alguns espaços da primeira matriz ficarem vazios\n",
    "            @constraint(game, board[i, j, 1] + board[i, j, 2] <= 1);\n",
    "        end\n",
    "    end\n",
    "\n",
    "    for i in 1:n_row\n",
    "        # restrição de quadrados pintados em cada linha\n",
    "        @constraint(game, sum(board[i, j, 1] for j in 1:n_col) == sum(R[i]));\n",
    "\n",
    "        # restrição de partições das linhas\n",
    "        s = size(R[i])[1] - 1;\n",
    "        lb = R[i][1] + 1;\n",
    "        ub = n_col - R[i][s + 1];\n",
    "        @constraint(game, sum(board[i, j, 2] for j in lb:ub) == s);\n",
    "        \n",
    "        \n",
    "        \n",
    "    end\n",
    "\n",
    "    for j in 1:n_col\n",
    "        # restrição de quadrados pintados em cada coluna\n",
    "        @constraint(game, sum(board[i, j, 1] for i in 1:n_row) == sum(C[j]));\n",
    "\n",
    "        # restrição de partições das colunas\n",
    "        s = size(C[j])[1] - 1;\n",
    "        lb = C[j][1] + 1;\n",
    "        ub = n_row - C[j][s + 1];\n",
    "        @constraint(game, sum(board[i, j, 2] for i in lb:ub) == s);\n",
    "    end\n",
    "\n",
    "    @objective(game, Max, sum(board[i, j, 1] for i in 1:n_row, j in 1:n_col, k in 1:2));\n",
    "#     print(game);\n",
    "    optimize!(game);\n",
    "    return JuMP.value.(board);\n",
    "end;"
   ]
  },
  {
   "cell_type": "code",
   "execution_count": 94,
   "id": "95357709",
   "metadata": {},
   "outputs": [],
   "source": [
    "function solve_nonogram(R, C)\n",
    "    n_row = size(R)[1];\n",
    "    n_col = size(C)[1];\n",
    "\n",
    "    game = Model(GLPK.Optimizer);\n",
    "    @variable(game, board[1:n_row, 1:n_col, 1:2], Bin);\n",
    "\n",
    "    for i in 1:n_row\n",
    "        for j in 1:n_col\n",
    "            # fazendo alguns espaços da primeira matriz ficarem vazios\n",
    "            @constraint(game, board[i, j, 1] + board[i, j, 2] <= 1);\n",
    "        end\n",
    "    end\n",
    "\n",
    "    for i in 1:n_row\n",
    "        # restrição de quadrados pintados em cada linha\n",
    "        @constraint(game, sum(board[i, j, 1] for j in 1:n_col) == sum(R[i]));\n",
    "\n",
    "        # restrição de partições das linhas\n",
    "        s = n_col - sum(R[i]);\n",
    "        @constraint(game, sum(board[i, j, 2] for j in 1:n_col) == s);\n",
    "        \n",
    "        \n",
    "        \n",
    "    end\n",
    "\n",
    "    for j in 1:n_col\n",
    "        # restrição de quadrados pintados em cada coluna\n",
    "        @constraint(game, sum(board[i, j, 1] for i in 1:n_row) == sum(C[j]));\n",
    "\n",
    "        # restrição de partições das colunas\n",
    "        s = n_row - sum(C[j]);\n",
    "        @constraint(game, sum(board[i, j, 2] for i in 1:n_row) == s);\n",
    "    end\n",
    "\n",
    "    @objective(game, Max, sum(board[i, j, 1] for i in 1:n_row, j in 1:n_col, k in 1:2));\n",
    "#     print(game);\n",
    "    optimize!(game);\n",
    "    return JuMP.value.(board);\n",
    "end;"
   ]
  },
  {
   "cell_type": "code",
   "execution_count": 97,
   "id": "0a664b36",
   "metadata": {
    "scrolled": false
   },
   "outputs": [
    {
     "name": "stdout",
     "output_type": "stream",
     "text": [
      "⬜⬛⬛⬜⬜\n",
      "⬜⬜⬛⬜⬜\n",
      "⬜⬛⬛⬛⬜\n",
      "⬛⬜⬜⬛⬛\n",
      "⬜⬛⬛⬛⬛\n"
     ]
    }
   ],
   "source": [
    "R = [[1, 1], [1], [3], [1, 2], [4]]; # linhas\n",
    "C = [[1], [3], [3, 1], [3], [2]]; # colunas\n",
    "\n",
    "# R = [[1, 1], [1], [3], [1, 2], [4]]; # linhas\n",
    "# C = [[1], [1, 1, 1], [3, 1], [3], [2]]; # colunas\n",
    "\n",
    "print_solution(solve_nonogram(R, C))"
   ]
  },
  {
   "cell_type": "code",
   "execution_count": 98,
   "id": "e2394ea9",
   "metadata": {},
   "outputs": [
    {
     "name": "stdout",
     "output_type": "stream",
     "text": [
      "⬜⬛⬛⬜⬜\n",
      "⬜⬜⬛⬜⬜\n",
      "⬜⬛⬛⬛⬜\n",
      "⬛⬜⬜⬛⬛\n",
      "⬜⬛⬛⬛⬛\n"
     ]
    }
   ],
   "source": [
    "R = [[1, 1], [1], [3], [1, 2], [4]]; # linhas\n",
    "C = [[1], [3], [3, 1], [3], [2]]; # colunas\n",
    "\n",
    "# R = [[1, 1], [1], [3], [1, 2], [4]]; # linhas\n",
    "# C = [[1], [1, 1, 1], [3, 1], [3], [2]]; # colunas\n",
    "\n",
    "print_solution(solve_nonogram(R, C))"
   ]
  },
  {
   "cell_type": "code",
   "execution_count": null,
   "id": "744e6380",
   "metadata": {},
   "outputs": [],
   "source": []
  },
  {
   "cell_type": "code",
   "execution_count": null,
   "id": "f8556c5e",
   "metadata": {},
   "outputs": [],
   "source": []
  }
 ],
 "metadata": {
  "kernelspec": {
   "display_name": "Julia 1.6.0",
   "language": "julia",
   "name": "julia-1.6"
  },
  "language_info": {
   "file_extension": ".jl",
   "mimetype": "application/julia",
   "name": "julia",
   "version": "1.6.0"
  }
 },
 "nbformat": 4,
 "nbformat_minor": 5
}
