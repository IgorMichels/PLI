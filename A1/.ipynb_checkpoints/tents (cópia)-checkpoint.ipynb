{
 "cells": [
  {
   "cell_type": "markdown",
   "id": "fc10313b",
   "metadata": {},
   "source": [
    "Vou resolver o jogo Tents, o qual pode ser visto [aqui](https://www.puzzle-tents.com). Nele começamos com um tabuleiro com algumas árvores e algumas restrições sobre a quantidade de barracas que devem ser alocadas em cada linha e em cada coluna. Além disso, devemos satisfazer duas restrições:\n",
    " - as barracas devem ser alocadas ao redor das árvores (em cima, embaixo, à esquerda ou à direita), de modo que haja uma relação de 1 para 1 (cada árvore tenha uma barraca e cada barraca tenha uma árvore) e;\n",
    " - duas barracas não podem ser vizinhas, nem mesmo diagonalmente.\n",
    "\n",
    "Para a resolução vou utilizar o JuMP e o solver GLPK."
   ]
  },
  {
   "cell_type": "code",
   "execution_count": 13,
   "id": "dd4eef6f",
   "metadata": {},
   "outputs": [],
   "source": [
    "using JuMP;\n",
    "using GLPK;"
   ]
  },
  {
   "cell_type": "markdown",
   "id": "e079c0c2",
   "metadata": {},
   "source": [
    "Vou definir uma função para printar o resultado."
   ]
  },
  {
   "cell_type": "code",
   "execution_count": 14,
   "id": "9e6fea7a",
   "metadata": {},
   "outputs": [],
   "source": [
    "function print_solution(solution)\n",
    "    n_row, n_col = size(solution);\n",
    "    for i in 1:n_row\n",
    "        line = \"\";\n",
    "        for j in 1:n_col\n",
    "            if solution[i, j, 2] == 1\n",
    "                line *= ['🌲', '🌳', '🌴'][rand(1:3)];\n",
    "            elseif solution[i, j, 1] == 1\n",
    "                line *= '⛺';\n",
    "            else\n",
    "                line *= '⬜';\n",
    "            end\n",
    "        end\n",
    "        println(line);\n",
    "    end\n",
    "end;"
   ]
  },
  {
   "cell_type": "markdown",
   "id": "edb63c5e",
   "metadata": {},
   "source": [
    "E definir uma função para resolver o jogo."
   ]
  },
  {
   "cell_type": "code",
   "execution_count": 15,
   "id": "fb870835",
   "metadata": {
    "scrolled": true
   },
   "outputs": [],
   "source": [
    "function solve_tents(T, R, C)\n",
    "    n_row = size(R)[1];\n",
    "    n_col = size(C)[1];\n",
    "    game = Model(GLPK.Optimizer);\n",
    "    @variable(game, board[1:n_row, 1:n_col, 1:2], Bin);\n",
    "    \n",
    "    # posicionando as árvores\n",
    "    for i  in 1:n_row\n",
    "        for j in 1:n_row\n",
    "            # impedindo que uma barraca esteja na mesma posição de uma árvore\n",
    "            @constraint(game, board[i, j, 1] + board[i, j, 2] <= 1)\n",
    "            \n",
    "            if [i, j] in T\n",
    "                @constraint(game, board[i, j, 2] == 1)\n",
    "            else\n",
    "                @constraint(game, board[i, j, 2] == 0)\n",
    "            end\n",
    "        end\n",
    "    end\n",
    "    \n",
    "    for i in 1:n_row\n",
    "        # restringindo a quantidade de barracas numa linha\n",
    "        @constraint(game, sum(board[i, j, 1] for j in 1:n_col) == R[i]);\n",
    "    end\n",
    "\n",
    "    for j in 1:n_col\n",
    "        # restringindo a quantidade de barracas numa coluna\n",
    "        @constraint(game, sum(board[i, j, 1] for i in 1:n_row) == C[j]);\n",
    "    end\n",
    "    \n",
    "    for i in 1:n_row\n",
    "        for j in 1:n_col\n",
    "            # duas barracas não podem ser vizinhas\n",
    "            @constraint(game, sum(if k == 0 && l == 0 4 * board[i, j, 1]\n",
    "                                  else board[i + k, j + l, 1] end\n",
    "                                      for k in [-1, 0, 1],\n",
    "                                          l in [-1, 0, 1]\n",
    "                                          if i + k in 1:n_row &&\n",
    "                                             j + l in 1:n_col) <= 4);\n",
    "            \n",
    "            # ao redor de cada barraca deve ter pelo menos uma árvore\n",
    "            @constraint(game, sum(board[i + k, j + l, 2]\n",
    "                                  for k in [-1, 0, 1],\n",
    "                                      l in [-1, 0, 1]\n",
    "                                      if abs(k) + abs(l) == 1 &&\n",
    "                                         i + k in 1:n_row &&\n",
    "                                         j + l in 1:n_col) >= board[i, j, 1]);\n",
    "            \n",
    "            # ao redor de cada árvore deve ter pelo menos uma barraca\n",
    "            @constraint(game, sum(board[i + k, j + l, 1]\n",
    "                                  for k in [-1, 0, 1],\n",
    "                                      l in [-1, 0, 1]\n",
    "                                      if abs(k) + abs(l) == 1 &&\n",
    "                                         i + k in 1:n_row &&\n",
    "                                         j + l in 1:n_col) >= board[i, j, 2]);\n",
    "        end\n",
    "    end\n",
    "    \n",
    "    optimize!(game);\n",
    "    return JuMP.value.(board);\n",
    "end;"
   ]
  },
  {
   "cell_type": "markdown",
   "id": "3b3b5d26",
   "metadata": {},
   "source": [
    "Agora, vamos colocar a função para rodar:"
   ]
  },
  {
   "cell_type": "code",
   "execution_count": 16,
   "id": "45fe739e",
   "metadata": {},
   "outputs": [
    {
     "name": "stdout",
     "output_type": "stream",
     "text": [
      "⬜⬜⬜⬜⛺⬜\n",
      "⛺⬜⬜⬜🌴⬜\n",
      "🌲⬜⬜⬜🌲⬜\n",
      "⬜⬜⛺🌲⛺⬜\n",
      "⬜⬜🌲⬜⬜⬜\n",
      "⛺🌴⛺⬜🌲⛺\n"
     ]
    }
   ],
   "source": [
    "T = [[2, 5], [3, 1], [3, 5], [4, 4],\n",
    "     [5, 3], [6, 2], [6, 5]]; # árvores\n",
    "\n",
    "R = [1, 1, 0, 2, 0, 3]; # linhas\n",
    "C = [2, 0, 2, 0, 2, 1]; # colunas\n",
    "print_solution(solve_tents(T, R, C));"
   ]
  },
  {
   "cell_type": "code",
   "execution_count": 17,
   "id": "6dee5b08",
   "metadata": {},
   "outputs": [
    {
     "name": "stdout",
     "output_type": "stream",
     "text": [
      "⛺⬜🌴⛺⬜⬜⛺🌴\n",
      "🌳⬜⬜🌳⬜⬜⬜⬜\n",
      "⬜🌴⬜⛺🌴⛺⬜⬜\n",
      "⬜⛺⬜⬜⬜⬜⬜⛺\n",
      "⬜🌳⬜🌳⛺⬜⬜🌴\n",
      "⬜⛺⬜🌲⬜⬜⬜⬜\n",
      "⬜⬜⬜⛺⬜🌳⛺⬜\n",
      "⛺🌴⬜⬜⬜⬜⬜⬜\n"
     ]
    }
   ],
   "source": [
    "T = [[1, 3], [1, 8], [2, 1], [2, 4], [3, 2], [3, 5],\n",
    "     [5, 2], [5, 4], [5, 8], [6, 4], [7, 6], [8, 2]]; # árvores\n",
    "\n",
    "R = [3, 0, 2, 2, 1, 1, 2, 1]; # linhas\n",
    "C = [2, 2, 0, 3, 1, 1, 2, 1]; # colunas\n",
    "print_solution(solve_tents(T, R, C));"
   ]
  },
  {
   "cell_type": "code",
   "execution_count": 18,
   "id": "25a6e7d1",
   "metadata": {},
   "outputs": [
    {
     "name": "stdout",
     "output_type": "stream",
     "text": [
      "⛺🌴⛺⬜⬜⬜⬜⛺⬜🌴⬜⛺🌴⛺⬜\n",
      "🌳⬜⬜⬜⬜⛺🌲🌳⬜⛺⬜🌴🌳⬜⬜\n",
      "⬜⬜⬜⬜🌳⬜⬜⬜⬜⬜🌴⬜⛺⬜⬜\n",
      "⛺🌳⛺⬜⛺🌲⛺⬜⬜⬜⛺⬜⬜⬜⬜\n",
      "🌳⬜🌳⬜⬜⬜⬜⬜⛺⬜⬜🌴⬜⬜⛺\n",
      "⬜⬜⛺⬜⛺⬜⛺⬜🌳⬜⬜⛺⬜⬜🌴\n",
      "⛺🌲⬜⬜🌳⬜🌳🌲⬜⬜⬜⬜🌳⛺⬜\n",
      "⬜⬜⬜⛺🌳⛺🌲⛺🌴⛺⬜⬜⬜⬜🌲\n",
      "⬜⬜⬜🌳⬜⬜⬜⬜⬜⬜⬜⛺🌲⬜⛺\n",
      "⬜⛺🌲⛺⬜⬜⬜⬜⛺⬜⬜⬜⬜⬜⬜\n",
      "⬜⬜🌴⬜⬜⬜⛺⬜🌲⬜🌴⛺⬜⬜🌲\n",
      "🌲⬜⛺⬜⬜⬜🌲⬜🌲⛺⬜⬜⬜⬜⛺\n",
      "⛺⬜⬜⬜⛺⬜⬜⬜⬜⬜⬜⬜⛺⬜⬜\n",
      "🌳⬜⬜⬜🌲⬜⛺⬜⬜⬜⬜⬜🌲⬜⬜\n",
      "⛺🌲⛺⬜⛺🌲🌲⬜⬜⛺🌴⛺🌴🌳⛺\n"
     ]
    }
   ],
   "source": [
    "T = [[ 1,  2], [ 1, 10], [ 1, 13], [ 2,  1], [ 2,  7], [ 2,  8], [ 2, 12], [ 2, 13], [ 3,  5],\n",
    "     [ 3, 11], [ 4,  2], [ 4,  6], [ 5,  1], [ 5,  3], [ 5, 12], [ 6,  9], [ 6, 15], [ 7,  2],\n",
    "     [ 7,  5], [ 7,  7], [ 7,  8], [ 7, 13], [ 8,  5], [ 8,  7], [ 8,  9], [ 8, 15], [ 9,  4],\n",
    "     [ 9, 13], [10,  3], [11,  3], [11,  9], [11, 11], [11, 15], [12,  1], [12,  7], [12,  9],\n",
    "     [14,  1], [14,  5], [14, 13], [15,  2], [15,  6], [15,  7], [15, 11], [15, 13], [15, 14]]; # árvores\n",
    "\n",
    "R = [5, 2, 1, 5, 2, 4, 2, 4, 2, 3, 2, 3, 3, 1, 6]; # linhas\n",
    "C = [5, 1, 5, 2, 4, 2, 4, 2, 2, 4, 1, 5, 2, 2, 4]; # colunas\n",
    "print_solution(solve_tents(T, R, C));"
   ]
  },
  {
   "cell_type": "code",
   "execution_count": null,
   "id": "5790a009",
   "metadata": {},
   "outputs": [],
   "source": []
  },
  {
   "cell_type": "code",
   "execution_count": null,
   "id": "ff68e0e6",
   "metadata": {},
   "outputs": [],
   "source": []
  },
  {
   "cell_type": "code",
   "execution_count": null,
   "id": "1ce7cf77",
   "metadata": {},
   "outputs": [],
   "source": []
  },
  {
   "cell_type": "code",
   "execution_count": null,
   "id": "0f9a8fa8",
   "metadata": {},
   "outputs": [],
   "source": []
  },
  {
   "cell_type": "code",
   "execution_count": 124,
   "id": "a07fc122",
   "metadata": {},
   "outputs": [
    {
     "name": "stderr",
     "output_type": "stream",
     "text": [
      "┌ Info: Precompiling GMT [5752ebe1-31b9-557e-87aa-f909b540aa54]\n",
      "└ @ Base loading.jl:1317\n"
     ]
    },
    {
     "name": "stdout",
     "output_type": "stream",
     "text": [
      "Base.IOError(\"could not spawn `gmt --version`: no such file or directory (ENOENT)\", -2)\n"
     ]
    },
    {
     "name": "stderr",
     "output_type": "stream",
     "text": [
      "\u001b[32m\u001b[1m    Building\u001b[22m\u001b[39m Conda → `~/.julia/scratchspaces/44cfe95a-1eb2-52ea-b672-e2afdf69b78f/6e47d11ea2776bc5627421d59cdcc1296c058071/build.log`\n",
      "\u001b[32m\u001b[1m    Building\u001b[22m\u001b[39m GMT ──→ `~/.julia/scratchspaces/44cfe95a-1eb2-52ea-b672-e2afdf69b78f/c5434eae0bb708d0a643bd3e684758408f9304b1/build.log`\n"
     ]
    },
    {
     "name": "stdout",
     "output_type": "stream",
     "text": [
      "Pkg.Types.PkgError(\"Error building `GMT`: \\nWarning: 'conda-forge' already in 'channels' list, moving to the top\\nCollecting package metadata (current_repodata.json): ...working... done\\nSolving environment: ...working... done\\n\\n# All requested packages already installed.\\n\\n/home/igor/.julia/conda/3/bin/gmt: symbol lookup error: /home/igor/.julia/conda/3/bin/../lib/./libgdal.so.30: undefined symbol: _ZN21GfxICCBasedColorSpace15buildTransformsEP8GfxState\\n[ Info: Running `conda config --add channels conda-forge --file /home/igor/.julia/conda/3/condarc-julia.yml --force` in root environment\\n[ Info: Running `conda install -y gmt` in root environment\\nERROR: LoadError: failed process: Process(`/home/igor/.julia/conda/3/bin/gmt --show-library`, ProcessExited(127)) [127]\\n\\nStacktrace:\\n [1] pipeline_error\\n   @ ./process.jl:525 [inlined]\\n [2] read(cmd::Cmd)\\n   @ Base ./process.jl:412\\n [3] read(cmd::Cmd, #unused#::Type{String})\\n   @ Base ./process.jl:421\\n [4] top-level scope\\n   @ ~/.julia/packages/GMT/m5ryr/deps/build.jl:22\\n [5] include(fname::String)\\n   @ Base.MainInclude ./client.jl:444\\n [6] top-level scope\\n   @ none:5\\nin expression starting at /home/igor/.julia/packages/GMT/m5ryr/deps/build.jl:5\")\n"
     ]
    },
    {
     "name": "stderr",
     "output_type": "stream",
     "text": [
      "\u001b[91m\u001b[1mERROR: \u001b[22m\u001b[39mLoadError: IOError: could not spawn `gmt --show-library`: no such file or directory (ENOENT)\n",
      "Stacktrace:\n",
      "  [1] \u001b[0m\u001b[1m_spawn_primitive\u001b[22m\u001b[0m\u001b[1m(\u001b[22m\u001b[90mfile\u001b[39m::\u001b[0mString, \u001b[90mcmd\u001b[39m::\u001b[0mCmd, \u001b[90mstdio\u001b[39m::\u001b[0mVector\u001b[90m{Any}\u001b[39m\u001b[0m\u001b[1m)\u001b[22m\n",
      "\u001b[90m    @ \u001b[39m\u001b[90mBase\u001b[39m \u001b[90m./\u001b[39m\u001b[90;4mprocess.jl:99\u001b[0m\n",
      "  [2] \u001b[0m\u001b[1m#637\u001b[22m\n",
      "\u001b[90m    @ \u001b[39m\u001b[90m./\u001b[39m\u001b[90;4mprocess.jl:112\u001b[0m\u001b[90m [inlined]\u001b[39m\n",
      "  [3] \u001b[0m\u001b[1msetup_stdios\u001b[22m\u001b[0m\u001b[1m(\u001b[22m\u001b[90mf\u001b[39m::\u001b[0mBase.var\"#637#638\"\u001b[90m{Cmd}\u001b[39m, \u001b[90mstdios\u001b[39m::\u001b[0mVector\u001b[90m{Any}\u001b[39m\u001b[0m\u001b[1m)\u001b[22m\n",
      "\u001b[90m    @ \u001b[39m\u001b[90mBase\u001b[39m \u001b[90m./\u001b[39m\u001b[90;4mprocess.jl:196\u001b[0m\n",
      "  [4] \u001b[0m\u001b[1m_spawn\u001b[22m\n",
      "\u001b[90m    @ \u001b[39m\u001b[90m./\u001b[39m\u001b[90;4mprocess.jl:111\u001b[0m\u001b[90m [inlined]\u001b[39m\n",
      "  [5] \u001b[0m\u001b[1mopen\u001b[22m\u001b[0m\u001b[1m(\u001b[22m\u001b[90mcmds\u001b[39m::\u001b[0mCmd, \u001b[90mstdio\u001b[39m::\u001b[0mBase.DevNull; \u001b[90mwrite\u001b[39m::\u001b[0mBool, \u001b[90mread\u001b[39m::\u001b[0mBool\u001b[0m\u001b[1m)\u001b[22m\n",
      "\u001b[90m    @ \u001b[39m\u001b[90mBase\u001b[39m \u001b[90m./\u001b[39m\u001b[90;4mprocess.jl:370\u001b[0m\n",
      "  [6] \u001b[0m\u001b[1mopen\u001b[22m\n",
      "\u001b[90m    @ \u001b[39m\u001b[90m./\u001b[39m\u001b[90;4mprocess.jl:361\u001b[0m\u001b[90m [inlined]\u001b[39m\n",
      "  [7] \u001b[0m\u001b[1mopen\u001b[22m\u001b[0m\u001b[1m(\u001b[22m\u001b[90mcmds\u001b[39m::\u001b[0mCmd, \u001b[90mmode\u001b[39m::\u001b[0mString, \u001b[90mstdio\u001b[39m::\u001b[0mBase.DevNull\u001b[0m\u001b[1m)\u001b[22m\n",
      "\u001b[90m    @ \u001b[39m\u001b[90mBase\u001b[39m \u001b[90m./\u001b[39m\u001b[90;4mprocess.jl:341\u001b[0m\n",
      "  [8] \u001b[0m\u001b[1mread\u001b[22m\u001b[0m\u001b[1m(\u001b[22m\u001b[90mcmd\u001b[39m::\u001b[0mCmd\u001b[0m\u001b[1m)\u001b[22m\n",
      "\u001b[90m    @ \u001b[39m\u001b[90mBase\u001b[39m \u001b[90m./\u001b[39m\u001b[90;4mprocess.jl:410\u001b[0m\n",
      "  [9] \u001b[0m\u001b[1mread\u001b[22m\u001b[0m\u001b[1m(\u001b[22m\u001b[90mcmd\u001b[39m::\u001b[0mCmd, \u001b[90m#unused#\u001b[39m::\u001b[0mType\u001b[90m{String}\u001b[39m\u001b[0m\u001b[1m)\u001b[22m\n",
      "\u001b[90m    @ \u001b[39m\u001b[90mBase\u001b[39m \u001b[90m./\u001b[39m\u001b[90;4mprocess.jl:421\u001b[0m\n",
      " [10] top-level scope\n",
      "\u001b[90m    @ \u001b[39m\u001b[90m~/.julia/packages/GMT/m5ryr/src/\u001b[39m\u001b[90;4mGMT.jl:55\u001b[0m\n",
      " [11] \u001b[0m\u001b[1minclude\u001b[22m\n",
      "\u001b[90m    @ \u001b[39m\u001b[90m./\u001b[39m\u001b[90;4mBase.jl:386\u001b[0m\u001b[90m [inlined]\u001b[39m\n",
      " [12] \u001b[0m\u001b[1minclude_package_for_output\u001b[22m\u001b[0m\u001b[1m(\u001b[22m\u001b[90mpkg\u001b[39m::\u001b[0mBase.PkgId, \u001b[90minput\u001b[39m::\u001b[0mString, \u001b[90mdepot_path\u001b[39m::\u001b[0mVector\u001b[90m{String}\u001b[39m, \u001b[90mdl_load_path\u001b[39m::\u001b[0mVector\u001b[90m{String}\u001b[39m, \u001b[90mload_path\u001b[39m::\u001b[0mVector\u001b[90m{String}\u001b[39m, \u001b[90mconcrete_deps\u001b[39m::\u001b[0mVector\u001b[90m{Pair{Base.PkgId, UInt64}}\u001b[39m, \u001b[90msource\u001b[39m::\u001b[0mNothing\u001b[0m\u001b[1m)\u001b[22m\n",
      "\u001b[90m    @ \u001b[39m\u001b[90mBase\u001b[39m \u001b[90m./\u001b[39m\u001b[90;4mloading.jl:1213\u001b[0m\n",
      " [13] top-level scope\n",
      "\u001b[90m    @ \u001b[39m\u001b[90;4mnone:1\u001b[0m\n",
      " [14] \u001b[0m\u001b[1meval\u001b[22m\n",
      "\u001b[90m    @ \u001b[39m\u001b[90m./\u001b[39m\u001b[90;4mboot.jl:360\u001b[0m\u001b[90m [inlined]\u001b[39m\n",
      " [15] \u001b[0m\u001b[1meval\u001b[22m\u001b[0m\u001b[1m(\u001b[22m\u001b[90mx\u001b[39m::\u001b[0mExpr\u001b[0m\u001b[1m)\u001b[22m\n",
      "\u001b[90m    @ \u001b[39m\u001b[90mBase.MainInclude\u001b[39m \u001b[90m./\u001b[39m\u001b[90;4mclient.jl:446\u001b[0m\n",
      " [16] top-level scope\n",
      "\u001b[90m    @ \u001b[39m\u001b[90;4mnone:1\u001b[0m\n",
      "in expression starting at /home/igor/.julia/packages/GMT/m5ryr/src/GMT.jl:1\n"
     ]
    },
    {
     "ename": "LoadError",
     "evalue": "Failed to precompile GMT [5752ebe1-31b9-557e-87aa-f909b540aa54] to /home/igor/.julia/compiled/v1.6/GMT/jl_ee85zR.",
     "output_type": "error",
     "traceback": [
      "Failed to precompile GMT [5752ebe1-31b9-557e-87aa-f909b540aa54] to /home/igor/.julia/compiled/v1.6/GMT/jl_ee85zR.",
      "",
      "Stacktrace:",
      " [1] error(s::String)",
      "   @ Base ./error.jl:33",
      " [2] compilecache(pkg::Base.PkgId, path::String, internal_stderr::IJulia.IJuliaStdio{Base.PipeEndpoint}, internal_stdout::IJulia.IJuliaStdio{Base.PipeEndpoint})",
      "   @ Base ./loading.jl:1360",
      " [3] compilecache(pkg::Base.PkgId, path::String)",
      "   @ Base ./loading.jl:1306",
      " [4] _require(pkg::Base.PkgId)",
      "   @ Base ./loading.jl:1021",
      " [5] require(uuidkey::Base.PkgId)",
      "   @ Base ./loading.jl:914",
      " [6] require(into::Module, mod::Symbol)",
      "   @ Base ./loading.jl:901",
      " [7] eval",
      "   @ ./boot.jl:360 [inlined]",
      " [8] include_string(mapexpr::typeof(REPL.softscope), mod::Module, code::String, filename::String)",
      "   @ Base ./loading.jl:1094"
     ]
    }
   ],
   "source": [
    "using Colors, ColorVectorSpace, FixedPointNumbers, Statistics, GMT"
   ]
  },
  {
   "cell_type": "code",
   "execution_count": 125,
   "id": "4acba71f",
   "metadata": {},
   "outputs": [
    {
     "ename": "LoadError",
     "evalue": "UndefVarError: imshow not defined",
     "output_type": "error",
     "traceback": [
      "UndefVarError: imshow not defined",
      "",
      "Stacktrace:",
      " [1] top-level scope",
      "   @ In[125]:2",
      " [2] eval",
      "   @ ./boot.jl:360 [inlined]",
      " [3] include_string(mapexpr::typeof(REPL.softscope), mod::Module, code::String, filename::String)",
      "   @ Base ./loading.jl:1094"
     ]
    }
   ],
   "source": [
    "a = rand(RGB{N0f8}, (500, 500));\n",
    "imshow(a)"
   ]
  },
  {
   "cell_type": "code",
   "execution_count": null,
   "id": "ea6e2c81",
   "metadata": {},
   "outputs": [],
   "source": []
  },
  {
   "cell_type": "code",
   "execution_count": null,
   "id": "abc8efbe",
   "metadata": {},
   "outputs": [],
   "source": []
  },
  {
   "cell_type": "code",
   "execution_count": null,
   "id": "4a2d1120",
   "metadata": {},
   "outputs": [],
   "source": []
  },
  {
   "cell_type": "code",
   "execution_count": null,
   "id": "e01be98a",
   "metadata": {},
   "outputs": [],
   "source": []
  },
  {
   "cell_type": "code",
   "execution_count": null,
   "id": "a1d06636",
   "metadata": {},
   "outputs": [],
   "source": []
  }
 ],
 "metadata": {
  "kernelspec": {
   "display_name": "Julia 1.6.0",
   "language": "julia",
   "name": "julia-1.6"
  },
  "language_info": {
   "file_extension": ".jl",
   "mimetype": "application/julia",
   "name": "julia",
   "version": "1.6.0"
  }
 },
 "nbformat": 4,
 "nbformat_minor": 5
}
