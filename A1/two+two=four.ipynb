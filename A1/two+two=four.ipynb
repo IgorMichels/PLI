{
 "cells": [
  {
   "cell_type": "code",
   "execution_count": 1,
   "id": "486ab25a",
   "metadata": {},
   "outputs": [],
   "source": [
    "using JuMP, GLPK, ConstraintSolver;\n",
    "const CS = ConstraintSolver;"
   ]
  },
  {
   "cell_type": "code",
   "execution_count": 2,
   "id": "f519ac37",
   "metadata": {},
   "outputs": [
    {
     "data": {
      "text/plain": [
       "true"
      ]
     },
     "execution_count": 2,
     "metadata": {},
     "output_type": "execute_result"
    }
   ],
   "source": [
    "sum = Model(GLPK.Optimizer);\n",
    "@variable(sum, 1 <= T <= 9, Int);\n",
    "@variable(sum, 0 <= W <= 9, Int);\n",
    "@variable(sum, 0 <= O <= 9, Int);\n",
    "@variable(sum, 1 <= F <= 9, Int);\n",
    "@variable(sum, 0 <= U <= 9, Int);\n",
    "@variable(sum, 0 <= R <= 9, Int);\n",
    "\n",
    "@variable(sum, C1, Bin);\n",
    "@variable(sum, C2, Bin);\n",
    "@variable(sum, C3, Bin);\n",
    "\n",
    "@variable(sum, tw, Bin);\n",
    "@variable(sum, to, Bin);\n",
    "@variable(sum, tf, Bin);\n",
    "@variable(sum, tu, Bin);\n",
    "@variable(sum, tr, Bin);\n",
    "@variable(sum, wo, Bin);\n",
    "@variable(sum, wf, Bin);\n",
    "@variable(sum, wu, Bin);\n",
    "@variable(sum, wr, Bin);\n",
    "@variable(sum, of, Bin);\n",
    "@variable(sum, ou, Bin);\n",
    "@variable(sum, or, Bin);\n",
    "@variable(sum, fu, Bin);\n",
    "@variable(sum, fr, Bin);\n",
    "@variable(sum, ur, Bin);\n",
    "\n",
    "@constraint(sum, T - W >= - 11 * (1 - tw) + 1);\n",
    "@constraint(sum, W - T >= - 11 * (tw) + 1);\n",
    "@constraint(sum, T - O >= - 11 * (1 - to) + 1);\n",
    "@constraint(sum, O - T >= - 11 * (to) + 1);\n",
    "@constraint(sum, T - F >= - 11 * (1 - tf) + 1);\n",
    "@constraint(sum, F - T >= - 11 * (tf) + 1);\n",
    "@constraint(sum, T - U >= - 11 * (1 - tu) + 1);\n",
    "@constraint(sum, U - T >= - 11 * (tu) + 1);\n",
    "@constraint(sum, T - R >= - 11 * (1 - tr) + 1);\n",
    "@constraint(sum, R - T >= - 11 * (tr) + 1);\n",
    "\n",
    "@constraint(sum, W - O >= - 11 * (1 - wo) + 1);\n",
    "@constraint(sum, O - W >= - 11 * (wo) + 1);\n",
    "@constraint(sum, W - F >= - 11 * (1 - wf) + 1);\n",
    "@constraint(sum, F - W >= - 11 * (wf) + 1);\n",
    "@constraint(sum, W - U >= - 11 * (1 - wu) + 1);\n",
    "@constraint(sum, U - W >= - 11 * (wu) + 1);\n",
    "@constraint(sum, W - R >= - 11 * (1 - wr) + 1);\n",
    "@constraint(sum, R - W >= - 11 * (wr) + 1);\n",
    "\n",
    "@constraint(sum, O - F >= - 11 * (1 - of) + 1);\n",
    "@constraint(sum, F - O >= - 11 * (of) + 1);\n",
    "@constraint(sum, O - U >= - 11 * (1 - ou) + 1);\n",
    "@constraint(sum, U - O >= - 11 * (ou) + 1);\n",
    "@constraint(sum, O - R >= - 11 * (1 - or) + 1);\n",
    "@constraint(sum, R - O >= - 11 * (or) + 1);\n",
    "\n",
    "@constraint(sum, F - U >= - 11 * (1 - fu) + 1);\n",
    "@constraint(sum, U - F >= - 11 * (fu) + 1);\n",
    "@constraint(sum, F - R >= - 11 * (1 - fr) + 1);\n",
    "@constraint(sum, R - F >= - 11 * (fr) + 1);\n",
    "\n",
    "@constraint(sum, U - R >= - 11 * (1 - ur) + 1);\n",
    "@constraint(sum, R - U >= - 11 * (ur) + 1);\n",
    "\n",
    "@constraint(sum, 2 * O == R + 10 * C1);\n",
    "@constraint(sum, 2 * W + C1 == U + 10 * C2);\n",
    "@constraint(sum, 2 * T + C2 == O + 10 * C3);\n",
    "@constraint(sum, C3 == F);\n",
    "\n",
    "optimize!(sum);\n",
    "T = Int(JuMP.value.(T));\n",
    "W = Int(JuMP.value.(W));\n",
    "O = Int(JuMP.value.(O));\n",
    "F = Int(JuMP.value.(F));\n",
    "U = Int(JuMP.value.(U));\n",
    "R = Int(JuMP.value.(R));\n",
    "\n",
    "2 * [100, 10, 1]' * [T, W, O] == [1000, 100, 10, 1]' * [F, O, U, R]"
   ]
  },
  {
   "cell_type": "code",
   "execution_count": 3,
   "id": "b224ef40",
   "metadata": {},
   "outputs": [
    {
     "name": "stdout",
     "output_type": "stream",
     "text": [
      "734 + 734 = 1468\n"
     ]
    }
   ],
   "source": [
    "println(\"$T$W$O + $T$W$O = $F$O$U$R\")"
   ]
  },
  {
   "cell_type": "code",
   "execution_count": 4,
   "id": "27355cff",
   "metadata": {},
   "outputs": [
    {
     "name": "stdout",
     "output_type": "stream",
     "text": [
      "# Variables: 9\n",
      "# Constraints: 5\n",
      " - # Equality: 4\n",
      " - # Alldifferent: 1\n",
      "\n",
      "  #Open    #Closed       Incumbent           Best Bound      Time [s] \n",
      "======================================================================\n",
      "    2         0              -              0.0000000000       3.03   \n",
      "    2         4         0.0000000000        0.0000000000       3.78   \n"
     ]
    },
    {
     "data": {
      "text/plain": [
       "true"
      ]
     },
     "execution_count": 4,
     "metadata": {},
     "output_type": "execute_result"
    }
   ],
   "source": [
    "sum = Model(CS.Optimizer);\n",
    "@variable(sum, 1 <= T <= 9, Int);\n",
    "@variable(sum, 0 <= W <= 9, Int);\n",
    "@variable(sum, 0 <= O <= 9, Int);\n",
    "@variable(sum, 1 <= F <= 9, Int);\n",
    "@variable(sum, 0 <= U <= 9, Int);\n",
    "@variable(sum, 0 <= R <= 9, Int);\n",
    "\n",
    "@variable(sum, C1, Bin);\n",
    "@variable(sum, C2, Bin);\n",
    "@variable(sum, C3, Bin);\n",
    "\n",
    "@constraint(sum, [T, W, O, F, U, R] in CS.AllDifferentSet())\n",
    "\n",
    "@constraint(sum, 2 * O == R + 10 * C1);\n",
    "@constraint(sum, 2 * W + C1 == U + 10 * C2);\n",
    "@constraint(sum, 2 * T + C2 == O + 10 * C3);\n",
    "@constraint(sum, C3 == F);\n",
    "\n",
    "optimize!(sum);\n",
    "T = Int(JuMP.value.(T));\n",
    "W = Int(JuMP.value.(W));\n",
    "O = Int(JuMP.value.(O));\n",
    "F = Int(JuMP.value.(F));\n",
    "U = Int(JuMP.value.(U));\n",
    "R = Int(JuMP.value.(R));\n",
    "\n",
    "2 * [100, 10, 1]' * [T, W, O] == [1000, 100, 10, 1]' * [F, O, U, R]"
   ]
  },
  {
   "cell_type": "code",
   "execution_count": 5,
   "id": "88e13c67",
   "metadata": {},
   "outputs": [
    {
     "name": "stdout",
     "output_type": "stream",
     "text": [
      "734 + 734 = 1468\n"
     ]
    }
   ],
   "source": [
    "println(\"$T$W$O + $T$W$O = $F$O$U$R\")"
   ]
  }
 ],
 "metadata": {
  "kernelspec": {
   "display_name": "Julia 1.6.0",
   "language": "julia",
   "name": "julia-1.6"
  },
  "language_info": {
   "file_extension": ".jl",
   "mimetype": "application/julia",
   "name": "julia",
   "version": "1.6.0"
  }
 },
 "nbformat": 4,
 "nbformat_minor": 5
}
